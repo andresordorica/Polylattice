{
 "cells": [
  {
   "cell_type": "code",
   "execution_count": 33,
   "id": "d13729fb",
   "metadata": {},
   "outputs": [],
   "source": [
    "import mbuild as mb\n",
    "import os\n",
    "from parmed import load_file\n",
    "import re\n",
    "from mbuild.lib.atoms import H\n",
    "import numpy as np\n",
    "import random\n",
    "import pubchempy as pcp\n",
    "from rdkit import Chem \n",
    "from Main_functions.crosslink_function import *"
   ]
  },
  {
   "cell_type": "markdown",
   "id": "98fc4231",
   "metadata": {},
   "source": [
    "The following example is based on the work carried out by Chehrazi \n",
    "https://pubs.acs.org/doi/10.1021/acsomega.3c10108\n",
    "\n",
    "<img src=\"images/TETA_TMC.png\">\n"
   ]
  },
  {
   "cell_type": "markdown",
   "id": "0297b453",
   "metadata": {},
   "source": [
    "First step the main amine, TETA (triethylenetetramine) is fetched by name from the PubChem database."
   ]
  },
  {
   "cell_type": "code",
   "execution_count": 34,
   "id": "2afc47d0",
   "metadata": {},
   "outputs": [
    {
     "name": "stdout",
     "output_type": "stream",
     "text": [
      "Base name: triethylenetetramine, SMILES: None, CID: 5565\n",
      "C(CNCCNCCN)N\n"
     ]
    },
    {
     "data": {
      "application/3dmoljs_load.v0": "<div id=\"3dmolviewer_17585739661686475\"  style=\"position: relative; width: 640px; height: 480px;\">\n        <p id=\"3dmolwarning_17585739661686475\" style=\"background-color:#ffcccc;color:black\">3Dmol.js failed to load for some reason.  Please check your browser console for error messages.<br></p>\n        </div>\n<script>\n\nvar loadScriptAsync = function(uri){\n  return new Promise((resolve, reject) => {\n    //this is to ignore the existence of requirejs amd\n    var savedexports, savedmodule;\n    if (typeof exports !== 'undefined') savedexports = exports;\n    else exports = {}\n    if (typeof module !== 'undefined') savedmodule = module;\n    else module = {}\n\n    var tag = document.createElement('script');\n    tag.src = uri;\n    tag.async = true;\n    tag.onload = () => {\n        exports = savedexports;\n        module = savedmodule;\n        resolve();\n    };\n  var firstScriptTag = document.getElementsByTagName('script')[0];\n  firstScriptTag.parentNode.insertBefore(tag, firstScriptTag);\n});\n};\n\nif(typeof $3Dmolpromise === 'undefined') {\n$3Dmolpromise = null;\n  $3Dmolpromise = loadScriptAsync('https://cdnjs.cloudflare.com/ajax/libs/3Dmol/2.2.1-post1/3Dmol-min.js');\n}\n\nvar viewer_17585739661686475 = null;\nvar warn = document.getElementById(\"3dmolwarning_17585739661686475\");\nif(warn) {\n    warn.parentNode.removeChild(warn);\n}\n$3Dmolpromise.then(function() {\nviewer_17585739661686475 = $3Dmol.createViewer(document.getElementById(\"3dmolviewer_17585739661686475\"),{backgroundColor:\"white\"});\nviewer_17585739661686475.zoomTo();\n\tviewer_17585739661686475.addModel(\"@<TRIPOS>MOLECULE\\nRES\\n28 27 1 0 1\\nSMALL\\nNO_CHARGES\\n@<TRIPOS>CRYSIN\\n   15.1440    10.7138    11.2661    90.0000    90.0000    90.0000 1 1\\n@<TRIPOS>ATOM\\n       1 C            0.9955     0.0688    -0.0492 C             1 RES     \\n       2 C            0.4600     1.0034     1.0459 C             1 RES     \\n       3 N           -1.0052     1.0131     1.0427 N             1 RES     \\n       4 C           -1.5020     1.9047     2.0951 C             1 RES     \\n       5 C           -3.0372     1.9161     2.1014 C             1 RES     \\n       6 N           -3.5341     2.8134     3.1481 N             1 RES     \\n       7 C           -4.9990     2.8100     3.1582 C             1 RES     \\n       8 C           -5.5363     3.7425     4.2544 C             1 RES     \\n       9 N           -6.9982     3.7531     4.2638 N             1 RES     \\n      10 N            2.4574     0.0520    -0.0535 N             1 RES     \\n      11 H            0.6345     0.3954    -1.0315 H             1 RES     \\n      12 H            0.6289    -0.9503     0.1168 H             1 RES     \\n      13 H            0.8344     2.0190     0.8678 H             1 RES     \\n      14 H            0.8317     0.6715     2.0234 H             1 RES     \\n      15 H           -1.3443     0.0676     1.2244 H             1 RES     \\n      16 H           -1.1343     2.9236     1.9213 H             1 RES     \\n      17 H           -1.1358     1.5743     3.0753 H             1 RES     \\n      18 H           -3.4044     0.8977     2.2792 H             1 RES     \\n      19 H           -3.4040     2.2423     1.1200 H             1 RES     \\n      20 H           -3.1952     3.7580     2.9691 H             1 RES     \\n      21 H           -5.3673     1.7927     3.3387 H             1 RES     \\n      22 H           -5.3775     3.1389     2.1822 H             1 RES     \\n      23 H           -5.1719     4.7635     4.0905 H             1 RES     \\n      24 H           -5.1731     3.4145     5.2346 H             1 RES     \\n      25 H           -7.3429     4.1010     3.3715 H             1 RES     \\n      26 H           -7.3221     4.4073     4.9755 H             1 RES     \\n      27 H            2.8011     0.9900    -0.2548 H             1 RES     \\n      28 H            2.7797    -0.5389    -0.8191 H             1 RES     \\n@<TRIPOS>BOND\\n       1        1        2 1\\n       2        1       10 1\\n       3        1       11 1\\n       4        1       12 1\\n       5        2        3 1\\n       6        2       13 1\\n       7        2       14 1\\n       8        3        4 1\\n       9        3       15 1\\n      10        4        5 1\\n      11        4       16 1\\n      12        4       17 1\\n      13        5        6 1\\n      14        5       18 1\\n      15        5       19 1\\n      16        6        7 1\\n      17        6       20 1\\n      18        7        8 1\\n      19        7       21 1\\n      20        7       22 1\\n      21        8        9 1\\n      22        8       23 1\\n      23        8       24 1\\n      24        9       25 1\\n      25        9       26 1\\n      26       10       27 1\\n      27       10       28 1\\n@<TRIPOS>SUBSTRUCTURE\\n       1 RES             1 RESIDUE    0 **** ROOT      0\\n\",\"mol2\");\n\tviewer_17585739661686475.setStyle({\"stick\": {\"radius\": 0.18, \"color\": \"grey\"}, \"sphere\": {\"scale\": 0.3, \"colorscheme\": {}}});\n\tviewer_17585739661686475.zoomTo();\nviewer_17585739661686475.render();\n});\n</script>",
      "text/html": [
       "<div id=\"3dmolviewer_17585739661686475\"  style=\"position: relative; width: 640px; height: 480px;\">\n",
       "        <p id=\"3dmolwarning_17585739661686475\" style=\"background-color:#ffcccc;color:black\">3Dmol.js failed to load for some reason.  Please check your browser console for error messages.<br></p>\n",
       "        </div>\n",
       "<script>\n",
       "\n",
       "var loadScriptAsync = function(uri){\n",
       "  return new Promise((resolve, reject) => {\n",
       "    //this is to ignore the existence of requirejs amd\n",
       "    var savedexports, savedmodule;\n",
       "    if (typeof exports !== 'undefined') savedexports = exports;\n",
       "    else exports = {}\n",
       "    if (typeof module !== 'undefined') savedmodule = module;\n",
       "    else module = {}\n",
       "\n",
       "    var tag = document.createElement('script');\n",
       "    tag.src = uri;\n",
       "    tag.async = true;\n",
       "    tag.onload = () => {\n",
       "        exports = savedexports;\n",
       "        module = savedmodule;\n",
       "        resolve();\n",
       "    };\n",
       "  var firstScriptTag = document.getElementsByTagName('script')[0];\n",
       "  firstScriptTag.parentNode.insertBefore(tag, firstScriptTag);\n",
       "});\n",
       "};\n",
       "\n",
       "if(typeof $3Dmolpromise === 'undefined') {\n",
       "$3Dmolpromise = null;\n",
       "  $3Dmolpromise = loadScriptAsync('https://cdnjs.cloudflare.com/ajax/libs/3Dmol/2.2.1-post1/3Dmol-min.js');\n",
       "}\n",
       "\n",
       "var viewer_17585739661686475 = null;\n",
       "var warn = document.getElementById(\"3dmolwarning_17585739661686475\");\n",
       "if(warn) {\n",
       "    warn.parentNode.removeChild(warn);\n",
       "}\n",
       "$3Dmolpromise.then(function() {\n",
       "viewer_17585739661686475 = $3Dmol.createViewer(document.getElementById(\"3dmolviewer_17585739661686475\"),{backgroundColor:\"white\"});\n",
       "viewer_17585739661686475.zoomTo();\n",
       "\tviewer_17585739661686475.addModel(\"@<TRIPOS>MOLECULE\\nRES\\n28 27 1 0 1\\nSMALL\\nNO_CHARGES\\n@<TRIPOS>CRYSIN\\n   15.1440    10.7138    11.2661    90.0000    90.0000    90.0000 1 1\\n@<TRIPOS>ATOM\\n       1 C            0.9955     0.0688    -0.0492 C             1 RES     \\n       2 C            0.4600     1.0034     1.0459 C             1 RES     \\n       3 N           -1.0052     1.0131     1.0427 N             1 RES     \\n       4 C           -1.5020     1.9047     2.0951 C             1 RES     \\n       5 C           -3.0372     1.9161     2.1014 C             1 RES     \\n       6 N           -3.5341     2.8134     3.1481 N             1 RES     \\n       7 C           -4.9990     2.8100     3.1582 C             1 RES     \\n       8 C           -5.5363     3.7425     4.2544 C             1 RES     \\n       9 N           -6.9982     3.7531     4.2638 N             1 RES     \\n      10 N            2.4574     0.0520    -0.0535 N             1 RES     \\n      11 H            0.6345     0.3954    -1.0315 H             1 RES     \\n      12 H            0.6289    -0.9503     0.1168 H             1 RES     \\n      13 H            0.8344     2.0190     0.8678 H             1 RES     \\n      14 H            0.8317     0.6715     2.0234 H             1 RES     \\n      15 H           -1.3443     0.0676     1.2244 H             1 RES     \\n      16 H           -1.1343     2.9236     1.9213 H             1 RES     \\n      17 H           -1.1358     1.5743     3.0753 H             1 RES     \\n      18 H           -3.4044     0.8977     2.2792 H             1 RES     \\n      19 H           -3.4040     2.2423     1.1200 H             1 RES     \\n      20 H           -3.1952     3.7580     2.9691 H             1 RES     \\n      21 H           -5.3673     1.7927     3.3387 H             1 RES     \\n      22 H           -5.3775     3.1389     2.1822 H             1 RES     \\n      23 H           -5.1719     4.7635     4.0905 H             1 RES     \\n      24 H           -5.1731     3.4145     5.2346 H             1 RES     \\n      25 H           -7.3429     4.1010     3.3715 H             1 RES     \\n      26 H           -7.3221     4.4073     4.9755 H             1 RES     \\n      27 H            2.8011     0.9900    -0.2548 H             1 RES     \\n      28 H            2.7797    -0.5389    -0.8191 H             1 RES     \\n@<TRIPOS>BOND\\n       1        1        2 1\\n       2        1       10 1\\n       3        1       11 1\\n       4        1       12 1\\n       5        2        3 1\\n       6        2       13 1\\n       7        2       14 1\\n       8        3        4 1\\n       9        3       15 1\\n      10        4        5 1\\n      11        4       16 1\\n      12        4       17 1\\n      13        5        6 1\\n      14        5       18 1\\n      15        5       19 1\\n      16        6        7 1\\n      17        6       20 1\\n      18        7        8 1\\n      19        7       21 1\\n      20        7       22 1\\n      21        8        9 1\\n      22        8       23 1\\n      23        8       24 1\\n      24        9       25 1\\n      25        9       26 1\\n      26       10       27 1\\n      27       10       28 1\\n@<TRIPOS>SUBSTRUCTURE\\n       1 RES             1 RESIDUE    0 **** ROOT      0\\n\",\"mol2\");\n",
       "\tviewer_17585739661686475.setStyle({\"stick\": {\"radius\": 0.18, \"color\": \"grey\"}, \"sphere\": {\"scale\": 0.3, \"colorscheme\": {}}});\n",
       "\tviewer_17585739661686475.zoomTo();\n",
       "viewer_17585739661686475.render();\n",
       "});\n",
       "</script>"
      ]
     },
     "metadata": {},
     "output_type": "display_data"
    },
    {
     "data": {
      "text/plain": [
       "<py3Dmol.view at 0x7f03deff5e40>"
      ]
     },
     "execution_count": 34,
     "metadata": {},
     "output_type": "execute_result"
    }
   ],
   "source": [
    "_, cid = fetch_and_plug_CR(\"triethylenetetramine\")\n",
    "smiles, _ = get_mol_CR(cid)\n",
    "Polymer_Compound = Build_3D_CR(smiles) \n",
    "Polymer_Compound.visualize()"
   ]
  },
  {
   "cell_type": "markdown",
   "id": "953b82d2",
   "metadata": {},
   "source": [
    "Now the monomer has to be modified by adding the ports and removing a hydrogen from the ends of the TETA chain"
   ]
  },
  {
   "cell_type": "code",
   "execution_count": 35,
   "id": "d66a7a66",
   "metadata": {},
   "outputs": [],
   "source": [
    "ports_to_add_Dummy_atoms_Polymer_Compound = {\n",
    "\n",
    "     \"NH2C\" : [\n",
    "        [\"N\", # The first atom is the \"anchor\" or base atom \n",
    "           \"H\", \"H\", \"C\"], # Bonded atoms to Carbon \n",
    "        [\"H\"], # Atom to remove and create port\n",
    "        [3], # Total number of bonds in carbon atom \n",
    "        ],\n",
    "}"
   ]
  },
  {
   "cell_type": "code",
   "execution_count": 36,
   "id": "0f0756b6",
   "metadata": {},
   "outputs": [
    {
     "name": "stdout",
     "output_type": "stream",
     "text": [
      "\n",
      "\n",
      "Added ports to the molecule\n",
      "\n",
      "\n",
      "Added 2 ports to the molecule\n"
     ]
    }
   ],
   "source": [
    "compound_1_port_PC = Add_port_CR(Polymer_Compound,\n",
    "                                type = \"NH2C\",\n",
    "                                name = \"up\",\n",
    "                                manual_ports= True,\n",
    "                                ports_dict = ports_to_add_Dummy_atoms_Polymer_Compound)    \n",
    "    \n",
    "print(\"Added ports to the molecule\")\n",
    "tmp_cmp_PC = mb.clone(compound_1_port_PC)\n",
    "\n",
    "#Adding second port to the repeat unit        \n",
    "compound_with_2_ports_PC = Add_port_CR(tmp_cmp_PC,\n",
    "                                    type = \"NH2C\",\n",
    "                                    name = \"down\",\n",
    "                                    manual_ports= True,\n",
    "                                    ports_dict = ports_to_add_Dummy_atoms_Polymer_Compound)      \n",
    "print(\"Added 2 ports to the molecule\")"
   ]
  },
  {
   "cell_type": "code",
   "execution_count": 37,
   "id": "05357d18",
   "metadata": {},
   "outputs": [
    {
     "data": {
      "application/3dmoljs_load.v0": "<div id=\"3dmolviewer_1758573966210716\"  style=\"position: relative; width: 640px; height: 480px;\">\n        <p id=\"3dmolwarning_1758573966210716\" style=\"background-color:#ffcccc;color:black\">3Dmol.js failed to load for some reason.  Please check your browser console for error messages.<br></p>\n        </div>\n<script>\n\nvar loadScriptAsync = function(uri){\n  return new Promise((resolve, reject) => {\n    //this is to ignore the existence of requirejs amd\n    var savedexports, savedmodule;\n    if (typeof exports !== 'undefined') savedexports = exports;\n    else exports = {}\n    if (typeof module !== 'undefined') savedmodule = module;\n    else module = {}\n\n    var tag = document.createElement('script');\n    tag.src = uri;\n    tag.async = true;\n    tag.onload = () => {\n        exports = savedexports;\n        module = savedmodule;\n        resolve();\n    };\n  var firstScriptTag = document.getElementsByTagName('script')[0];\n  firstScriptTag.parentNode.insertBefore(tag, firstScriptTag);\n});\n};\n\nif(typeof $3Dmolpromise === 'undefined') {\n$3Dmolpromise = null;\n  $3Dmolpromise = loadScriptAsync('https://cdnjs.cloudflare.com/ajax/libs/3Dmol/2.2.1-post1/3Dmol-min.js');\n}\n\nvar viewer_1758573966210716 = null;\nvar warn = document.getElementById(\"3dmolwarning_1758573966210716\");\nif(warn) {\n    warn.parentNode.removeChild(warn);\n}\n$3Dmolpromise.then(function() {\nviewer_1758573966210716 = $3Dmol.createViewer(document.getElementById(\"3dmolviewer_1758573966210716\"),{backgroundColor:\"white\"});\nviewer_1758573966210716.zoomTo();\n\tviewer_1758573966210716.addModel(\"@<TRIPOS>MOLECULE\\nRES\\n58 25 2 0 1\\nBIOPOLYMER\\nNO_CHARGES\\n@<TRIPOS>CRYSIN\\n   15.1018    10.7138    11.2661    90.0000    90.0000    90.0000 1 1\\n@<TRIPOS>ATOM\\n       1 C            0.9955     0.0688    -0.0492 C             1 RES     \\n       2 C            0.4600     1.0034     1.0459 C             1 RES     \\n       3 N           -1.0052     1.0131     1.0427 N             1 RES     \\n       4 C           -1.5020     1.9047     2.0951 C             1 RES     \\n       5 C           -3.0372     1.9161     2.1014 C             1 RES     \\n       6 N           -3.5341     2.8134     3.1481 N             1 RES     \\n       7 C           -4.9990     2.8100     3.1582 C             1 RES     \\n       8 C           -5.5363     3.7425     4.2544 C             1 RES     \\n       9 N           -6.9982     3.7531     4.2638 N             1 RES     \\n      10 N            2.4574     0.0520    -0.0535 N             1 RES     \\n      11 H            0.6345     0.3954    -1.0315 H             1 RES     \\n      12 H            0.6289    -0.9503     0.1168 H             1 RES     \\n      13 H            0.8344     2.0190     0.8678 H             1 RES     \\n      14 H            0.8317     0.6715     2.0234 H             1 RES     \\n      15 H           -1.3443     0.0676     1.2244 H             1 RES     \\n      16 H           -1.1343     2.9236     1.9213 H             1 RES     \\n      17 H           -1.1358     1.5743     3.0753 H             1 RES     \\n      18 H           -3.4044     0.8977     2.2792 H             1 RES     \\n      19 H           -3.4040     2.2423     1.1200 H             1 RES     \\n      20 H           -3.1952     3.7580     2.9691 H             1 RES     \\n      21 H           -5.3673     1.7927     3.3387 H             1 RES     \\n      22 H           -5.3775     3.1389     2.1822 H             1 RES     \\n      23 H           -5.1719     4.7635     4.0905 H             1 RES     \\n      24 H           -5.1731     3.4145     5.2346 H             1 RES     \\n      25 H           -7.3221     4.4073     4.9755 H             1 RES     \\n      26 H            2.7797    -0.5389    -0.8191 H             1 RES     \\n      27 VS          -7.1277     3.9306     3.7740 VS            2 PRT     \\n      28 VS          -7.1955     3.9990     3.5987 VS            2 PRT     \\n      29 VS          -7.2768     3.8287     3.9059 VS            2 PRT     \\n      30 VS          -7.0821     3.9499     3.9920 VS            2 PRT     \\n      31 VS          -7.1095     3.9235     3.8212 VS            2 PRT     \\n      32 VS          -7.0418     3.8551     3.9965 VS            2 PRT     \\n      33 VS          -7.3085     4.0254     3.8238 VS            2 PRT     \\n      34 VS          -7.2224     3.9042     3.6291 VS            2 PRT     \\n      35 VS           2.6839     0.5222    -0.1819 VS            2 PRT     \\n      36 VS           2.7513     0.7063    -0.2214 VS            2 PRT     \\n      37 VS           2.4620     0.4976    -0.1690 VS            2 PRT     \\n      38 VS           2.6199     0.3579    -0.0444 VS            2 PRT     \\n      39 VS           2.5784     0.5198    -0.1201 VS            2 PRT     \\n      40 VS           2.5109     0.3357    -0.0806 VS            2 PRT     \\n      41 VS           2.6981     0.5444    -0.3074 VS            2 PRT     \\n      42 VS           2.7296     0.6841    -0.1087 VS            2 PRT     \\n      43 VS          -7.3001     4.1046     3.3278 VS            2 PRT     \\n      44 VS          -7.3679     4.1729     3.1525 VS            2 PRT     \\n      45 VS          -7.4492     4.0026     3.4598 VS            2 PRT     \\n      46 VS          -7.2545     4.1239     3.5459 VS            2 PRT     \\n      47 VS          -7.2819     4.0974     3.3751 VS            2 PRT     \\n      48 VS          -7.2141     4.0291     3.5504 VS            2 PRT     \\n      49 VS          -7.4809     4.1994     3.3776 VS            2 PRT     \\n      50 VS          -7.3947     4.0781     3.1830 VS            2 PRT     \\n      51 VS           2.8557     0.9912    -0.2825 VS            2 PRT     \\n      52 VS           2.9232     1.1753    -0.3221 VS            2 PRT     \\n      53 VS           2.6338     0.9666    -0.2697 VS            2 PRT     \\n      54 VS           2.7917     0.8269    -0.1451 VS            2 PRT     \\n      55 VS           2.7502     0.9888    -0.2208 VS            2 PRT     \\n      56 VS           2.6828     0.8047    -0.1812 VS            2 PRT     \\n      57 VS           2.8699     1.0134    -0.4080 VS            2 PRT     \\n      58 VS           2.9015     1.1531    -0.2094 VS            2 PRT     \\n@<TRIPOS>BOND\\n       1        1        2 1\\n       2        1       10 1\\n       3        1       11 1\\n       4        1       12 1\\n       5        2        3 1\\n       6        2       13 1\\n       7        2       14 1\\n       8        3        4 1\\n       9        3       15 1\\n      10        4        5 1\\n      11        4       16 1\\n      12        4       17 1\\n      13        5        6 1\\n      14        5       18 1\\n      15        5       19 1\\n      16        6        7 1\\n      17        6       20 1\\n      18        7        8 1\\n      19        7       21 1\\n      20        7       22 1\\n      21        8        9 1\\n      22        8       23 1\\n      23        8       24 1\\n      24        9       25 1\\n      25       10       26 1\\n@<TRIPOS>SUBSTRUCTURE\\n       1 RES             1 RESIDUE    0 **** ROOT      0\\n       2 PRT            27 RESIDUE    0 **** ROOT      0\\n\",\"mol2\");\n\tviewer_1758573966210716.setStyle({\"stick\": {\"radius\": 0.18, \"color\": \"grey\"}, \"sphere\": {\"scale\": 0.3, \"colorscheme\": {}}});\n\tviewer_1758573966210716.zoomTo();\nviewer_1758573966210716.render();\n});\n</script>",
      "text/html": [
       "<div id=\"3dmolviewer_1758573966210716\"  style=\"position: relative; width: 640px; height: 480px;\">\n",
       "        <p id=\"3dmolwarning_1758573966210716\" style=\"background-color:#ffcccc;color:black\">3Dmol.js failed to load for some reason.  Please check your browser console for error messages.<br></p>\n",
       "        </div>\n",
       "<script>\n",
       "\n",
       "var loadScriptAsync = function(uri){\n",
       "  return new Promise((resolve, reject) => {\n",
       "    //this is to ignore the existence of requirejs amd\n",
       "    var savedexports, savedmodule;\n",
       "    if (typeof exports !== 'undefined') savedexports = exports;\n",
       "    else exports = {}\n",
       "    if (typeof module !== 'undefined') savedmodule = module;\n",
       "    else module = {}\n",
       "\n",
       "    var tag = document.createElement('script');\n",
       "    tag.src = uri;\n",
       "    tag.async = true;\n",
       "    tag.onload = () => {\n",
       "        exports = savedexports;\n",
       "        module = savedmodule;\n",
       "        resolve();\n",
       "    };\n",
       "  var firstScriptTag = document.getElementsByTagName('script')[0];\n",
       "  firstScriptTag.parentNode.insertBefore(tag, firstScriptTag);\n",
       "});\n",
       "};\n",
       "\n",
       "if(typeof $3Dmolpromise === 'undefined') {\n",
       "$3Dmolpromise = null;\n",
       "  $3Dmolpromise = loadScriptAsync('https://cdnjs.cloudflare.com/ajax/libs/3Dmol/2.2.1-post1/3Dmol-min.js');\n",
       "}\n",
       "\n",
       "var viewer_1758573966210716 = null;\n",
       "var warn = document.getElementById(\"3dmolwarning_1758573966210716\");\n",
       "if(warn) {\n",
       "    warn.parentNode.removeChild(warn);\n",
       "}\n",
       "$3Dmolpromise.then(function() {\n",
       "viewer_1758573966210716 = $3Dmol.createViewer(document.getElementById(\"3dmolviewer_1758573966210716\"),{backgroundColor:\"white\"});\n",
       "viewer_1758573966210716.zoomTo();\n",
       "\tviewer_1758573966210716.addModel(\"@<TRIPOS>MOLECULE\\nRES\\n58 25 2 0 1\\nBIOPOLYMER\\nNO_CHARGES\\n@<TRIPOS>CRYSIN\\n   15.1018    10.7138    11.2661    90.0000    90.0000    90.0000 1 1\\n@<TRIPOS>ATOM\\n       1 C            0.9955     0.0688    -0.0492 C             1 RES     \\n       2 C            0.4600     1.0034     1.0459 C             1 RES     \\n       3 N           -1.0052     1.0131     1.0427 N             1 RES     \\n       4 C           -1.5020     1.9047     2.0951 C             1 RES     \\n       5 C           -3.0372     1.9161     2.1014 C             1 RES     \\n       6 N           -3.5341     2.8134     3.1481 N             1 RES     \\n       7 C           -4.9990     2.8100     3.1582 C             1 RES     \\n       8 C           -5.5363     3.7425     4.2544 C             1 RES     \\n       9 N           -6.9982     3.7531     4.2638 N             1 RES     \\n      10 N            2.4574     0.0520    -0.0535 N             1 RES     \\n      11 H            0.6345     0.3954    -1.0315 H             1 RES     \\n      12 H            0.6289    -0.9503     0.1168 H             1 RES     \\n      13 H            0.8344     2.0190     0.8678 H             1 RES     \\n      14 H            0.8317     0.6715     2.0234 H             1 RES     \\n      15 H           -1.3443     0.0676     1.2244 H             1 RES     \\n      16 H           -1.1343     2.9236     1.9213 H             1 RES     \\n      17 H           -1.1358     1.5743     3.0753 H             1 RES     \\n      18 H           -3.4044     0.8977     2.2792 H             1 RES     \\n      19 H           -3.4040     2.2423     1.1200 H             1 RES     \\n      20 H           -3.1952     3.7580     2.9691 H             1 RES     \\n      21 H           -5.3673     1.7927     3.3387 H             1 RES     \\n      22 H           -5.3775     3.1389     2.1822 H             1 RES     \\n      23 H           -5.1719     4.7635     4.0905 H             1 RES     \\n      24 H           -5.1731     3.4145     5.2346 H             1 RES     \\n      25 H           -7.3221     4.4073     4.9755 H             1 RES     \\n      26 H            2.7797    -0.5389    -0.8191 H             1 RES     \\n      27 VS          -7.1277     3.9306     3.7740 VS            2 PRT     \\n      28 VS          -7.1955     3.9990     3.5987 VS            2 PRT     \\n      29 VS          -7.2768     3.8287     3.9059 VS            2 PRT     \\n      30 VS          -7.0821     3.9499     3.9920 VS            2 PRT     \\n      31 VS          -7.1095     3.9235     3.8212 VS            2 PRT     \\n      32 VS          -7.0418     3.8551     3.9965 VS            2 PRT     \\n      33 VS          -7.3085     4.0254     3.8238 VS            2 PRT     \\n      34 VS          -7.2224     3.9042     3.6291 VS            2 PRT     \\n      35 VS           2.6839     0.5222    -0.1819 VS            2 PRT     \\n      36 VS           2.7513     0.7063    -0.2214 VS            2 PRT     \\n      37 VS           2.4620     0.4976    -0.1690 VS            2 PRT     \\n      38 VS           2.6199     0.3579    -0.0444 VS            2 PRT     \\n      39 VS           2.5784     0.5198    -0.1201 VS            2 PRT     \\n      40 VS           2.5109     0.3357    -0.0806 VS            2 PRT     \\n      41 VS           2.6981     0.5444    -0.3074 VS            2 PRT     \\n      42 VS           2.7296     0.6841    -0.1087 VS            2 PRT     \\n      43 VS          -7.3001     4.1046     3.3278 VS            2 PRT     \\n      44 VS          -7.3679     4.1729     3.1525 VS            2 PRT     \\n      45 VS          -7.4492     4.0026     3.4598 VS            2 PRT     \\n      46 VS          -7.2545     4.1239     3.5459 VS            2 PRT     \\n      47 VS          -7.2819     4.0974     3.3751 VS            2 PRT     \\n      48 VS          -7.2141     4.0291     3.5504 VS            2 PRT     \\n      49 VS          -7.4809     4.1994     3.3776 VS            2 PRT     \\n      50 VS          -7.3947     4.0781     3.1830 VS            2 PRT     \\n      51 VS           2.8557     0.9912    -0.2825 VS            2 PRT     \\n      52 VS           2.9232     1.1753    -0.3221 VS            2 PRT     \\n      53 VS           2.6338     0.9666    -0.2697 VS            2 PRT     \\n      54 VS           2.7917     0.8269    -0.1451 VS            2 PRT     \\n      55 VS           2.7502     0.9888    -0.2208 VS            2 PRT     \\n      56 VS           2.6828     0.8047    -0.1812 VS            2 PRT     \\n      57 VS           2.8699     1.0134    -0.4080 VS            2 PRT     \\n      58 VS           2.9015     1.1531    -0.2094 VS            2 PRT     \\n@<TRIPOS>BOND\\n       1        1        2 1\\n       2        1       10 1\\n       3        1       11 1\\n       4        1       12 1\\n       5        2        3 1\\n       6        2       13 1\\n       7        2       14 1\\n       8        3        4 1\\n       9        3       15 1\\n      10        4        5 1\\n      11        4       16 1\\n      12        4       17 1\\n      13        5        6 1\\n      14        5       18 1\\n      15        5       19 1\\n      16        6        7 1\\n      17        6       20 1\\n      18        7        8 1\\n      19        7       21 1\\n      20        7       22 1\\n      21        8        9 1\\n      22        8       23 1\\n      23        8       24 1\\n      24        9       25 1\\n      25       10       26 1\\n@<TRIPOS>SUBSTRUCTURE\\n       1 RES             1 RESIDUE    0 **** ROOT      0\\n       2 PRT            27 RESIDUE    0 **** ROOT      0\\n\",\"mol2\");\n",
       "\tviewer_1758573966210716.setStyle({\"stick\": {\"radius\": 0.18, \"color\": \"grey\"}, \"sphere\": {\"scale\": 0.3, \"colorscheme\": {}}});\n",
       "\tviewer_1758573966210716.zoomTo();\n",
       "viewer_1758573966210716.render();\n",
       "});\n",
       "</script>"
      ]
     },
     "metadata": {},
     "output_type": "display_data"
    },
    {
     "data": {
      "text/plain": [
       "<py3Dmol.view at 0x7f03d6831480>"
      ]
     },
     "execution_count": 37,
     "metadata": {},
     "output_type": "execute_result"
    }
   ],
   "source": [
    "compound_with_2_ports_PC.visualize(show_ports=True)"
   ]
  },
  {
   "cell_type": "markdown",
   "id": "68511e66",
   "metadata": {},
   "source": [
    "After adding the ports to the polymer monomer, now the Trimesoyl Chloride (TMC) is loaded and the ports are added"
   ]
  },
  {
   "cell_type": "code",
   "execution_count": 38,
   "id": "afa3c067",
   "metadata": {},
   "outputs": [
    {
     "name": "stdout",
     "output_type": "stream",
     "text": [
      "Base name: trimesoyl chloride, SMILES: None, CID: 78138\n",
      "C1=C(C=C(C=C1C(=O)Cl)C(=O)Cl)C(=O)Cl\n"
     ]
    }
   ],
   "source": [
    "_, cid = fetch_and_plug_CR(\"trimesoyl chloride\")\n",
    "smiles, _ = get_mol_CR(cid)\n",
    "TMC = Build_3D_CR(smiles) \n",
    "TMC.visualize()\n",
    "tmc_c = mb.clone(TMC)"
   ]
  },
  {
   "cell_type": "code",
   "execution_count": 40,
   "id": "38d614cf",
   "metadata": {},
   "outputs": [],
   "source": [
    "ports_to_add_Dummy_atoms_TMC = {\n",
    "\n",
    "     \"C_Cl\" : [\n",
    "        [\"C\", # The first atom is the \"anchor\" or base atom \n",
    "        \"C\", \"O\",\"Cl\"], # Bonded atoms to Carbon \n",
    "        [\"Cl\"], # Atom to remove and create port\n",
    "        [3], # Total number of bonds in carbon atom \n",
    "        ],\n",
    "}"
   ]
  },
  {
   "cell_type": "code",
   "execution_count": 41,
   "id": "702a2d40",
   "metadata": {},
   "outputs": [
    {
     "name": "stdout",
     "output_type": "stream",
     "text": [
      "\n",
      "\n",
      "\n",
      "\n",
      "\n",
      "\n",
      "Added ports to the molecule\n",
      "\n",
      "\n",
      "\n",
      "\n",
      "\n",
      "\n",
      "Added 2 ports to the molecule\n"
     ]
    }
   ],
   "source": [
    "compound_1_port_TMC = Add_port_CR(tmc_c,\n",
    "                                type = \"C_Cl\",\n",
    "                                name = \"up\",\n",
    "                                manual_ports= True,\n",
    "                                ports_dict = ports_to_add_Dummy_atoms_TMC)    \n",
    "    \n",
    "print(\"Added ports to the molecule\")\n",
    "tmp_cmp_TMC = mb.clone(compound_1_port_TMC)\n",
    "\n",
    "#Adding second port to the repeat unit        \n",
    "compound_with_2_ports_TMC = Add_port_CR(tmp_cmp_TMC,\n",
    "                                    type = \"C_Cl\",\n",
    "                                    name = \"down\",\n",
    "                                    manual_ports= True,\n",
    "                                    ports_dict = ports_to_add_Dummy_atoms_TMC)      \n",
    "print(\"Added 2 ports to the molecule\")"
   ]
  },
  {
   "cell_type": "code",
   "execution_count": 42,
   "id": "be4e2d59",
   "metadata": {},
   "outputs": [
    {
     "data": {
      "application/3dmoljs_load.v0": "<div id=\"3dmolviewer_17585739668206363\"  style=\"position: relative; width: 640px; height: 480px;\">\n        <p id=\"3dmolwarning_17585739668206363\" style=\"background-color:#ffcccc;color:black\">3Dmol.js failed to load for some reason.  Please check your browser console for error messages.<br></p>\n        </div>\n<script>\n\nvar loadScriptAsync = function(uri){\n  return new Promise((resolve, reject) => {\n    //this is to ignore the existence of requirejs amd\n    var savedexports, savedmodule;\n    if (typeof exports !== 'undefined') savedexports = exports;\n    else exports = {}\n    if (typeof module !== 'undefined') savedmodule = module;\n    else module = {}\n\n    var tag = document.createElement('script');\n    tag.src = uri;\n    tag.async = true;\n    tag.onload = () => {\n        exports = savedexports;\n        module = savedmodule;\n        resolve();\n    };\n  var firstScriptTag = document.getElementsByTagName('script')[0];\n  firstScriptTag.parentNode.insertBefore(tag, firstScriptTag);\n});\n};\n\nif(typeof $3Dmolpromise === 'undefined') {\n$3Dmolpromise = null;\n  $3Dmolpromise = loadScriptAsync('https://cdnjs.cloudflare.com/ajax/libs/3Dmol/2.2.1-post1/3Dmol-min.js');\n}\n\nvar viewer_17585739668206363 = null;\nvar warn = document.getElementById(\"3dmolwarning_17585739668206363\");\nif(warn) {\n    warn.parentNode.removeChild(warn);\n}\n$3Dmolpromise.then(function() {\nviewer_17585739668206363 = $3Dmol.createViewer(document.getElementById(\"3dmolviewer_17585739668206363\"),{backgroundColor:\"white\"});\nviewer_17585739668206363.zoomTo();\n\tviewer_17585739668206363.addModel(\"@<TRIPOS>MOLECULE\\nRES\\n48 16 2 0 1\\nBIOPOLYMER\\nNO_CHARGES\\n@<TRIPOS>CRYSIN\\n   11.7393    12.0023     5.4770    90.0000    90.0000    90.0000 1 1\\n@<TRIPOS>ATOM\\n       1 C            1.3917    -0.2095     0.0144 C             1 RES     \\n       2 C            0.8871     1.0968    -0.0305 C             1 RES     \\n       3 C           -0.5019     1.2981     0.0161 C             1 RES     \\n       4 C           -1.3873     0.2075    -0.0180 C             1 RES     \\n       5 C           -0.8656    -1.0935    -0.0063 C             1 RES     \\n       6 C            0.5234    -1.3092     0.0158 C             1 RES     \\n       7 C            1.0466    -2.7164    -0.0299 C             1 RES     \\n       8 O            0.2091    -3.6182    -0.0664 O             1 RES     \\n       9 C           -2.8613     0.4678    -0.1588 C             1 RES     \\n      10 O           -3.2193     1.6452    -0.1834 O             1 RES     \\n      11 C            1.7977     2.2742    -0.2397 C             1 RES     \\n      12 O            1.2703     3.3842    -0.3148 O             1 RES     \\n      13 Cl           3.5200     2.0215    -0.4392 Cl            1 RES     \\n      14 H            2.4653    -0.3708     0.0237 H             1 RES     \\n      15 H           -0.8984     2.3155     0.0377 H             1 RES     \\n      16 H           -1.5284    -1.9577    -0.0319 H             1 RES     \\n      17 VS           1.9248    -2.9170    -0.0659 VS            2 PRT     \\n      18 VS           2.1219    -2.9506    -0.0685 VS            2 PRT     \\n      19 VS           1.8597    -2.7031    -0.0677 VS            2 PRT     \\n      20 VS           1.7292    -2.8821     0.0367 VS            2 PRT     \\n      21 VS           1.8924    -2.8094    -0.0655 VS            2 PRT     \\n      22 VS           1.6952    -2.7758    -0.0629 VS            2 PRT     \\n      23 VS           1.9574    -3.0233    -0.0690 VS            2 PRT     \\n      24 VS           2.0906    -2.8443     0.0319 VS            2 PRT     \\n      25 VS          -3.4640    -0.1910    -0.2833 VS            2 PRT     \\n      26 VS          -3.5914    -0.3439    -0.3027 VS            2 PRT     \\n      27 VS          -3.2553    -0.2419    -0.2210 VS            2 PRT     \\n      28 VS          -3.3629    -0.0283    -0.1679 VS            2 PRT     \\n      29 VS          -3.3631    -0.2116    -0.2679 VS            2 PRT     \\n      30 VS          -3.2357    -0.0586    -0.2485 VS            2 PRT     \\n      31 VS          -3.5808    -0.1607    -0.2706 VS            2 PRT     \\n      32 VS          -3.4940    -0.3742    -0.1879 VS            2 PRT     \\n      33 VS           2.7870    -3.0638    -0.0774 VS            2 PRT     \\n      34 VS           2.9842    -3.0973    -0.0800 VS            2 PRT     \\n      35 VS           2.7220    -2.8499    -0.0792 VS            2 PRT     \\n      36 VS           2.5914    -3.0289     0.0252 VS            2 PRT     \\n      37 VS           2.7546    -2.9562    -0.0769 VS            2 PRT     \\n      38 VS           2.5575    -2.9226    -0.0743 VS            2 PRT     \\n      39 VS           2.8196    -3.1701    -0.0804 VS            2 PRT     \\n      40 VS           2.9529    -2.9910     0.0204 VS            2 PRT     \\n      41 VS          -4.0211    -0.8601    -0.3683 VS            2 PRT     \\n      42 VS          -4.1485    -1.0130    -0.3877 VS            2 PRT     \\n      43 VS          -3.8125    -0.9110    -0.3060 VS            2 PRT     \\n      44 VS          -3.9200    -0.6974    -0.2529 VS            2 PRT     \\n      45 VS          -3.9202    -0.8807    -0.3529 VS            2 PRT     \\n      46 VS          -3.7929    -0.7277    -0.3335 VS            2 PRT     \\n      47 VS          -4.1379    -0.8298    -0.3556 VS            2 PRT     \\n      48 VS          -4.0511    -1.0433    -0.2729 VS            2 PRT     \\n@<TRIPOS>BOND\\n       1        1        2 1\\n       2        1        6 1\\n       3        1       14 1\\n       4        2        3 1\\n       5        2       11 1\\n       6        3        4 1\\n       7        3       15 1\\n       8        4        5 1\\n       9        4        9 1\\n      10        5        6 1\\n      11        5       16 1\\n      12        6        7 1\\n      13        7        8 1\\n      14        9       10 1\\n      15       11       12 1\\n      16       11       13 1\\n@<TRIPOS>SUBSTRUCTURE\\n       1 RES             1 RESIDUE    0 **** ROOT      0\\n       2 PRT            17 RESIDUE    0 **** ROOT      0\\n\",\"mol2\");\n\tviewer_17585739668206363.setStyle({\"stick\": {\"radius\": 0.18, \"color\": \"grey\"}, \"sphere\": {\"scale\": 0.3, \"colorscheme\": {}}});\n\tviewer_17585739668206363.zoomTo();\nviewer_17585739668206363.render();\n});\n</script>",
      "text/html": [
       "<div id=\"3dmolviewer_17585739668206363\"  style=\"position: relative; width: 640px; height: 480px;\">\n",
       "        <p id=\"3dmolwarning_17585739668206363\" style=\"background-color:#ffcccc;color:black\">3Dmol.js failed to load for some reason.  Please check your browser console for error messages.<br></p>\n",
       "        </div>\n",
       "<script>\n",
       "\n",
       "var loadScriptAsync = function(uri){\n",
       "  return new Promise((resolve, reject) => {\n",
       "    //this is to ignore the existence of requirejs amd\n",
       "    var savedexports, savedmodule;\n",
       "    if (typeof exports !== 'undefined') savedexports = exports;\n",
       "    else exports = {}\n",
       "    if (typeof module !== 'undefined') savedmodule = module;\n",
       "    else module = {}\n",
       "\n",
       "    var tag = document.createElement('script');\n",
       "    tag.src = uri;\n",
       "    tag.async = true;\n",
       "    tag.onload = () => {\n",
       "        exports = savedexports;\n",
       "        module = savedmodule;\n",
       "        resolve();\n",
       "    };\n",
       "  var firstScriptTag = document.getElementsByTagName('script')[0];\n",
       "  firstScriptTag.parentNode.insertBefore(tag, firstScriptTag);\n",
       "});\n",
       "};\n",
       "\n",
       "if(typeof $3Dmolpromise === 'undefined') {\n",
       "$3Dmolpromise = null;\n",
       "  $3Dmolpromise = loadScriptAsync('https://cdnjs.cloudflare.com/ajax/libs/3Dmol/2.2.1-post1/3Dmol-min.js');\n",
       "}\n",
       "\n",
       "var viewer_17585739668206363 = null;\n",
       "var warn = document.getElementById(\"3dmolwarning_17585739668206363\");\n",
       "if(warn) {\n",
       "    warn.parentNode.removeChild(warn);\n",
       "}\n",
       "$3Dmolpromise.then(function() {\n",
       "viewer_17585739668206363 = $3Dmol.createViewer(document.getElementById(\"3dmolviewer_17585739668206363\"),{backgroundColor:\"white\"});\n",
       "viewer_17585739668206363.zoomTo();\n",
       "\tviewer_17585739668206363.addModel(\"@<TRIPOS>MOLECULE\\nRES\\n48 16 2 0 1\\nBIOPOLYMER\\nNO_CHARGES\\n@<TRIPOS>CRYSIN\\n   11.7393    12.0023     5.4770    90.0000    90.0000    90.0000 1 1\\n@<TRIPOS>ATOM\\n       1 C            1.3917    -0.2095     0.0144 C             1 RES     \\n       2 C            0.8871     1.0968    -0.0305 C             1 RES     \\n       3 C           -0.5019     1.2981     0.0161 C             1 RES     \\n       4 C           -1.3873     0.2075    -0.0180 C             1 RES     \\n       5 C           -0.8656    -1.0935    -0.0063 C             1 RES     \\n       6 C            0.5234    -1.3092     0.0158 C             1 RES     \\n       7 C            1.0466    -2.7164    -0.0299 C             1 RES     \\n       8 O            0.2091    -3.6182    -0.0664 O             1 RES     \\n       9 C           -2.8613     0.4678    -0.1588 C             1 RES     \\n      10 O           -3.2193     1.6452    -0.1834 O             1 RES     \\n      11 C            1.7977     2.2742    -0.2397 C             1 RES     \\n      12 O            1.2703     3.3842    -0.3148 O             1 RES     \\n      13 Cl           3.5200     2.0215    -0.4392 Cl            1 RES     \\n      14 H            2.4653    -0.3708     0.0237 H             1 RES     \\n      15 H           -0.8984     2.3155     0.0377 H             1 RES     \\n      16 H           -1.5284    -1.9577    -0.0319 H             1 RES     \\n      17 VS           1.9248    -2.9170    -0.0659 VS            2 PRT     \\n      18 VS           2.1219    -2.9506    -0.0685 VS            2 PRT     \\n      19 VS           1.8597    -2.7031    -0.0677 VS            2 PRT     \\n      20 VS           1.7292    -2.8821     0.0367 VS            2 PRT     \\n      21 VS           1.8924    -2.8094    -0.0655 VS            2 PRT     \\n      22 VS           1.6952    -2.7758    -0.0629 VS            2 PRT     \\n      23 VS           1.9574    -3.0233    -0.0690 VS            2 PRT     \\n      24 VS           2.0906    -2.8443     0.0319 VS            2 PRT     \\n      25 VS          -3.4640    -0.1910    -0.2833 VS            2 PRT     \\n      26 VS          -3.5914    -0.3439    -0.3027 VS            2 PRT     \\n      27 VS          -3.2553    -0.2419    -0.2210 VS            2 PRT     \\n      28 VS          -3.3629    -0.0283    -0.1679 VS            2 PRT     \\n      29 VS          -3.3631    -0.2116    -0.2679 VS            2 PRT     \\n      30 VS          -3.2357    -0.0586    -0.2485 VS            2 PRT     \\n      31 VS          -3.5808    -0.1607    -0.2706 VS            2 PRT     \\n      32 VS          -3.4940    -0.3742    -0.1879 VS            2 PRT     \\n      33 VS           2.7870    -3.0638    -0.0774 VS            2 PRT     \\n      34 VS           2.9842    -3.0973    -0.0800 VS            2 PRT     \\n      35 VS           2.7220    -2.8499    -0.0792 VS            2 PRT     \\n      36 VS           2.5914    -3.0289     0.0252 VS            2 PRT     \\n      37 VS           2.7546    -2.9562    -0.0769 VS            2 PRT     \\n      38 VS           2.5575    -2.9226    -0.0743 VS            2 PRT     \\n      39 VS           2.8196    -3.1701    -0.0804 VS            2 PRT     \\n      40 VS           2.9529    -2.9910     0.0204 VS            2 PRT     \\n      41 VS          -4.0211    -0.8601    -0.3683 VS            2 PRT     \\n      42 VS          -4.1485    -1.0130    -0.3877 VS            2 PRT     \\n      43 VS          -3.8125    -0.9110    -0.3060 VS            2 PRT     \\n      44 VS          -3.9200    -0.6974    -0.2529 VS            2 PRT     \\n      45 VS          -3.9202    -0.8807    -0.3529 VS            2 PRT     \\n      46 VS          -3.7929    -0.7277    -0.3335 VS            2 PRT     \\n      47 VS          -4.1379    -0.8298    -0.3556 VS            2 PRT     \\n      48 VS          -4.0511    -1.0433    -0.2729 VS            2 PRT     \\n@<TRIPOS>BOND\\n       1        1        2 1\\n       2        1        6 1\\n       3        1       14 1\\n       4        2        3 1\\n       5        2       11 1\\n       6        3        4 1\\n       7        3       15 1\\n       8        4        5 1\\n       9        4        9 1\\n      10        5        6 1\\n      11        5       16 1\\n      12        6        7 1\\n      13        7        8 1\\n      14        9       10 1\\n      15       11       12 1\\n      16       11       13 1\\n@<TRIPOS>SUBSTRUCTURE\\n       1 RES             1 RESIDUE    0 **** ROOT      0\\n       2 PRT            17 RESIDUE    0 **** ROOT      0\\n\",\"mol2\");\n",
       "\tviewer_17585739668206363.setStyle({\"stick\": {\"radius\": 0.18, \"color\": \"grey\"}, \"sphere\": {\"scale\": 0.3, \"colorscheme\": {}}});\n",
       "\tviewer_17585739668206363.zoomTo();\n",
       "viewer_17585739668206363.render();\n",
       "});\n",
       "</script>"
      ]
     },
     "metadata": {},
     "output_type": "display_data"
    },
    {
     "data": {
      "text/plain": [
       "<py3Dmol.view at 0x7f03d6da7970>"
      ]
     },
     "execution_count": 42,
     "metadata": {},
     "output_type": "execute_result"
    }
   ],
   "source": [
    "compound_with_2_ports_TMC.visualize(show_ports = True)"
   ]
  },
  {
   "cell_type": "markdown",
   "id": "1f383949",
   "metadata": {},
   "source": [
    "Now the polymer is built with the combination of both molecules using mbuild's functionality for co-polymers"
   ]
  },
  {
   "cell_type": "code",
   "execution_count": 43,
   "id": "4cd55cc1",
   "metadata": {},
   "outputs": [],
   "source": [
    "repeat_units_AB_copolymer = 5"
   ]
  },
  {
   "cell_type": "code",
   "execution_count": 44,
   "id": "c842cd62",
   "metadata": {},
   "outputs": [
    {
     "data": {
      "application/3dmoljs_load.v0": "<div id=\"3dmolviewer_17585741200054698\"  style=\"position: relative; width: 640px; height: 480px;\">\n        <p id=\"3dmolwarning_17585741200054698\" style=\"background-color:#ffcccc;color:black\">3Dmol.js failed to load for some reason.  Please check your browser console for error messages.<br></p>\n        </div>\n<script>\n\nvar loadScriptAsync = function(uri){\n  return new Promise((resolve, reject) => {\n    //this is to ignore the existence of requirejs amd\n    var savedexports, savedmodule;\n    if (typeof exports !== 'undefined') savedexports = exports;\n    else exports = {}\n    if (typeof module !== 'undefined') savedmodule = module;\n    else module = {}\n\n    var tag = document.createElement('script');\n    tag.src = uri;\n    tag.async = true;\n    tag.onload = () => {\n        exports = savedexports;\n        module = savedmodule;\n        resolve();\n    };\n  var firstScriptTag = document.getElementsByTagName('script')[0];\n  firstScriptTag.parentNode.insertBefore(tag, firstScriptTag);\n});\n};\n\nif(typeof $3Dmolpromise === 'undefined') {\n$3Dmolpromise = null;\n  $3Dmolpromise = loadScriptAsync('https://cdnjs.cloudflare.com/ajax/libs/3Dmol/2.2.1-post1/3Dmol-min.js');\n}\n\nvar viewer_17585741200054698 = null;\nvar warn = document.getElementById(\"3dmolwarning_17585741200054698\");\nif(warn) {\n    warn.parentNode.removeChild(warn);\n}\n$3Dmolpromise.then(function() {\nviewer_17585741200054698 = $3Dmol.createViewer(document.getElementById(\"3dmolviewer_17585741200054698\"),{backgroundColor:\"white\"});\nviewer_17585741200054698.zoomTo();\n\tviewer_17585741200054698.addModel(\"@<TRIPOS>MOLECULE\\nRES\\n212 216 1 0 1\\nSMALL\\nNO_CHARGES\\n@<TRIPOS>CRYSIN\\n   60.7229    22.8845    55.1047    90.0000    90.0000    90.0000 1 1\\n@<TRIPOS>ATOM\\n       1 C            0.9955     0.0688    -0.0492 C             1 RES     \\n       2 C            0.4600     1.0034     1.0459 C             1 RES     \\n       3 N           -1.0052     1.0131     1.0427 N             1 RES     \\n       4 C           -1.5020     1.9047     2.0951 C             1 RES     \\n       5 C           -3.0372     1.9161     2.1014 C             1 RES     \\n       6 N           -3.5341     2.8134     3.1481 N             1 RES     \\n       7 C           -4.9990     2.8100     3.1582 C             1 RES     \\n       8 C           -5.5363     3.7425     4.2544 C             1 RES     \\n       9 N           -6.9982     3.7531     4.2638 N             1 RES     \\n      10 N            2.4574     0.0520    -0.0535 N             1 RES     \\n      11 H            0.6345     0.3954    -1.0315 H             1 RES     \\n      12 H            0.6289    -0.9503     0.1168 H             1 RES     \\n      13 H            0.8344     2.0190     0.8678 H             1 RES     \\n      14 H            0.8317     0.6715     2.0234 H             1 RES     \\n      15 H           -1.3443     0.0676     1.2244 H             1 RES     \\n      16 H           -1.1343     2.9236     1.9213 H             1 RES     \\n      17 H           -1.1358     1.5743     3.0753 H             1 RES     \\n      18 H           -3.4044     0.8977     2.2792 H             1 RES     \\n      19 H           -3.4040     2.2423     1.1200 H             1 RES     \\n      20 H           -3.1952     3.7580     2.9691 H             1 RES     \\n      21 H           -5.3673     1.7927     3.3387 H             1 RES     \\n      22 H           -5.3775     3.1389     2.1822 H             1 RES     \\n      23 H           -5.1719     4.7635     4.0905 H             1 RES     \\n      24 H           -5.1731     3.4145     5.2346 H             1 RES     \\n      25 H           -7.3221     4.4073     4.9755 H             1 RES     \\n      26 H            2.7797    -0.5389    -0.8191 H             1 RES     \\n      27 C            5.7987     1.8249    -0.5137 C             1 RES     \\n      28 C            7.1691     2.0651    -0.6796 C             1 RES     \\n      29 C            7.6111     3.3742    -0.9301 C             1 RES     \\n      30 C            6.6910     4.4157    -1.1378 C             1 RES     \\n      31 C            5.3212     4.1513    -1.0008 C             1 RES     \\n      32 C            4.8684     2.8588    -0.6830 C             1 RES     \\n      33 C            3.3911     2.6003    -0.6005 C             1 RES     \\n      34 O            2.6482     3.5612    -0.8026 O             1 RES     \\n      35 C            7.1966     5.7573    -1.5900 C             1 RES     \\n      36 O            8.4157     5.8840    -1.7036 O             1 RES     \\n      37 C            8.1583     0.9335    -0.7055 C             1 RES     \\n      38 O            9.3380     1.2249    -0.9034 O             1 RES     \\n      39 Cl           7.6000    -0.7183    -0.5333 Cl            1 RES     \\n      40 H            5.4537     0.8234    -0.2758 H             1 RES     \\n      41 H            8.6818     3.5763    -1.0048 H             1 RES     \\n      42 H            4.5854     4.9395    -1.1558 H             1 RES     \\n      43 C           12.5958    13.2349    -6.0280 C             1 RES     \\n      44 C           11.2291    12.5795    -6.2768 C             1 RES     \\n      45 N           10.7810    11.8556    -5.0842 N             1 RES     \\n      46 C            9.4743    11.2397    -5.3342 C             1 RES     \\n      47 C            8.9956    10.4835    -4.0869 C             1 RES     \\n      48 N            7.6930     9.8612    -4.3391 N             1 RES     \\n      49 C            7.2352     9.1524    -3.1415 C             1 RES     \\n      50 C            5.8673     8.4982    -3.3878 C             1 RES     \\n      51 N            5.4083     7.7793    -2.2005 N             1 RES     \\n      52 N           13.0513    13.9605    -7.2128 N             1 RES     \\n      53 H           13.3366    12.4708    -5.7647 H             1 RES     \\n      54 H           12.5277    13.9344    -5.1874 H             1 RES     \\n      55 H           11.3117    11.8828    -7.1200 H             1 RES     \\n      56 H           10.4972    13.3515    -6.5452 H             1 RES     \\n      57 H           10.6923    12.5142    -4.3094 H             1 RES     \\n      58 H            9.5502    10.5385    -6.1745 H             1 RES     \\n      59 H            8.7378    12.0088    -5.5994 H             1 RES     \\n      60 H            8.9161    11.1860    -3.2480 H             1 RES     \\n      61 H            9.7339     9.7172    -3.8187 H             1 RES     \\n      62 H            7.7793     9.2041    -5.1137 H             1 RES     \\n      63 H            7.1527     9.8543    -2.3028 H             1 RES     \\n      64 H            7.9643     8.3799    -2.8662 H             1 RES     \\n      65 H            5.9325     7.7969    -4.2281 H             1 RES     \\n      66 H            5.1294     9.2638    -3.6518 H             1 RES     \\n      67 H            4.5184     7.3273    -2.4078 H             1 RES     \\n      68 H           13.9787    14.3427    -7.0310 H             1 RES     \\n      69 C           14.1584    14.0065   -10.8586 C             1 RES     \\n      70 C           14.6861    14.4263   -12.0867 C             1 RES     \\n      71 C           14.7995    13.5015   -13.1373 C             1 RES     \\n      72 C           14.5078    12.1423   -12.9324 C             1 RES     \\n      73 C           14.0118    11.7327   -11.6869 C             1 RES     \\n      74 C           13.8291    12.6611   -10.6471 C             1 RES     \\n      75 C           13.3499    12.1763    -9.3086 C             1 RES     \\n      76 O           13.1230    10.9706    -9.2047 O             1 RES     \\n      77 C           14.8223    11.1556   -14.0222 C             1 RES     \\n      78 O           15.2771    11.6107   -15.0716 O             1 RES     \\n      79 C           15.2343    15.8149   -12.2623 C             1 RES     \\n      80 O           15.7234    16.0898   -13.3582 O             1 RES     \\n      81 Cl          15.2251    16.9342   -10.9144 Cl            1 RES     \\n      82 H           14.0264    14.7259   -10.0563 H             1 RES     \\n      83 H           15.1579    13.8360   -14.1132 H             1 RES     \\n      84 H           13.7768    10.6856   -11.5000 H             1 RES     \\n      85 C           19.1528     6.2837   -21.9135 C             1 RES     \\n      86 C           19.0934     6.0643   -20.3944 C             1 RES     \\n      87 N           17.9863     6.8240   -19.8078 N             1 RES     \\n      88 C           17.9389     6.6016   -18.3595 C             1 RES     \\n      89 C           16.7776     7.3906   -17.7382 C             1 RES     \\n      90 N           16.7347     7.1747   -16.2893 N             1 RES     \\n      91 C           15.6170     7.9191   -15.7039 C             1 RES     \\n      92 C           15.5548     7.6990   -14.1849 C             1 RES     \\n      93 N           14.4482     8.4476   -13.5914 N             1 RES     \\n      94 N           20.2546     5.5288   -22.5083 N             1 RES     \\n      95 H           19.2836     7.3495   -22.1345 H             1 RES     \\n      96 H           18.2122     5.9624   -22.3747 H             1 RES     \\n      97 H           20.0403     6.3895   -19.9461 H             1 RES     \\n      98 H           18.9685     4.9947   -20.1843 H             1 RES     \\n      99 H           17.1088     6.5041   -20.2195 H             1 RES     \\n     100 H           18.8818     6.9282   -17.9036 H             1 RES     \\n     101 H           17.8101     5.5333   -18.1445 H             1 RES     \\n     102 H           15.8346     7.0608   -18.1916 H             1 RES     \\n     103 H           16.9037     8.4585   -17.9566 H             1 RES     \\n     104 H           17.6111     7.4923   -15.8766 H             1 RES     \\n     105 H           14.6733     7.5882   -16.1545 H             1 RES     \\n     106 H           15.7347     8.9899   -15.9125 H             1 RES     \\n     107 H           16.4944     8.0204   -13.7202 H             1 RES     \\n     108 H           15.4251     6.6331   -13.9670 H             1 RES     \\n     109 H           14.4567     8.3102   -12.5812 H             1 RES     \\n     110 H           20.2949     5.7324   -23.5063 H             1 RES     \\n     111 C           23.9815     4.8293   -22.8826 C             1 RES     \\n     112 C           25.2055     4.3425   -23.3600 C             1 RES     \\n     113 C           26.3995     4.7987   -22.7784 C             1 RES     \\n     114 C           26.3844     5.8223   -21.8159 C             1 RES     \\n     115 C           25.1520     6.3221   -21.3729 C             1 RES     \\n     116 C           23.9461     5.8257   -21.8981 C             1 RES     \\n     117 C           22.6469     6.4251   -21.4411 C             1 RES     \\n     118 O           22.7157     7.3230   -20.6015 O             1 RES     \\n     119 C           27.6887     6.4136   -21.3584 C             1 RES     \\n     120 O           28.7170     5.9217   -21.8229 O             1 RES     \\n     121 C           25.2662     3.4298   -24.5528 C             1 RES     \\n     122 O           26.3835     3.0849   -24.9382 O             1 RES     \\n     123 Cl          23.7892     2.9655   -25.3729 Cl            1 RES     \\n     124 H           23.0533     4.4481   -23.2969 H             1 RES     \\n     125 H           27.3533     4.3813   -23.1083 H             1 RES     \\n     126 H           25.1102     7.1153   -20.6274 H             1 RES     \\n     127 C           37.3188     9.8612   -20.9866 C             1 RES     \\n     128 C           35.9281    10.5105   -21.0478 C             1 RES     \\n     129 N           34.8940     9.5499   -20.6547 N             1 RES     \\n     130 C           33.5735    10.1841   -20.7132 C             1 RES     \\n     131 C           32.4848     9.1848   -20.2973 C             1 RES     \\n     132 N           31.1640     9.8162   -20.3632 N             1 RES     \\n     133 C           30.1307     8.8623   -19.9527 C             1 RES     \\n     134 C           28.7394     9.5108   -20.0113 C             1 RES     \\n     135 N           27.7011     8.5616   -19.6134 N             1 RES     \\n     136 N           38.3580    10.8127   -21.3768 N             1 RES     \\n     137 H           37.3568     8.9908   -21.6521 H             1 RES     \\n     138 H           37.5228     9.5096   -19.9690 H             1 RES     \\n     139 H           35.7372    10.8577   -22.0707 H             1 RES     \\n     140 H           35.9028    11.3832   -20.3833 H             1 RES     \\n     141 H           35.0709     9.2444   -19.6969 H             1 RES     \\n     142 H           33.3741    10.5307   -21.7348 H             1 RES     \\n     143 H           33.5423    11.0556   -20.0470 H             1 RES     \\n     144 H           32.6825     8.8416   -19.2742 H             1 RES     \\n     145 H           32.5185     8.3112   -20.9605 H             1 RES     \\n     146 H           30.9861    10.1233   -21.3189 H             1 RES     \\n     147 H           30.3257     8.5206   -18.9289 H             1 RES     \\n     148 H           30.1521     7.9856   -20.6122 H             1 RES     \\n     149 H           28.5318     9.8629   -21.0286 H             1 RES     \\n     150 H           28.7047    10.3808   -19.3462 H             1 RES     \\n     151 H           26.7894     9.0100   -19.6981 H             1 RES     \\n     152 H           39.2604    10.3386   -21.3707 H             1 RES     \\n     153 C           39.9857    13.0732   -23.9768 C             1 RES     \\n     154 C           40.9006    13.9065   -24.6337 C             1 RES     \\n     155 C           40.6358    14.3122   -25.9518 C             1 RES     \\n     156 C           39.5347    13.7951   -26.6551 C             1 RES     \\n     157 C           38.6467    12.9360   -25.9932 C             1 RES     \\n     158 C           38.8632    12.5754   -24.6517 C             1 RES     \\n     159 C           37.9222    11.6078   -23.9927 C             1 RES     \\n     160 O           36.9859    11.1927   -24.6760 O             1 RES     \\n     161 C           39.3929    14.1047   -28.1194 C             1 RES     \\n     162 O           40.2369    14.8507   -28.6155 O             1 RES     \\n     163 C           42.2086    14.2801   -23.9942 C             1 RES     \\n     164 O           42.9775    14.9769   -24.6569 O             1 RES     \\n     165 Cl          42.6105    13.6641   -22.4040 Cl            1 RES     \\n     166 H           40.1615    12.7916   -22.9431 H             1 RES     \\n     167 H           41.3170    15.0061   -26.4490 H             1 RES     \\n     168 H           37.7845    12.5204   -26.5135 H             1 RES     \\n     169 C           41.3258    16.1405   -37.9622 C             1 RES     \\n     170 C           40.8298    14.9169   -37.1773 C             1 RES     \\n     171 N           40.3341    15.3183   -35.8582 N             1 RES     \\n     172 C           39.8600    14.1421   -35.1226 C             1 RES     \\n     173 C           39.3339    14.5555   -33.7409 C             1 RES     \\n     174 N           38.8671    13.3790   -33.0023 N             1 RES     \\n     175 C           38.3541    13.7810   -31.6903 C             1 RES     \\n     176 C           37.8556    12.5587   -30.9047 C             1 RES     \\n     177 N           37.3519    12.9504   -29.5894 N             1 RES     \\n     178 N           41.8222    15.7500   -39.2808 N             1 RES     \\n     179 H           42.1273    16.6429   -37.4081 H             1 RES     \\n     180 H           40.5090    16.8598   -38.0888 H             1 RES     \\n     181 H           41.6566    14.2059   -37.0581 H             1 RES     \\n     182 H           40.0328    14.4185   -37.7429 H             1 RES     \\n     183 H           39.5556    15.9675   -35.9791 H             1 RES     \\n     184 H           40.6830    13.4277   -34.9964 H             1 RES     \\n     185 H           39.0597    13.6424   -35.6829 H             1 RES     \\n     186 H           38.5083    15.2668   -33.8677 H             1 RES     \\n     187 H           40.1325    15.0592   -33.1818 H             1 RES     \\n     188 H           39.6430    12.7288   -32.8818 H             1 RES     \\n     189 H           37.5268    14.4901   -31.8159 H             1 RES     \\n     190 H           39.1462    14.2824   -31.1200 H             1 RES     \\n     191 H           38.6711    11.8374   -30.7756 H             1 RES     \\n     192 H           37.0556    12.0581   -31.4613 H             1 RES     \\n     193 H           37.0638    12.1152   -29.0806 H             1 RES     \\n     194 H           42.1857    16.5755   -39.7558 H             1 RES     \\n     195 C           44.3024    13.8599   -41.4707 C             1 RES     \\n     196 C           45.0323    13.4163   -42.5814 C             1 RES     \\n     197 C           46.0999    12.5244   -42.3895 C             1 RES     \\n     198 C           46.5184    12.1730   -41.0950 C             1 RES     \\n     199 C           45.7972    12.6523   -39.9927 C             1 RES     \\n     200 C           44.6841    13.4918   -40.1738 C             1 RES     \\n     201 C           43.9706    14.0320   -38.9676 C             1 RES     \\n     202 O           44.4012    13.6851   -37.8675 O             1 RES     \\n     203 C           47.7788    11.3707   -40.9278 C             1 RES     \\n     204 O           48.3542    11.0160   -41.9565 O             1 RES     \\n     205 C           44.7646    13.9635   -43.9555 C             1 RES     \\n     206 O           45.4816    13.5571   -44.8701 O             1 RES     \\n     207 Cl          43.5265    15.1820   -44.1842 Cl            1 RES     \\n     208 H           43.4482    14.5142   -41.6156 H             1 RES     \\n     209 H           46.6365    12.1320   -43.2560 H             1 RES     \\n     210 H           46.0988    12.3958   -38.9778 H             1 RES     \\n     211 H           -7.3687     4.1270     3.3048 H             1 RES     \\n     212 H           48.1619    11.1540   -39.9262 H             1 RES     \\n@<TRIPOS>BOND\\n       1        1        2 1\\n       2        1       10 1\\n       3        1       11 1\\n       4        1       12 1\\n       5        2        3 1\\n       6        2       13 1\\n       7        2       14 1\\n       8        3        4 1\\n       9        3       15 1\\n      10        4        5 1\\n      11        4       16 1\\n      12        4       17 1\\n      13        5        6 1\\n      14        5       18 1\\n      15        5       19 1\\n      16        6        7 1\\n      17        6       20 1\\n      18        7        8 1\\n      19        7       21 1\\n      20        7       22 1\\n      21        8        9 1\\n      22        8       23 1\\n      23        8       24 1\\n      24        9       25 1\\n      25        9      211 1\\n      26       10       26 1\\n      27       10       33 1\\n      28       27       28 1\\n      29       27       32 1\\n      30       27       40 1\\n      31       28       29 1\\n      32       28       37 1\\n      33       29       30 1\\n      34       29       41 1\\n      35       30       31 1\\n      36       30       35 1\\n      37       31       32 1\\n      38       31       42 1\\n      39       32       33 1\\n      40       33       34 1\\n      41       35       36 1\\n      42       35       51 1\\n      43       37       38 1\\n      44       37       39 1\\n      45       43       44 1\\n      46       43       52 1\\n      47       43       53 1\\n      48       43       54 1\\n      49       44       45 1\\n      50       44       55 1\\n      51       44       56 1\\n      52       45       46 1\\n      53       45       57 1\\n      54       46       47 1\\n      55       46       58 1\\n      56       46       59 1\\n      57       47       48 1\\n      58       47       60 1\\n      59       47       61 1\\n      60       48       49 1\\n      61       48       62 1\\n      62       49       50 1\\n      63       49       63 1\\n      64       49       64 1\\n      65       50       51 1\\n      66       50       65 1\\n      67       50       66 1\\n      68       51       67 1\\n      69       52       68 1\\n      70       52       75 1\\n      71       69       70 1\\n      72       69       74 1\\n      73       69       82 1\\n      74       70       71 1\\n      75       70       79 1\\n      76       71       72 1\\n      77       71       83 1\\n      78       72       73 1\\n      79       72       77 1\\n      80       73       74 1\\n      81       73       84 1\\n      82       74       75 1\\n      83       75       76 1\\n      84       77       78 1\\n      85       77       93 1\\n      86       79       80 1\\n      87       79       81 1\\n      88       85       86 1\\n      89       85       94 1\\n      90       85       95 1\\n      91       85       96 1\\n      92       86       87 1\\n      93       86       97 1\\n      94       86       98 1\\n      95       87       88 1\\n      96       87       99 1\\n      97       88       89 1\\n      98       88      100 1\\n      99       88      101 1\\n     100       89       90 1\\n     101       89      102 1\\n     102       89      103 1\\n     103       90       91 1\\n     104       90      104 1\\n     105       91       92 1\\n     106       91      105 1\\n     107       91      106 1\\n     108       92       93 1\\n     109       92      107 1\\n     110       92      108 1\\n     111       93      109 1\\n     112       94      110 1\\n     113       94      117 1\\n     114      111      112 1\\n     115      111      116 1\\n     116      111      124 1\\n     117      112      113 1\\n     118      112      121 1\\n     119      113      114 1\\n     120      113      125 1\\n     121      114      115 1\\n     122      114      119 1\\n     123      115      116 1\\n     124      115      126 1\\n     125      116      117 1\\n     126      117      118 1\\n     127      119      120 1\\n     128      119      135 1\\n     129      121      122 1\\n     130      121      123 1\\n     131      127      128 1\\n     132      127      136 1\\n     133      127      137 1\\n     134      127      138 1\\n     135      128      129 1\\n     136      128      139 1\\n     137      128      140 1\\n     138      129      130 1\\n     139      129      141 1\\n     140      130      131 1\\n     141      130      142 1\\n     142      130      143 1\\n     143      131      132 1\\n     144      131      144 1\\n     145      131      145 1\\n     146      132      133 1\\n     147      132      146 1\\n     148      133      134 1\\n     149      133      147 1\\n     150      133      148 1\\n     151      134      135 1\\n     152      134      149 1\\n     153      134      150 1\\n     154      135      151 1\\n     155      136      152 1\\n     156      136      159 1\\n     157      153      154 1\\n     158      153      158 1\\n     159      153      166 1\\n     160      154      155 1\\n     161      154      163 1\\n     162      155      156 1\\n     163      155      167 1\\n     164      156      157 1\\n     165      156      161 1\\n     166      157      158 1\\n     167      157      168 1\\n     168      158      159 1\\n     169      159      160 1\\n     170      161      162 1\\n     171      161      177 1\\n     172      163      164 1\\n     173      163      165 1\\n     174      169      170 1\\n     175      169      178 1\\n     176      169      179 1\\n     177      169      180 1\\n     178      170      171 1\\n     179      170      181 1\\n     180      170      182 1\\n     181      171      172 1\\n     182      171      183 1\\n     183      172      173 1\\n     184      172      184 1\\n     185      172      185 1\\n     186      173      174 1\\n     187      173      186 1\\n     188      173      187 1\\n     189      174      175 1\\n     190      174      188 1\\n     191      175      176 1\\n     192      175      189 1\\n     193      175      190 1\\n     194      176      177 1\\n     195      176      191 1\\n     196      176      192 1\\n     197      177      193 1\\n     198      178      194 1\\n     199      178      201 1\\n     200      195      196 1\\n     201      195      200 1\\n     202      195      208 1\\n     203      196      197 1\\n     204      196      205 1\\n     205      197      198 1\\n     206      197      209 1\\n     207      198      199 1\\n     208      198      203 1\\n     209      199      200 1\\n     210      199      210 1\\n     211      200      201 1\\n     212      201      202 1\\n     213      203      204 1\\n     214      203      212 1\\n     215      205      206 1\\n     216      205      207 1\\n@<TRIPOS>SUBSTRUCTURE\\n       1 RES             1 RESIDUE    0 **** ROOT      0\\n\",\"mol2\");\n\tviewer_17585741200054698.setStyle({\"stick\": {\"radius\": 0.18, \"color\": \"grey\"}, \"sphere\": {\"scale\": 0.3, \"colorscheme\": {}}});\n\tviewer_17585741200054698.zoomTo();\nviewer_17585741200054698.render();\n});\n</script>",
      "text/html": [
       "<div id=\"3dmolviewer_17585741200054698\"  style=\"position: relative; width: 640px; height: 480px;\">\n",
       "        <p id=\"3dmolwarning_17585741200054698\" style=\"background-color:#ffcccc;color:black\">3Dmol.js failed to load for some reason.  Please check your browser console for error messages.<br></p>\n",
       "        </div>\n",
       "<script>\n",
       "\n",
       "var loadScriptAsync = function(uri){\n",
       "  return new Promise((resolve, reject) => {\n",
       "    //this is to ignore the existence of requirejs amd\n",
       "    var savedexports, savedmodule;\n",
       "    if (typeof exports !== 'undefined') savedexports = exports;\n",
       "    else exports = {}\n",
       "    if (typeof module !== 'undefined') savedmodule = module;\n",
       "    else module = {}\n",
       "\n",
       "    var tag = document.createElement('script');\n",
       "    tag.src = uri;\n",
       "    tag.async = true;\n",
       "    tag.onload = () => {\n",
       "        exports = savedexports;\n",
       "        module = savedmodule;\n",
       "        resolve();\n",
       "    };\n",
       "  var firstScriptTag = document.getElementsByTagName('script')[0];\n",
       "  firstScriptTag.parentNode.insertBefore(tag, firstScriptTag);\n",
       "});\n",
       "};\n",
       "\n",
       "if(typeof $3Dmolpromise === 'undefined') {\n",
       "$3Dmolpromise = null;\n",
       "  $3Dmolpromise = loadScriptAsync('https://cdnjs.cloudflare.com/ajax/libs/3Dmol/2.2.1-post1/3Dmol-min.js');\n",
       "}\n",
       "\n",
       "var viewer_17585741200054698 = null;\n",
       "var warn = document.getElementById(\"3dmolwarning_17585741200054698\");\n",
       "if(warn) {\n",
       "    warn.parentNode.removeChild(warn);\n",
       "}\n",
       "$3Dmolpromise.then(function() {\n",
       "viewer_17585741200054698 = $3Dmol.createViewer(document.getElementById(\"3dmolviewer_17585741200054698\"),{backgroundColor:\"white\"});\n",
       "viewer_17585741200054698.zoomTo();\n",
       "\tviewer_17585741200054698.addModel(\"@<TRIPOS>MOLECULE\\nRES\\n212 216 1 0 1\\nSMALL\\nNO_CHARGES\\n@<TRIPOS>CRYSIN\\n   60.7229    22.8845    55.1047    90.0000    90.0000    90.0000 1 1\\n@<TRIPOS>ATOM\\n       1 C            0.9955     0.0688    -0.0492 C             1 RES     \\n       2 C            0.4600     1.0034     1.0459 C             1 RES     \\n       3 N           -1.0052     1.0131     1.0427 N             1 RES     \\n       4 C           -1.5020     1.9047     2.0951 C             1 RES     \\n       5 C           -3.0372     1.9161     2.1014 C             1 RES     \\n       6 N           -3.5341     2.8134     3.1481 N             1 RES     \\n       7 C           -4.9990     2.8100     3.1582 C             1 RES     \\n       8 C           -5.5363     3.7425     4.2544 C             1 RES     \\n       9 N           -6.9982     3.7531     4.2638 N             1 RES     \\n      10 N            2.4574     0.0520    -0.0535 N             1 RES     \\n      11 H            0.6345     0.3954    -1.0315 H             1 RES     \\n      12 H            0.6289    -0.9503     0.1168 H             1 RES     \\n      13 H            0.8344     2.0190     0.8678 H             1 RES     \\n      14 H            0.8317     0.6715     2.0234 H             1 RES     \\n      15 H           -1.3443     0.0676     1.2244 H             1 RES     \\n      16 H           -1.1343     2.9236     1.9213 H             1 RES     \\n      17 H           -1.1358     1.5743     3.0753 H             1 RES     \\n      18 H           -3.4044     0.8977     2.2792 H             1 RES     \\n      19 H           -3.4040     2.2423     1.1200 H             1 RES     \\n      20 H           -3.1952     3.7580     2.9691 H             1 RES     \\n      21 H           -5.3673     1.7927     3.3387 H             1 RES     \\n      22 H           -5.3775     3.1389     2.1822 H             1 RES     \\n      23 H           -5.1719     4.7635     4.0905 H             1 RES     \\n      24 H           -5.1731     3.4145     5.2346 H             1 RES     \\n      25 H           -7.3221     4.4073     4.9755 H             1 RES     \\n      26 H            2.7797    -0.5389    -0.8191 H             1 RES     \\n      27 C            5.7987     1.8249    -0.5137 C             1 RES     \\n      28 C            7.1691     2.0651    -0.6796 C             1 RES     \\n      29 C            7.6111     3.3742    -0.9301 C             1 RES     \\n      30 C            6.6910     4.4157    -1.1378 C             1 RES     \\n      31 C            5.3212     4.1513    -1.0008 C             1 RES     \\n      32 C            4.8684     2.8588    -0.6830 C             1 RES     \\n      33 C            3.3911     2.6003    -0.6005 C             1 RES     \\n      34 O            2.6482     3.5612    -0.8026 O             1 RES     \\n      35 C            7.1966     5.7573    -1.5900 C             1 RES     \\n      36 O            8.4157     5.8840    -1.7036 O             1 RES     \\n      37 C            8.1583     0.9335    -0.7055 C             1 RES     \\n      38 O            9.3380     1.2249    -0.9034 O             1 RES     \\n      39 Cl           7.6000    -0.7183    -0.5333 Cl            1 RES     \\n      40 H            5.4537     0.8234    -0.2758 H             1 RES     \\n      41 H            8.6818     3.5763    -1.0048 H             1 RES     \\n      42 H            4.5854     4.9395    -1.1558 H             1 RES     \\n      43 C           12.5958    13.2349    -6.0280 C             1 RES     \\n      44 C           11.2291    12.5795    -6.2768 C             1 RES     \\n      45 N           10.7810    11.8556    -5.0842 N             1 RES     \\n      46 C            9.4743    11.2397    -5.3342 C             1 RES     \\n      47 C            8.9956    10.4835    -4.0869 C             1 RES     \\n      48 N            7.6930     9.8612    -4.3391 N             1 RES     \\n      49 C            7.2352     9.1524    -3.1415 C             1 RES     \\n      50 C            5.8673     8.4982    -3.3878 C             1 RES     \\n      51 N            5.4083     7.7793    -2.2005 N             1 RES     \\n      52 N           13.0513    13.9605    -7.2128 N             1 RES     \\n      53 H           13.3366    12.4708    -5.7647 H             1 RES     \\n      54 H           12.5277    13.9344    -5.1874 H             1 RES     \\n      55 H           11.3117    11.8828    -7.1200 H             1 RES     \\n      56 H           10.4972    13.3515    -6.5452 H             1 RES     \\n      57 H           10.6923    12.5142    -4.3094 H             1 RES     \\n      58 H            9.5502    10.5385    -6.1745 H             1 RES     \\n      59 H            8.7378    12.0088    -5.5994 H             1 RES     \\n      60 H            8.9161    11.1860    -3.2480 H             1 RES     \\n      61 H            9.7339     9.7172    -3.8187 H             1 RES     \\n      62 H            7.7793     9.2041    -5.1137 H             1 RES     \\n      63 H            7.1527     9.8543    -2.3028 H             1 RES     \\n      64 H            7.9643     8.3799    -2.8662 H             1 RES     \\n      65 H            5.9325     7.7969    -4.2281 H             1 RES     \\n      66 H            5.1294     9.2638    -3.6518 H             1 RES     \\n      67 H            4.5184     7.3273    -2.4078 H             1 RES     \\n      68 H           13.9787    14.3427    -7.0310 H             1 RES     \\n      69 C           14.1584    14.0065   -10.8586 C             1 RES     \\n      70 C           14.6861    14.4263   -12.0867 C             1 RES     \\n      71 C           14.7995    13.5015   -13.1373 C             1 RES     \\n      72 C           14.5078    12.1423   -12.9324 C             1 RES     \\n      73 C           14.0118    11.7327   -11.6869 C             1 RES     \\n      74 C           13.8291    12.6611   -10.6471 C             1 RES     \\n      75 C           13.3499    12.1763    -9.3086 C             1 RES     \\n      76 O           13.1230    10.9706    -9.2047 O             1 RES     \\n      77 C           14.8223    11.1556   -14.0222 C             1 RES     \\n      78 O           15.2771    11.6107   -15.0716 O             1 RES     \\n      79 C           15.2343    15.8149   -12.2623 C             1 RES     \\n      80 O           15.7234    16.0898   -13.3582 O             1 RES     \\n      81 Cl          15.2251    16.9342   -10.9144 Cl            1 RES     \\n      82 H           14.0264    14.7259   -10.0563 H             1 RES     \\n      83 H           15.1579    13.8360   -14.1132 H             1 RES     \\n      84 H           13.7768    10.6856   -11.5000 H             1 RES     \\n      85 C           19.1528     6.2837   -21.9135 C             1 RES     \\n      86 C           19.0934     6.0643   -20.3944 C             1 RES     \\n      87 N           17.9863     6.8240   -19.8078 N             1 RES     \\n      88 C           17.9389     6.6016   -18.3595 C             1 RES     \\n      89 C           16.7776     7.3906   -17.7382 C             1 RES     \\n      90 N           16.7347     7.1747   -16.2893 N             1 RES     \\n      91 C           15.6170     7.9191   -15.7039 C             1 RES     \\n      92 C           15.5548     7.6990   -14.1849 C             1 RES     \\n      93 N           14.4482     8.4476   -13.5914 N             1 RES     \\n      94 N           20.2546     5.5288   -22.5083 N             1 RES     \\n      95 H           19.2836     7.3495   -22.1345 H             1 RES     \\n      96 H           18.2122     5.9624   -22.3747 H             1 RES     \\n      97 H           20.0403     6.3895   -19.9461 H             1 RES     \\n      98 H           18.9685     4.9947   -20.1843 H             1 RES     \\n      99 H           17.1088     6.5041   -20.2195 H             1 RES     \\n     100 H           18.8818     6.9282   -17.9036 H             1 RES     \\n     101 H           17.8101     5.5333   -18.1445 H             1 RES     \\n     102 H           15.8346     7.0608   -18.1916 H             1 RES     \\n     103 H           16.9037     8.4585   -17.9566 H             1 RES     \\n     104 H           17.6111     7.4923   -15.8766 H             1 RES     \\n     105 H           14.6733     7.5882   -16.1545 H             1 RES     \\n     106 H           15.7347     8.9899   -15.9125 H             1 RES     \\n     107 H           16.4944     8.0204   -13.7202 H             1 RES     \\n     108 H           15.4251     6.6331   -13.9670 H             1 RES     \\n     109 H           14.4567     8.3102   -12.5812 H             1 RES     \\n     110 H           20.2949     5.7324   -23.5063 H             1 RES     \\n     111 C           23.9815     4.8293   -22.8826 C             1 RES     \\n     112 C           25.2055     4.3425   -23.3600 C             1 RES     \\n     113 C           26.3995     4.7987   -22.7784 C             1 RES     \\n     114 C           26.3844     5.8223   -21.8159 C             1 RES     \\n     115 C           25.1520     6.3221   -21.3729 C             1 RES     \\n     116 C           23.9461     5.8257   -21.8981 C             1 RES     \\n     117 C           22.6469     6.4251   -21.4411 C             1 RES     \\n     118 O           22.7157     7.3230   -20.6015 O             1 RES     \\n     119 C           27.6887     6.4136   -21.3584 C             1 RES     \\n     120 O           28.7170     5.9217   -21.8229 O             1 RES     \\n     121 C           25.2662     3.4298   -24.5528 C             1 RES     \\n     122 O           26.3835     3.0849   -24.9382 O             1 RES     \\n     123 Cl          23.7892     2.9655   -25.3729 Cl            1 RES     \\n     124 H           23.0533     4.4481   -23.2969 H             1 RES     \\n     125 H           27.3533     4.3813   -23.1083 H             1 RES     \\n     126 H           25.1102     7.1153   -20.6274 H             1 RES     \\n     127 C           37.3188     9.8612   -20.9866 C             1 RES     \\n     128 C           35.9281    10.5105   -21.0478 C             1 RES     \\n     129 N           34.8940     9.5499   -20.6547 N             1 RES     \\n     130 C           33.5735    10.1841   -20.7132 C             1 RES     \\n     131 C           32.4848     9.1848   -20.2973 C             1 RES     \\n     132 N           31.1640     9.8162   -20.3632 N             1 RES     \\n     133 C           30.1307     8.8623   -19.9527 C             1 RES     \\n     134 C           28.7394     9.5108   -20.0113 C             1 RES     \\n     135 N           27.7011     8.5616   -19.6134 N             1 RES     \\n     136 N           38.3580    10.8127   -21.3768 N             1 RES     \\n     137 H           37.3568     8.9908   -21.6521 H             1 RES     \\n     138 H           37.5228     9.5096   -19.9690 H             1 RES     \\n     139 H           35.7372    10.8577   -22.0707 H             1 RES     \\n     140 H           35.9028    11.3832   -20.3833 H             1 RES     \\n     141 H           35.0709     9.2444   -19.6969 H             1 RES     \\n     142 H           33.3741    10.5307   -21.7348 H             1 RES     \\n     143 H           33.5423    11.0556   -20.0470 H             1 RES     \\n     144 H           32.6825     8.8416   -19.2742 H             1 RES     \\n     145 H           32.5185     8.3112   -20.9605 H             1 RES     \\n     146 H           30.9861    10.1233   -21.3189 H             1 RES     \\n     147 H           30.3257     8.5206   -18.9289 H             1 RES     \\n     148 H           30.1521     7.9856   -20.6122 H             1 RES     \\n     149 H           28.5318     9.8629   -21.0286 H             1 RES     \\n     150 H           28.7047    10.3808   -19.3462 H             1 RES     \\n     151 H           26.7894     9.0100   -19.6981 H             1 RES     \\n     152 H           39.2604    10.3386   -21.3707 H             1 RES     \\n     153 C           39.9857    13.0732   -23.9768 C             1 RES     \\n     154 C           40.9006    13.9065   -24.6337 C             1 RES     \\n     155 C           40.6358    14.3122   -25.9518 C             1 RES     \\n     156 C           39.5347    13.7951   -26.6551 C             1 RES     \\n     157 C           38.6467    12.9360   -25.9932 C             1 RES     \\n     158 C           38.8632    12.5754   -24.6517 C             1 RES     \\n     159 C           37.9222    11.6078   -23.9927 C             1 RES     \\n     160 O           36.9859    11.1927   -24.6760 O             1 RES     \\n     161 C           39.3929    14.1047   -28.1194 C             1 RES     \\n     162 O           40.2369    14.8507   -28.6155 O             1 RES     \\n     163 C           42.2086    14.2801   -23.9942 C             1 RES     \\n     164 O           42.9775    14.9769   -24.6569 O             1 RES     \\n     165 Cl          42.6105    13.6641   -22.4040 Cl            1 RES     \\n     166 H           40.1615    12.7916   -22.9431 H             1 RES     \\n     167 H           41.3170    15.0061   -26.4490 H             1 RES     \\n     168 H           37.7845    12.5204   -26.5135 H             1 RES     \\n     169 C           41.3258    16.1405   -37.9622 C             1 RES     \\n     170 C           40.8298    14.9169   -37.1773 C             1 RES     \\n     171 N           40.3341    15.3183   -35.8582 N             1 RES     \\n     172 C           39.8600    14.1421   -35.1226 C             1 RES     \\n     173 C           39.3339    14.5555   -33.7409 C             1 RES     \\n     174 N           38.8671    13.3790   -33.0023 N             1 RES     \\n     175 C           38.3541    13.7810   -31.6903 C             1 RES     \\n     176 C           37.8556    12.5587   -30.9047 C             1 RES     \\n     177 N           37.3519    12.9504   -29.5894 N             1 RES     \\n     178 N           41.8222    15.7500   -39.2808 N             1 RES     \\n     179 H           42.1273    16.6429   -37.4081 H             1 RES     \\n     180 H           40.5090    16.8598   -38.0888 H             1 RES     \\n     181 H           41.6566    14.2059   -37.0581 H             1 RES     \\n     182 H           40.0328    14.4185   -37.7429 H             1 RES     \\n     183 H           39.5556    15.9675   -35.9791 H             1 RES     \\n     184 H           40.6830    13.4277   -34.9964 H             1 RES     \\n     185 H           39.0597    13.6424   -35.6829 H             1 RES     \\n     186 H           38.5083    15.2668   -33.8677 H             1 RES     \\n     187 H           40.1325    15.0592   -33.1818 H             1 RES     \\n     188 H           39.6430    12.7288   -32.8818 H             1 RES     \\n     189 H           37.5268    14.4901   -31.8159 H             1 RES     \\n     190 H           39.1462    14.2824   -31.1200 H             1 RES     \\n     191 H           38.6711    11.8374   -30.7756 H             1 RES     \\n     192 H           37.0556    12.0581   -31.4613 H             1 RES     \\n     193 H           37.0638    12.1152   -29.0806 H             1 RES     \\n     194 H           42.1857    16.5755   -39.7558 H             1 RES     \\n     195 C           44.3024    13.8599   -41.4707 C             1 RES     \\n     196 C           45.0323    13.4163   -42.5814 C             1 RES     \\n     197 C           46.0999    12.5244   -42.3895 C             1 RES     \\n     198 C           46.5184    12.1730   -41.0950 C             1 RES     \\n     199 C           45.7972    12.6523   -39.9927 C             1 RES     \\n     200 C           44.6841    13.4918   -40.1738 C             1 RES     \\n     201 C           43.9706    14.0320   -38.9676 C             1 RES     \\n     202 O           44.4012    13.6851   -37.8675 O             1 RES     \\n     203 C           47.7788    11.3707   -40.9278 C             1 RES     \\n     204 O           48.3542    11.0160   -41.9565 O             1 RES     \\n     205 C           44.7646    13.9635   -43.9555 C             1 RES     \\n     206 O           45.4816    13.5571   -44.8701 O             1 RES     \\n     207 Cl          43.5265    15.1820   -44.1842 Cl            1 RES     \\n     208 H           43.4482    14.5142   -41.6156 H             1 RES     \\n     209 H           46.6365    12.1320   -43.2560 H             1 RES     \\n     210 H           46.0988    12.3958   -38.9778 H             1 RES     \\n     211 H           -7.3687     4.1270     3.3048 H             1 RES     \\n     212 H           48.1619    11.1540   -39.9262 H             1 RES     \\n@<TRIPOS>BOND\\n       1        1        2 1\\n       2        1       10 1\\n       3        1       11 1\\n       4        1       12 1\\n       5        2        3 1\\n       6        2       13 1\\n       7        2       14 1\\n       8        3        4 1\\n       9        3       15 1\\n      10        4        5 1\\n      11        4       16 1\\n      12        4       17 1\\n      13        5        6 1\\n      14        5       18 1\\n      15        5       19 1\\n      16        6        7 1\\n      17        6       20 1\\n      18        7        8 1\\n      19        7       21 1\\n      20        7       22 1\\n      21        8        9 1\\n      22        8       23 1\\n      23        8       24 1\\n      24        9       25 1\\n      25        9      211 1\\n      26       10       26 1\\n      27       10       33 1\\n      28       27       28 1\\n      29       27       32 1\\n      30       27       40 1\\n      31       28       29 1\\n      32       28       37 1\\n      33       29       30 1\\n      34       29       41 1\\n      35       30       31 1\\n      36       30       35 1\\n      37       31       32 1\\n      38       31       42 1\\n      39       32       33 1\\n      40       33       34 1\\n      41       35       36 1\\n      42       35       51 1\\n      43       37       38 1\\n      44       37       39 1\\n      45       43       44 1\\n      46       43       52 1\\n      47       43       53 1\\n      48       43       54 1\\n      49       44       45 1\\n      50       44       55 1\\n      51       44       56 1\\n      52       45       46 1\\n      53       45       57 1\\n      54       46       47 1\\n      55       46       58 1\\n      56       46       59 1\\n      57       47       48 1\\n      58       47       60 1\\n      59       47       61 1\\n      60       48       49 1\\n      61       48       62 1\\n      62       49       50 1\\n      63       49       63 1\\n      64       49       64 1\\n      65       50       51 1\\n      66       50       65 1\\n      67       50       66 1\\n      68       51       67 1\\n      69       52       68 1\\n      70       52       75 1\\n      71       69       70 1\\n      72       69       74 1\\n      73       69       82 1\\n      74       70       71 1\\n      75       70       79 1\\n      76       71       72 1\\n      77       71       83 1\\n      78       72       73 1\\n      79       72       77 1\\n      80       73       74 1\\n      81       73       84 1\\n      82       74       75 1\\n      83       75       76 1\\n      84       77       78 1\\n      85       77       93 1\\n      86       79       80 1\\n      87       79       81 1\\n      88       85       86 1\\n      89       85       94 1\\n      90       85       95 1\\n      91       85       96 1\\n      92       86       87 1\\n      93       86       97 1\\n      94       86       98 1\\n      95       87       88 1\\n      96       87       99 1\\n      97       88       89 1\\n      98       88      100 1\\n      99       88      101 1\\n     100       89       90 1\\n     101       89      102 1\\n     102       89      103 1\\n     103       90       91 1\\n     104       90      104 1\\n     105       91       92 1\\n     106       91      105 1\\n     107       91      106 1\\n     108       92       93 1\\n     109       92      107 1\\n     110       92      108 1\\n     111       93      109 1\\n     112       94      110 1\\n     113       94      117 1\\n     114      111      112 1\\n     115      111      116 1\\n     116      111      124 1\\n     117      112      113 1\\n     118      112      121 1\\n     119      113      114 1\\n     120      113      125 1\\n     121      114      115 1\\n     122      114      119 1\\n     123      115      116 1\\n     124      115      126 1\\n     125      116      117 1\\n     126      117      118 1\\n     127      119      120 1\\n     128      119      135 1\\n     129      121      122 1\\n     130      121      123 1\\n     131      127      128 1\\n     132      127      136 1\\n     133      127      137 1\\n     134      127      138 1\\n     135      128      129 1\\n     136      128      139 1\\n     137      128      140 1\\n     138      129      130 1\\n     139      129      141 1\\n     140      130      131 1\\n     141      130      142 1\\n     142      130      143 1\\n     143      131      132 1\\n     144      131      144 1\\n     145      131      145 1\\n     146      132      133 1\\n     147      132      146 1\\n     148      133      134 1\\n     149      133      147 1\\n     150      133      148 1\\n     151      134      135 1\\n     152      134      149 1\\n     153      134      150 1\\n     154      135      151 1\\n     155      136      152 1\\n     156      136      159 1\\n     157      153      154 1\\n     158      153      158 1\\n     159      153      166 1\\n     160      154      155 1\\n     161      154      163 1\\n     162      155      156 1\\n     163      155      167 1\\n     164      156      157 1\\n     165      156      161 1\\n     166      157      158 1\\n     167      157      168 1\\n     168      158      159 1\\n     169      159      160 1\\n     170      161      162 1\\n     171      161      177 1\\n     172      163      164 1\\n     173      163      165 1\\n     174      169      170 1\\n     175      169      178 1\\n     176      169      179 1\\n     177      169      180 1\\n     178      170      171 1\\n     179      170      181 1\\n     180      170      182 1\\n     181      171      172 1\\n     182      171      183 1\\n     183      172      173 1\\n     184      172      184 1\\n     185      172      185 1\\n     186      173      174 1\\n     187      173      186 1\\n     188      173      187 1\\n     189      174      175 1\\n     190      174      188 1\\n     191      175      176 1\\n     192      175      189 1\\n     193      175      190 1\\n     194      176      177 1\\n     195      176      191 1\\n     196      176      192 1\\n     197      177      193 1\\n     198      178      194 1\\n     199      178      201 1\\n     200      195      196 1\\n     201      195      200 1\\n     202      195      208 1\\n     203      196      197 1\\n     204      196      205 1\\n     205      197      198 1\\n     206      197      209 1\\n     207      198      199 1\\n     208      198      203 1\\n     209      199      200 1\\n     210      199      210 1\\n     211      200      201 1\\n     212      201      202 1\\n     213      203      204 1\\n     214      203      212 1\\n     215      205      206 1\\n     216      205      207 1\\n@<TRIPOS>SUBSTRUCTURE\\n       1 RES             1 RESIDUE    0 **** ROOT      0\\n\",\"mol2\");\n",
       "\tviewer_17585741200054698.setStyle({\"stick\": {\"radius\": 0.18, \"color\": \"grey\"}, \"sphere\": {\"scale\": 0.3, \"colorscheme\": {}}});\n",
       "\tviewer_17585741200054698.zoomTo();\n",
       "viewer_17585741200054698.render();\n",
       "});\n",
       "</script>"
      ]
     },
     "metadata": {},
     "output_type": "display_data"
    },
    {
     "data": {
      "text/plain": [
       "<py3Dmol.view at 0x7f03ce4ff700>"
      ]
     },
     "execution_count": 44,
     "metadata": {},
     "output_type": "execute_result"
    }
   ],
   "source": [
    "COP_polymer = mb.recipes.Polymer(monomers=[compound_with_2_ports_PC, compound_with_2_ports_TMC ])\n",
    "COP_polymer.build( n=repeat_units_AB_copolymer, sequence=\"AB\")\n",
    "COP_polymer.visualize()"
   ]
  }
 ],
 "metadata": {
  "kernelspec": {
   "display_name": "andres",
   "language": "python",
   "name": "python3"
  },
  "language_info": {
   "codemirror_mode": {
    "name": "ipython",
    "version": 3
   },
   "file_extension": ".py",
   "mimetype": "text/x-python",
   "name": "python",
   "nbconvert_exporter": "python",
   "pygments_lexer": "ipython3",
   "version": "3.10.14"
  }
 },
 "nbformat": 4,
 "nbformat_minor": 5
}
