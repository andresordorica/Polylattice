{
 "cells": [
  {
   "cell_type": "code",
   "execution_count": null,
   "id": "8d152779",
   "metadata": {},
   "outputs": [],
   "source": [
    "import mbuild as mb\n",
    "import os\n",
    "from parmed import load_file\n",
    "import re\n",
    "from mbuild.lib.atoms import H\n",
    "import numpy as np\n",
    "import random\n",
    "import pubchempy as pcp\n",
    "from rdkit import Chem \n",
    "from Main_functions.crosslink_function import *\n",
    "from IPython.display import Image, display"
   ]
  },
  {
   "cell_type": "markdown",
   "id": "51c1b06d",
   "metadata": {},
   "source": [
    "In this case we will use the crosslinking of a polyamide EPON 862 with the curing Agent DETDA\n",
    "https://pubs.acs.org/doi/full/10.1021/ma2005519 \n",
    "\n",
    "\n",
    "\n",
    "<img src=\"images/EPON862.png\">\n"
   ]
  },
  {
   "cell_type": "code",
   "execution_count": null,
   "id": "b3227137",
   "metadata": {},
   "outputs": [],
   "source": []
  }
 ],
 "metadata": {
  "kernelspec": {
   "display_name": "andres",
   "language": "python",
   "name": "python3"
  },
  "language_info": {
   "codemirror_mode": {
    "name": "ipython",
    "version": 3
   },
   "file_extension": ".py",
   "mimetype": "text/x-python",
   "name": "python",
   "nbconvert_exporter": "python",
   "pygments_lexer": "ipython3",
   "version": "3.10.14"
  }
 },
 "nbformat": 4,
 "nbformat_minor": 5
}
