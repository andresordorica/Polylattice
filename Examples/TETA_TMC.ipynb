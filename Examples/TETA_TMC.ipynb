{
 "cells": [
  {
   "cell_type": "code",
   "execution_count": 16,
   "id": "d13729fb",
   "metadata": {},
   "outputs": [],
   "source": [
    "import mbuild as mb\n",
    "import os\n",
    "from parmed import load_file\n",
    "import re\n",
    "from mbuild.lib.atoms import H\n",
    "import numpy as np\n",
    "import random\n",
    "import pubchempy as pcp\n",
    "from rdkit import Chem \n",
    "from  Main_functions import *"
   ]
  },
  {
   "cell_type": "markdown",
   "id": "98fc4231",
   "metadata": {},
   "source": [
    "The following example is based on the work carried out by Chehrazi \n",
    "https://pubs.acs.org/doi/10.1021/acsomega.3c10108\n",
    "\n",
    "<img src=\"../images/TETA_TMC_image.png\">\n"
   ]
  },
  {
   "cell_type": "markdown",
   "id": "0297b453",
   "metadata": {},
   "source": [
    "First step the main amine, TETA (triethylenetetramine) is fetched by name from the PubChem database."
   ]
  },
  {
   "cell_type": "code",
   "execution_count": 17,
   "id": "2afc47d0",
   "metadata": {},
   "outputs": [
    {
     "name": "stdout",
     "output_type": "stream",
     "text": [
      "Base name: triethylenetetramine, SMILES: None, CID: 5565\n",
      "C(CNCCNCCN)N\n"
     ]
    },
    {
     "data": {
      "application/3dmoljs_load.v0": "<div id=\"3dmolviewer_17586036402416754\"  style=\"position: relative; width: 640px; height: 480px;\">\n        <p id=\"3dmolwarning_17586036402416754\" style=\"background-color:#ffcccc;color:black\">3Dmol.js failed to load for some reason.  Please check your browser console for error messages.<br></p>\n        </div>\n<script>\n\nvar loadScriptAsync = function(uri){\n  return new Promise((resolve, reject) => {\n    //this is to ignore the existence of requirejs amd\n    var savedexports, savedmodule;\n    if (typeof exports !== 'undefined') savedexports = exports;\n    else exports = {}\n    if (typeof module !== 'undefined') savedmodule = module;\n    else module = {}\n\n    var tag = document.createElement('script');\n    tag.src = uri;\n    tag.async = true;\n    tag.onload = () => {\n        exports = savedexports;\n        module = savedmodule;\n        resolve();\n    };\n  var firstScriptTag = document.getElementsByTagName('script')[0];\n  firstScriptTag.parentNode.insertBefore(tag, firstScriptTag);\n});\n};\n\nif(typeof $3Dmolpromise === 'undefined') {\n$3Dmolpromise = null;\n  $3Dmolpromise = loadScriptAsync('https://cdnjs.cloudflare.com/ajax/libs/3Dmol/2.2.1-post1/3Dmol-min.js');\n}\n\nvar viewer_17586036402416754 = null;\nvar warn = document.getElementById(\"3dmolwarning_17586036402416754\");\nif(warn) {\n    warn.parentNode.removeChild(warn);\n}\n$3Dmolpromise.then(function() {\nviewer_17586036402416754 = $3Dmol.createViewer(document.getElementById(\"3dmolviewer_17586036402416754\"),{backgroundColor:\"white\"});\nviewer_17586036402416754.zoomTo();\n\tviewer_17586036402416754.addModel(\"@<TRIPOS>MOLECULE\\nRES\\n28 27 1 0 1\\nSMALL\\nNO_CHARGES\\n@<TRIPOS>CRYSIN\\n   15.1440     7.6352    12.5533    90.0000    90.0000    90.0000 1 1\\n@<TRIPOS>ATOM\\n       1 C            1.1053     0.0521    -0.0614 C             1 RES     \\n       2 C            0.5698    -0.1361     1.3658 C             1 RES     \\n       3 N           -0.8954    -0.1272     1.3709 N             1 RES     \\n       4 C           -1.3922    -0.3123     2.7377 C             1 RES     \\n       5 C           -2.9273    -0.3094     2.7504 C             1 RES     \\n       6 N           -3.4243    -0.4867     4.1176 N             1 RES     \\n       7 C           -4.8892    -0.4964     4.1219 C             1 RES     \\n       8 C           -5.4264    -0.6868     5.5484 C             1 RES     \\n       9 N           -6.8883    -0.6866     5.5626 N             1 RES     \\n      10 N            2.5673     0.0441    -0.0769 N             1 RES     \\n      11 H            0.7443     1.0005    -0.4763 H             1 RES     \\n      12 H            0.7387    -0.7533    -0.7076 H             1 RES     \\n      13 H            0.9443     0.6760     2.0012 H             1 RES     \\n      14 H            0.9415    -1.0844     1.7734 H             1 RES     \\n      15 H           -1.2344    -0.8950     0.7900 H             1 RES     \\n      16 H           -1.0244     0.4987     3.3785 H             1 RES     \\n      17 H           -1.0259    -1.2618     3.1483 H             1 RES     \\n      18 H           -3.2945    -1.1232     2.1127 H             1 RES     \\n      19 H           -3.2941     0.6381     2.3359 H             1 RES     \\n      20 H           -3.0854     0.2786     4.6998 H             1 RES     \\n      21 H           -5.2574    -1.3114     3.4869 H             1 RES     \\n      22 H           -5.2676     0.4489     3.7131 H             1 RES     \\n      23 H           -5.0620     0.1183     6.1973 H             1 RES     \\n      24 H           -5.0633    -1.6346     5.9607 H             1 RES     \\n      25 H           -7.2331     0.2092     5.2239 H             1 RES     \\n      26 H           -7.2123    -0.7776     6.5249 H             1 RES     \\n      27 H            2.9110     0.8215     0.4853 H             1 RES     \\n      28 H            2.8895     0.2174    -1.0283 H             1 RES     \\n@<TRIPOS>BOND\\n       1        1        2 1\\n       2        1       10 1\\n       3        1       11 1\\n       4        1       12 1\\n       5        2        3 1\\n       6        2       13 1\\n       7        2       14 1\\n       8        3        4 1\\n       9        3       15 1\\n      10        4        5 1\\n      11        4       16 1\\n      12        4       17 1\\n      13        5        6 1\\n      14        5       18 1\\n      15        5       19 1\\n      16        6        7 1\\n      17        6       20 1\\n      18        7        8 1\\n      19        7       21 1\\n      20        7       22 1\\n      21        8        9 1\\n      22        8       23 1\\n      23        8       24 1\\n      24        9       25 1\\n      25        9       26 1\\n      26       10       27 1\\n      27       10       28 1\\n@<TRIPOS>SUBSTRUCTURE\\n       1 RES             1 RESIDUE    0 **** ROOT      0\\n\",\"mol2\");\n\tviewer_17586036402416754.setStyle({\"stick\": {\"radius\": 0.18, \"color\": \"grey\"}, \"sphere\": {\"scale\": 0.3, \"colorscheme\": {}}});\n\tviewer_17586036402416754.zoomTo();\nviewer_17586036402416754.render();\n});\n</script>",
      "text/html": [
       "<div id=\"3dmolviewer_17586036402416754\"  style=\"position: relative; width: 640px; height: 480px;\">\n",
       "        <p id=\"3dmolwarning_17586036402416754\" style=\"background-color:#ffcccc;color:black\">3Dmol.js failed to load for some reason.  Please check your browser console for error messages.<br></p>\n",
       "        </div>\n",
       "<script>\n",
       "\n",
       "var loadScriptAsync = function(uri){\n",
       "  return new Promise((resolve, reject) => {\n",
       "    //this is to ignore the existence of requirejs amd\n",
       "    var savedexports, savedmodule;\n",
       "    if (typeof exports !== 'undefined') savedexports = exports;\n",
       "    else exports = {}\n",
       "    if (typeof module !== 'undefined') savedmodule = module;\n",
       "    else module = {}\n",
       "\n",
       "    var tag = document.createElement('script');\n",
       "    tag.src = uri;\n",
       "    tag.async = true;\n",
       "    tag.onload = () => {\n",
       "        exports = savedexports;\n",
       "        module = savedmodule;\n",
       "        resolve();\n",
       "    };\n",
       "  var firstScriptTag = document.getElementsByTagName('script')[0];\n",
       "  firstScriptTag.parentNode.insertBefore(tag, firstScriptTag);\n",
       "});\n",
       "};\n",
       "\n",
       "if(typeof $3Dmolpromise === 'undefined') {\n",
       "$3Dmolpromise = null;\n",
       "  $3Dmolpromise = loadScriptAsync('https://cdnjs.cloudflare.com/ajax/libs/3Dmol/2.2.1-post1/3Dmol-min.js');\n",
       "}\n",
       "\n",
       "var viewer_17586036402416754 = null;\n",
       "var warn = document.getElementById(\"3dmolwarning_17586036402416754\");\n",
       "if(warn) {\n",
       "    warn.parentNode.removeChild(warn);\n",
       "}\n",
       "$3Dmolpromise.then(function() {\n",
       "viewer_17586036402416754 = $3Dmol.createViewer(document.getElementById(\"3dmolviewer_17586036402416754\"),{backgroundColor:\"white\"});\n",
       "viewer_17586036402416754.zoomTo();\n",
       "\tviewer_17586036402416754.addModel(\"@<TRIPOS>MOLECULE\\nRES\\n28 27 1 0 1\\nSMALL\\nNO_CHARGES\\n@<TRIPOS>CRYSIN\\n   15.1440     7.6352    12.5533    90.0000    90.0000    90.0000 1 1\\n@<TRIPOS>ATOM\\n       1 C            1.1053     0.0521    -0.0614 C             1 RES     \\n       2 C            0.5698    -0.1361     1.3658 C             1 RES     \\n       3 N           -0.8954    -0.1272     1.3709 N             1 RES     \\n       4 C           -1.3922    -0.3123     2.7377 C             1 RES     \\n       5 C           -2.9273    -0.3094     2.7504 C             1 RES     \\n       6 N           -3.4243    -0.4867     4.1176 N             1 RES     \\n       7 C           -4.8892    -0.4964     4.1219 C             1 RES     \\n       8 C           -5.4264    -0.6868     5.5484 C             1 RES     \\n       9 N           -6.8883    -0.6866     5.5626 N             1 RES     \\n      10 N            2.5673     0.0441    -0.0769 N             1 RES     \\n      11 H            0.7443     1.0005    -0.4763 H             1 RES     \\n      12 H            0.7387    -0.7533    -0.7076 H             1 RES     \\n      13 H            0.9443     0.6760     2.0012 H             1 RES     \\n      14 H            0.9415    -1.0844     1.7734 H             1 RES     \\n      15 H           -1.2344    -0.8950     0.7900 H             1 RES     \\n      16 H           -1.0244     0.4987     3.3785 H             1 RES     \\n      17 H           -1.0259    -1.2618     3.1483 H             1 RES     \\n      18 H           -3.2945    -1.1232     2.1127 H             1 RES     \\n      19 H           -3.2941     0.6381     2.3359 H             1 RES     \\n      20 H           -3.0854     0.2786     4.6998 H             1 RES     \\n      21 H           -5.2574    -1.3114     3.4869 H             1 RES     \\n      22 H           -5.2676     0.4489     3.7131 H             1 RES     \\n      23 H           -5.0620     0.1183     6.1973 H             1 RES     \\n      24 H           -5.0633    -1.6346     5.9607 H             1 RES     \\n      25 H           -7.2331     0.2092     5.2239 H             1 RES     \\n      26 H           -7.2123    -0.7776     6.5249 H             1 RES     \\n      27 H            2.9110     0.8215     0.4853 H             1 RES     \\n      28 H            2.8895     0.2174    -1.0283 H             1 RES     \\n@<TRIPOS>BOND\\n       1        1        2 1\\n       2        1       10 1\\n       3        1       11 1\\n       4        1       12 1\\n       5        2        3 1\\n       6        2       13 1\\n       7        2       14 1\\n       8        3        4 1\\n       9        3       15 1\\n      10        4        5 1\\n      11        4       16 1\\n      12        4       17 1\\n      13        5        6 1\\n      14        5       18 1\\n      15        5       19 1\\n      16        6        7 1\\n      17        6       20 1\\n      18        7        8 1\\n      19        7       21 1\\n      20        7       22 1\\n      21        8        9 1\\n      22        8       23 1\\n      23        8       24 1\\n      24        9       25 1\\n      25        9       26 1\\n      26       10       27 1\\n      27       10       28 1\\n@<TRIPOS>SUBSTRUCTURE\\n       1 RES             1 RESIDUE    0 **** ROOT      0\\n\",\"mol2\");\n",
       "\tviewer_17586036402416754.setStyle({\"stick\": {\"radius\": 0.18, \"color\": \"grey\"}, \"sphere\": {\"scale\": 0.3, \"colorscheme\": {}}});\n",
       "\tviewer_17586036402416754.zoomTo();\n",
       "viewer_17586036402416754.render();\n",
       "});\n",
       "</script>"
      ]
     },
     "metadata": {},
     "output_type": "display_data"
    },
    {
     "data": {
      "text/plain": [
       "<py3Dmol.view at 0x7ff4183565c0>"
      ]
     },
     "execution_count": 17,
     "metadata": {},
     "output_type": "execute_result"
    }
   ],
   "source": [
    "_, cid = fetch_and_plug_CR(\"triethylenetetramine\")\n",
    "smiles, _ = get_mol_CR(cid)\n",
    "Polymer_Compound = Build_3D_CR(smiles) \n",
    "Polymer_Compound.visualize()"
   ]
  },
  {
   "cell_type": "markdown",
   "id": "953b82d2",
   "metadata": {},
   "source": [
    "Now the monomer has to be modified by adding the ports and removing a hydrogen from the ends of the TETA chain"
   ]
  },
  {
   "cell_type": "code",
   "execution_count": 18,
   "id": "d66a7a66",
   "metadata": {},
   "outputs": [],
   "source": [
    "ports_to_add_Dummy_atoms_Polymer_Compound = {\n",
    "\n",
    "     \"NH2C\" : [\n",
    "        [\"N\", # The first atom is the \"anchor\" or base atom \n",
    "           \"H\", \"H\", \"C\"], # Bonded atoms to Carbon \n",
    "        [\"H\"], # Atom to remove and create port\n",
    "        [3], # Total number of bonds in carbon atom \n",
    "        ],\n",
    "}"
   ]
  },
  {
   "cell_type": "code",
   "execution_count": 19,
   "id": "0f0756b6",
   "metadata": {},
   "outputs": [
    {
     "name": "stdout",
     "output_type": "stream",
     "text": [
      "\n",
      "\n",
      "Added ports to the molecule\n",
      "\n",
      "\n",
      "Added 2 ports to the molecule\n"
     ]
    }
   ],
   "source": [
    "compound_1_port_PC = Add_port_CR(Polymer_Compound,\n",
    "                                type = \"NH2C\",\n",
    "                                name = \"up\",\n",
    "                                manual_ports= True,\n",
    "                                ports_dict = ports_to_add_Dummy_atoms_Polymer_Compound)    \n",
    "    \n",
    "print(\"Added ports to the molecule\")\n",
    "tmp_cmp_PC = mb.clone(compound_1_port_PC)\n",
    "\n",
    "#Adding second port to the repeat unit        \n",
    "compound_with_2_ports_PC = Add_port_CR(tmp_cmp_PC,\n",
    "                                    type = \"NH2C\",\n",
    "                                    name = \"down\",\n",
    "                                    manual_ports= True,\n",
    "                                    ports_dict = ports_to_add_Dummy_atoms_Polymer_Compound)      \n",
    "print(\"Added 2 ports to the molecule\")"
   ]
  },
  {
   "cell_type": "code",
   "execution_count": 20,
   "id": "05357d18",
   "metadata": {},
   "outputs": [
    {
     "data": {
      "application/3dmoljs_load.v0": "<div id=\"3dmolviewer_1758603640282187\"  style=\"position: relative; width: 640px; height: 480px;\">\n        <p id=\"3dmolwarning_1758603640282187\" style=\"background-color:#ffcccc;color:black\">3Dmol.js failed to load for some reason.  Please check your browser console for error messages.<br></p>\n        </div>\n<script>\n\nvar loadScriptAsync = function(uri){\n  return new Promise((resolve, reject) => {\n    //this is to ignore the existence of requirejs amd\n    var savedexports, savedmodule;\n    if (typeof exports !== 'undefined') savedexports = exports;\n    else exports = {}\n    if (typeof module !== 'undefined') savedmodule = module;\n    else module = {}\n\n    var tag = document.createElement('script');\n    tag.src = uri;\n    tag.async = true;\n    tag.onload = () => {\n        exports = savedexports;\n        module = savedmodule;\n        resolve();\n    };\n  var firstScriptTag = document.getElementsByTagName('script')[0];\n  firstScriptTag.parentNode.insertBefore(tag, firstScriptTag);\n});\n};\n\nif(typeof $3Dmolpromise === 'undefined') {\n$3Dmolpromise = null;\n  $3Dmolpromise = loadScriptAsync('https://cdnjs.cloudflare.com/ajax/libs/3Dmol/2.2.1-post1/3Dmol-min.js');\n}\n\nvar viewer_1758603640282187 = null;\nvar warn = document.getElementById(\"3dmolwarning_1758603640282187\");\nif(warn) {\n    warn.parentNode.removeChild(warn);\n}\n$3Dmolpromise.then(function() {\nviewer_1758603640282187 = $3Dmol.createViewer(document.getElementById(\"3dmolviewer_1758603640282187\"),{backgroundColor:\"white\"});\nviewer_1758603640282187.zoomTo();\n\tviewer_1758603640282187.addModel(\"@<TRIPOS>MOLECULE\\nRES\\n58 25 2 0 1\\nBIOPOLYMER\\nNO_CHARGES\\n@<TRIPOS>CRYSIN\\n   15.1018     7.6352    12.5533    90.0000    90.0000    90.0000 1 1\\n@<TRIPOS>ATOM\\n       1 C            1.1053     0.0521    -0.0614 C             1 RES     \\n       2 C            0.5698    -0.1361     1.3658 C             1 RES     \\n       3 N           -0.8954    -0.1272     1.3709 N             1 RES     \\n       4 C           -1.3922    -0.3123     2.7377 C             1 RES     \\n       5 C           -2.9273    -0.3094     2.7504 C             1 RES     \\n       6 N           -3.4243    -0.4867     4.1176 N             1 RES     \\n       7 C           -4.8892    -0.4964     4.1219 C             1 RES     \\n       8 C           -5.4264    -0.6868     5.5484 C             1 RES     \\n       9 N           -6.8883    -0.6866     5.5626 N             1 RES     \\n      10 N            2.5673     0.0441    -0.0769 N             1 RES     \\n      11 H            0.7443     1.0005    -0.4763 H             1 RES     \\n      12 H            0.7387    -0.7533    -0.7076 H             1 RES     \\n      13 H            0.9443     0.6760     2.0012 H             1 RES     \\n      14 H            0.9415    -1.0844     1.7734 H             1 RES     \\n      15 H           -1.2344    -0.8950     0.7900 H             1 RES     \\n      16 H           -1.0244     0.4987     3.3785 H             1 RES     \\n      17 H           -1.0259    -1.2618     3.1483 H             1 RES     \\n      18 H           -3.2945    -1.1232     2.1127 H             1 RES     \\n      19 H           -3.2941     0.6381     2.3359 H             1 RES     \\n      20 H           -3.0854     0.2786     4.6998 H             1 RES     \\n      21 H           -5.2574    -1.3114     3.4869 H             1 RES     \\n      22 H           -5.2676     0.4489     3.7131 H             1 RES     \\n      23 H           -5.0620     0.1183     6.1973 H             1 RES     \\n      24 H           -5.0633    -1.6346     5.9607 H             1 RES     \\n      25 H           -7.2123    -0.7776     6.5249 H             1 RES     \\n      26 H            2.8895     0.2174    -1.0283 H             1 RES     \\n      27 VS          -7.0207    -0.2081     5.3584 VS            2 PRT     \\n      28 VS          -7.0884    -0.0321     5.2918 VS            2 PRT     \\n      29 VS          -7.1746    -0.3639     5.4037 VS            2 PRT     \\n      30 VS          -6.9590    -0.3509     5.5191 VS            2 PRT     \\n      31 VS          -7.0265    -0.2694     5.3526 VS            2 PRT     \\n      32 VS          -6.9588    -0.4454     5.4192 VS            2 PRT     \\n      33 VS          -7.0691    -0.1136     5.5073 VS            2 PRT     \\n      34 VS          -7.1883    -0.1266     5.2938 VS            2 PRT     \\n      35 VS           2.7970     0.4488     0.1921 VS            2 PRT     \\n      36 VS           2.8644     0.6013     0.3024 VS            2 PRT     \\n      37 VS           2.5761     0.4399     0.1580 VS            2 PRT     \\n      38 VS           2.7190     0.2410     0.1645 VS            2 PRT     \\n      39 VS           2.7763     0.4168     0.1583 VS            2 PRT     \\n      40 VS           2.7089     0.2642     0.0480 VS            2 PRT     \\n      41 VS           2.7060     0.4256     0.3704 VS            2 PRT     \\n      42 VS           2.7653     0.6245     0.2403 VS            2 PRT     \\n      43 VS          -7.1931     0.2398     5.1890 VS            2 PRT     \\n      44 VS          -7.2608     0.4158     5.1225 VS            2 PRT     \\n      45 VS          -7.3470     0.0840     5.2343 VS            2 PRT     \\n      46 VS          -7.1313     0.0970     5.3497 VS            2 PRT     \\n      47 VS          -7.1989     0.1785     5.1833 VS            2 PRT     \\n      48 VS          -7.1312     0.0025     5.2498 VS            2 PRT     \\n      49 VS          -7.2415     0.3343     5.3380 VS            2 PRT     \\n      50 VS          -7.3607     0.3213     5.1244 VS            2 PRT     \\n      51 VS           2.9688     0.8375     0.4732 VS            2 PRT     \\n      52 VS           3.0362     0.9900     0.5835 VS            2 PRT     \\n      53 VS           2.7480     0.8286     0.4391 VS            2 PRT     \\n      54 VS           2.8908     0.6297     0.4456 VS            2 PRT     \\n      55 VS           2.9482     0.8055     0.4394 VS            2 PRT     \\n      56 VS           2.8807     0.6529     0.3291 VS            2 PRT     \\n      57 VS           2.8778     0.8143     0.6515 VS            2 PRT     \\n      58 VS           2.9372     1.0132     0.5214 VS            2 PRT     \\n@<TRIPOS>BOND\\n       1        1        2 1\\n       2        1       10 1\\n       3        1       11 1\\n       4        1       12 1\\n       5        2        3 1\\n       6        2       13 1\\n       7        2       14 1\\n       8        3        4 1\\n       9        3       15 1\\n      10        4        5 1\\n      11        4       16 1\\n      12        4       17 1\\n      13        5        6 1\\n      14        5       18 1\\n      15        5       19 1\\n      16        6        7 1\\n      17        6       20 1\\n      18        7        8 1\\n      19        7       21 1\\n      20        7       22 1\\n      21        8        9 1\\n      22        8       23 1\\n      23        8       24 1\\n      24        9       25 1\\n      25       10       26 1\\n@<TRIPOS>SUBSTRUCTURE\\n       1 RES             1 RESIDUE    0 **** ROOT      0\\n       2 PRT            27 RESIDUE    0 **** ROOT      0\\n\",\"mol2\");\n\tviewer_1758603640282187.setStyle({\"stick\": {\"radius\": 0.18, \"color\": \"grey\"}, \"sphere\": {\"scale\": 0.3, \"colorscheme\": {}}});\n\tviewer_1758603640282187.zoomTo();\nviewer_1758603640282187.render();\n});\n</script>",
      "text/html": [
       "<div id=\"3dmolviewer_1758603640282187\"  style=\"position: relative; width: 640px; height: 480px;\">\n",
       "        <p id=\"3dmolwarning_1758603640282187\" style=\"background-color:#ffcccc;color:black\">3Dmol.js failed to load for some reason.  Please check your browser console for error messages.<br></p>\n",
       "        </div>\n",
       "<script>\n",
       "\n",
       "var loadScriptAsync = function(uri){\n",
       "  return new Promise((resolve, reject) => {\n",
       "    //this is to ignore the existence of requirejs amd\n",
       "    var savedexports, savedmodule;\n",
       "    if (typeof exports !== 'undefined') savedexports = exports;\n",
       "    else exports = {}\n",
       "    if (typeof module !== 'undefined') savedmodule = module;\n",
       "    else module = {}\n",
       "\n",
       "    var tag = document.createElement('script');\n",
       "    tag.src = uri;\n",
       "    tag.async = true;\n",
       "    tag.onload = () => {\n",
       "        exports = savedexports;\n",
       "        module = savedmodule;\n",
       "        resolve();\n",
       "    };\n",
       "  var firstScriptTag = document.getElementsByTagName('script')[0];\n",
       "  firstScriptTag.parentNode.insertBefore(tag, firstScriptTag);\n",
       "});\n",
       "};\n",
       "\n",
       "if(typeof $3Dmolpromise === 'undefined') {\n",
       "$3Dmolpromise = null;\n",
       "  $3Dmolpromise = loadScriptAsync('https://cdnjs.cloudflare.com/ajax/libs/3Dmol/2.2.1-post1/3Dmol-min.js');\n",
       "}\n",
       "\n",
       "var viewer_1758603640282187 = null;\n",
       "var warn = document.getElementById(\"3dmolwarning_1758603640282187\");\n",
       "if(warn) {\n",
       "    warn.parentNode.removeChild(warn);\n",
       "}\n",
       "$3Dmolpromise.then(function() {\n",
       "viewer_1758603640282187 = $3Dmol.createViewer(document.getElementById(\"3dmolviewer_1758603640282187\"),{backgroundColor:\"white\"});\n",
       "viewer_1758603640282187.zoomTo();\n",
       "\tviewer_1758603640282187.addModel(\"@<TRIPOS>MOLECULE\\nRES\\n58 25 2 0 1\\nBIOPOLYMER\\nNO_CHARGES\\n@<TRIPOS>CRYSIN\\n   15.1018     7.6352    12.5533    90.0000    90.0000    90.0000 1 1\\n@<TRIPOS>ATOM\\n       1 C            1.1053     0.0521    -0.0614 C             1 RES     \\n       2 C            0.5698    -0.1361     1.3658 C             1 RES     \\n       3 N           -0.8954    -0.1272     1.3709 N             1 RES     \\n       4 C           -1.3922    -0.3123     2.7377 C             1 RES     \\n       5 C           -2.9273    -0.3094     2.7504 C             1 RES     \\n       6 N           -3.4243    -0.4867     4.1176 N             1 RES     \\n       7 C           -4.8892    -0.4964     4.1219 C             1 RES     \\n       8 C           -5.4264    -0.6868     5.5484 C             1 RES     \\n       9 N           -6.8883    -0.6866     5.5626 N             1 RES     \\n      10 N            2.5673     0.0441    -0.0769 N             1 RES     \\n      11 H            0.7443     1.0005    -0.4763 H             1 RES     \\n      12 H            0.7387    -0.7533    -0.7076 H             1 RES     \\n      13 H            0.9443     0.6760     2.0012 H             1 RES     \\n      14 H            0.9415    -1.0844     1.7734 H             1 RES     \\n      15 H           -1.2344    -0.8950     0.7900 H             1 RES     \\n      16 H           -1.0244     0.4987     3.3785 H             1 RES     \\n      17 H           -1.0259    -1.2618     3.1483 H             1 RES     \\n      18 H           -3.2945    -1.1232     2.1127 H             1 RES     \\n      19 H           -3.2941     0.6381     2.3359 H             1 RES     \\n      20 H           -3.0854     0.2786     4.6998 H             1 RES     \\n      21 H           -5.2574    -1.3114     3.4869 H             1 RES     \\n      22 H           -5.2676     0.4489     3.7131 H             1 RES     \\n      23 H           -5.0620     0.1183     6.1973 H             1 RES     \\n      24 H           -5.0633    -1.6346     5.9607 H             1 RES     \\n      25 H           -7.2123    -0.7776     6.5249 H             1 RES     \\n      26 H            2.8895     0.2174    -1.0283 H             1 RES     \\n      27 VS          -7.0207    -0.2081     5.3584 VS            2 PRT     \\n      28 VS          -7.0884    -0.0321     5.2918 VS            2 PRT     \\n      29 VS          -7.1746    -0.3639     5.4037 VS            2 PRT     \\n      30 VS          -6.9590    -0.3509     5.5191 VS            2 PRT     \\n      31 VS          -7.0265    -0.2694     5.3526 VS            2 PRT     \\n      32 VS          -6.9588    -0.4454     5.4192 VS            2 PRT     \\n      33 VS          -7.0691    -0.1136     5.5073 VS            2 PRT     \\n      34 VS          -7.1883    -0.1266     5.2938 VS            2 PRT     \\n      35 VS           2.7970     0.4488     0.1921 VS            2 PRT     \\n      36 VS           2.8644     0.6013     0.3024 VS            2 PRT     \\n      37 VS           2.5761     0.4399     0.1580 VS            2 PRT     \\n      38 VS           2.7190     0.2410     0.1645 VS            2 PRT     \\n      39 VS           2.7763     0.4168     0.1583 VS            2 PRT     \\n      40 VS           2.7089     0.2642     0.0480 VS            2 PRT     \\n      41 VS           2.7060     0.4256     0.3704 VS            2 PRT     \\n      42 VS           2.7653     0.6245     0.2403 VS            2 PRT     \\n      43 VS          -7.1931     0.2398     5.1890 VS            2 PRT     \\n      44 VS          -7.2608     0.4158     5.1225 VS            2 PRT     \\n      45 VS          -7.3470     0.0840     5.2343 VS            2 PRT     \\n      46 VS          -7.1313     0.0970     5.3497 VS            2 PRT     \\n      47 VS          -7.1989     0.1785     5.1833 VS            2 PRT     \\n      48 VS          -7.1312     0.0025     5.2498 VS            2 PRT     \\n      49 VS          -7.2415     0.3343     5.3380 VS            2 PRT     \\n      50 VS          -7.3607     0.3213     5.1244 VS            2 PRT     \\n      51 VS           2.9688     0.8375     0.4732 VS            2 PRT     \\n      52 VS           3.0362     0.9900     0.5835 VS            2 PRT     \\n      53 VS           2.7480     0.8286     0.4391 VS            2 PRT     \\n      54 VS           2.8908     0.6297     0.4456 VS            2 PRT     \\n      55 VS           2.9482     0.8055     0.4394 VS            2 PRT     \\n      56 VS           2.8807     0.6529     0.3291 VS            2 PRT     \\n      57 VS           2.8778     0.8143     0.6515 VS            2 PRT     \\n      58 VS           2.9372     1.0132     0.5214 VS            2 PRT     \\n@<TRIPOS>BOND\\n       1        1        2 1\\n       2        1       10 1\\n       3        1       11 1\\n       4        1       12 1\\n       5        2        3 1\\n       6        2       13 1\\n       7        2       14 1\\n       8        3        4 1\\n       9        3       15 1\\n      10        4        5 1\\n      11        4       16 1\\n      12        4       17 1\\n      13        5        6 1\\n      14        5       18 1\\n      15        5       19 1\\n      16        6        7 1\\n      17        6       20 1\\n      18        7        8 1\\n      19        7       21 1\\n      20        7       22 1\\n      21        8        9 1\\n      22        8       23 1\\n      23        8       24 1\\n      24        9       25 1\\n      25       10       26 1\\n@<TRIPOS>SUBSTRUCTURE\\n       1 RES             1 RESIDUE    0 **** ROOT      0\\n       2 PRT            27 RESIDUE    0 **** ROOT      0\\n\",\"mol2\");\n",
       "\tviewer_1758603640282187.setStyle({\"stick\": {\"radius\": 0.18, \"color\": \"grey\"}, \"sphere\": {\"scale\": 0.3, \"colorscheme\": {}}});\n",
       "\tviewer_1758603640282187.zoomTo();\n",
       "viewer_1758603640282187.render();\n",
       "});\n",
       "</script>"
      ]
     },
     "metadata": {},
     "output_type": "display_data"
    },
    {
     "data": {
      "text/plain": [
       "<py3Dmol.view at 0x7ff31ad65930>"
      ]
     },
     "execution_count": 20,
     "metadata": {},
     "output_type": "execute_result"
    }
   ],
   "source": [
    "compound_with_2_ports_PC.visualize(show_ports=True)"
   ]
  },
  {
   "cell_type": "markdown",
   "id": "68511e66",
   "metadata": {},
   "source": [
    "After adding the ports to the polymer monomer, now the Trimesoyl Chloride (TMC) is loaded and the ports are added"
   ]
  },
  {
   "cell_type": "code",
   "execution_count": 21,
   "id": "afa3c067",
   "metadata": {},
   "outputs": [
    {
     "name": "stdout",
     "output_type": "stream",
     "text": [
      "Base name: trimesoyl chloride, SMILES: None, CID: 78138\n",
      "C1=C(C=C(C=C1C(=O)Cl)C(=O)Cl)C(=O)Cl\n"
     ]
    }
   ],
   "source": [
    "_, cid = fetch_and_plug_CR(\"trimesoyl chloride\")\n",
    "smiles, _ = get_mol_CR(cid)\n",
    "TMC = Build_3D_CR(smiles) \n",
    "TMC.visualize()\n",
    "tmc_c = mb.clone(TMC)"
   ]
  },
  {
   "cell_type": "code",
   "execution_count": 22,
   "id": "38d614cf",
   "metadata": {},
   "outputs": [],
   "source": [
    "ports_to_add_Dummy_atoms_TMC = {\n",
    "\n",
    "     \"C_Cl\" : [\n",
    "        [\"C\", # The first atom is the \"anchor\" or base atom \n",
    "        \"C\", \"O\",\"Cl\"], # Bonded atoms to Carbon \n",
    "        [\"Cl\"], # Atom to remove and create port\n",
    "        [3], # Total number of bonds in carbon atom \n",
    "        ],\n",
    "}"
   ]
  },
  {
   "cell_type": "code",
   "execution_count": 23,
   "id": "702a2d40",
   "metadata": {},
   "outputs": [
    {
     "name": "stdout",
     "output_type": "stream",
     "text": [
      "\n",
      "\n",
      "\n",
      "\n",
      "\n",
      "\n",
      "Added ports to the molecule\n",
      "\n",
      "\n",
      "\n",
      "\n",
      "\n",
      "\n",
      "Added 2 ports to the molecule\n"
     ]
    }
   ],
   "source": [
    "compound_1_port_TMC = Add_port_CR(tmc_c,\n",
    "                                type = \"C_Cl\",\n",
    "                                name = \"up\",\n",
    "                                manual_ports= True,\n",
    "                                ports_dict = ports_to_add_Dummy_atoms_TMC)    \n",
    "    \n",
    "print(\"Added ports to the molecule\")\n",
    "tmp_cmp_TMC = mb.clone(compound_1_port_TMC)\n",
    "\n",
    "#Adding second port to the repeat unit        \n",
    "compound_with_2_ports_TMC = Add_port_CR(tmp_cmp_TMC,\n",
    "                                    type = \"C_Cl\",\n",
    "                                    name = \"down\",\n",
    "                                    manual_ports= True,\n",
    "                                    ports_dict = ports_to_add_Dummy_atoms_TMC)      \n",
    "print(\"Added 2 ports to the molecule\")"
   ]
  },
  {
   "cell_type": "code",
   "execution_count": 24,
   "id": "be4e2d59",
   "metadata": {},
   "outputs": [
    {
     "data": {
      "application/3dmoljs_load.v0": "<div id=\"3dmolviewer_17586036409951205\"  style=\"position: relative; width: 640px; height: 480px;\">\n        <p id=\"3dmolwarning_17586036409951205\" style=\"background-color:#ffcccc;color:black\">3Dmol.js failed to load for some reason.  Please check your browser console for error messages.<br></p>\n        </div>\n<script>\n\nvar loadScriptAsync = function(uri){\n  return new Promise((resolve, reject) => {\n    //this is to ignore the existence of requirejs amd\n    var savedexports, savedmodule;\n    if (typeof exports !== 'undefined') savedexports = exports;\n    else exports = {}\n    if (typeof module !== 'undefined') savedmodule = module;\n    else module = {}\n\n    var tag = document.createElement('script');\n    tag.src = uri;\n    tag.async = true;\n    tag.onload = () => {\n        exports = savedexports;\n        module = savedmodule;\n        resolve();\n    };\n  var firstScriptTag = document.getElementsByTagName('script')[0];\n  firstScriptTag.parentNode.insertBefore(tag, firstScriptTag);\n});\n};\n\nif(typeof $3Dmolpromise === 'undefined') {\n$3Dmolpromise = null;\n  $3Dmolpromise = loadScriptAsync('https://cdnjs.cloudflare.com/ajax/libs/3Dmol/2.2.1-post1/3Dmol-min.js');\n}\n\nvar viewer_17586036409951205 = null;\nvar warn = document.getElementById(\"3dmolwarning_17586036409951205\");\nif(warn) {\n    warn.parentNode.removeChild(warn);\n}\n$3Dmolpromise.then(function() {\nviewer_17586036409951205 = $3Dmol.createViewer(document.getElementById(\"3dmolviewer_17586036409951205\"),{backgroundColor:\"white\"});\nviewer_17586036409951205.zoomTo();\n\tviewer_17586036409951205.addModel(\"@<TRIPOS>MOLECULE\\nRES\\n48 16 2 0 1\\nBIOPOLYMER\\nNO_CHARGES\\n@<TRIPOS>CRYSIN\\n   11.7393    12.0023     5.4770    90.0000    90.0000    90.0000 1 1\\n@<TRIPOS>ATOM\\n       1 C            1.3917    -0.2095     0.0144 C             1 RES     \\n       2 C            0.8871     1.0968    -0.0305 C             1 RES     \\n       3 C           -0.5019     1.2981     0.0161 C             1 RES     \\n       4 C           -1.3873     0.2075    -0.0180 C             1 RES     \\n       5 C           -0.8656    -1.0935    -0.0063 C             1 RES     \\n       6 C            0.5234    -1.3092     0.0158 C             1 RES     \\n       7 C            1.0466    -2.7164    -0.0299 C             1 RES     \\n       8 O            0.2091    -3.6182    -0.0664 O             1 RES     \\n       9 C           -2.8613     0.4678    -0.1588 C             1 RES     \\n      10 O           -3.2193     1.6452    -0.1834 O             1 RES     \\n      11 C            1.7977     2.2742    -0.2397 C             1 RES     \\n      12 O            1.2703     3.3842    -0.3148 O             1 RES     \\n      13 Cl           3.5200     2.0215    -0.4392 Cl            1 RES     \\n      14 H            2.4653    -0.3708     0.0237 H             1 RES     \\n      15 H           -0.8984     2.3155     0.0377 H             1 RES     \\n      16 H           -1.5284    -1.9577    -0.0319 H             1 RES     \\n      17 VS           1.9248    -2.9170    -0.0659 VS            2 PRT     \\n      18 VS           2.1219    -2.9506    -0.0685 VS            2 PRT     \\n      19 VS           1.8597    -2.7031    -0.0677 VS            2 PRT     \\n      20 VS           1.7292    -2.8821     0.0367 VS            2 PRT     \\n      21 VS           1.8924    -2.8094    -0.0655 VS            2 PRT     \\n      22 VS           1.6952    -2.7758    -0.0629 VS            2 PRT     \\n      23 VS           1.9574    -3.0233    -0.0690 VS            2 PRT     \\n      24 VS           2.0906    -2.8443     0.0319 VS            2 PRT     \\n      25 VS          -3.4640    -0.1910    -0.2833 VS            2 PRT     \\n      26 VS          -3.5914    -0.3439    -0.3027 VS            2 PRT     \\n      27 VS          -3.2553    -0.2419    -0.2210 VS            2 PRT     \\n      28 VS          -3.3629    -0.0283    -0.1679 VS            2 PRT     \\n      29 VS          -3.3631    -0.2116    -0.2679 VS            2 PRT     \\n      30 VS          -3.2357    -0.0586    -0.2485 VS            2 PRT     \\n      31 VS          -3.5808    -0.1607    -0.2706 VS            2 PRT     \\n      32 VS          -3.4940    -0.3742    -0.1879 VS            2 PRT     \\n      33 VS           2.7870    -3.0638    -0.0774 VS            2 PRT     \\n      34 VS           2.9842    -3.0973    -0.0800 VS            2 PRT     \\n      35 VS           2.7220    -2.8499    -0.0792 VS            2 PRT     \\n      36 VS           2.5914    -3.0289     0.0252 VS            2 PRT     \\n      37 VS           2.7546    -2.9562    -0.0769 VS            2 PRT     \\n      38 VS           2.5575    -2.9226    -0.0743 VS            2 PRT     \\n      39 VS           2.8196    -3.1701    -0.0804 VS            2 PRT     \\n      40 VS           2.9529    -2.9910     0.0204 VS            2 PRT     \\n      41 VS          -4.0211    -0.8601    -0.3683 VS            2 PRT     \\n      42 VS          -4.1485    -1.0130    -0.3877 VS            2 PRT     \\n      43 VS          -3.8125    -0.9110    -0.3060 VS            2 PRT     \\n      44 VS          -3.9200    -0.6974    -0.2529 VS            2 PRT     \\n      45 VS          -3.9202    -0.8807    -0.3529 VS            2 PRT     \\n      46 VS          -3.7929    -0.7277    -0.3335 VS            2 PRT     \\n      47 VS          -4.1379    -0.8298    -0.3556 VS            2 PRT     \\n      48 VS          -4.0511    -1.0433    -0.2729 VS            2 PRT     \\n@<TRIPOS>BOND\\n       1        1        2 1\\n       2        1        6 1\\n       3        1       14 1\\n       4        2        3 1\\n       5        2       11 1\\n       6        3        4 1\\n       7        3       15 1\\n       8        4        5 1\\n       9        4        9 1\\n      10        5        6 1\\n      11        5       16 1\\n      12        6        7 1\\n      13        7        8 1\\n      14        9       10 1\\n      15       11       12 1\\n      16       11       13 1\\n@<TRIPOS>SUBSTRUCTURE\\n       1 RES             1 RESIDUE    0 **** ROOT      0\\n       2 PRT            17 RESIDUE    0 **** ROOT      0\\n\",\"mol2\");\n\tviewer_17586036409951205.setStyle({\"stick\": {\"radius\": 0.18, \"color\": \"grey\"}, \"sphere\": {\"scale\": 0.3, \"colorscheme\": {}}});\n\tviewer_17586036409951205.zoomTo();\nviewer_17586036409951205.render();\n});\n</script>",
      "text/html": [
       "<div id=\"3dmolviewer_17586036409951205\"  style=\"position: relative; width: 640px; height: 480px;\">\n",
       "        <p id=\"3dmolwarning_17586036409951205\" style=\"background-color:#ffcccc;color:black\">3Dmol.js failed to load for some reason.  Please check your browser console for error messages.<br></p>\n",
       "        </div>\n",
       "<script>\n",
       "\n",
       "var loadScriptAsync = function(uri){\n",
       "  return new Promise((resolve, reject) => {\n",
       "    //this is to ignore the existence of requirejs amd\n",
       "    var savedexports, savedmodule;\n",
       "    if (typeof exports !== 'undefined') savedexports = exports;\n",
       "    else exports = {}\n",
       "    if (typeof module !== 'undefined') savedmodule = module;\n",
       "    else module = {}\n",
       "\n",
       "    var tag = document.createElement('script');\n",
       "    tag.src = uri;\n",
       "    tag.async = true;\n",
       "    tag.onload = () => {\n",
       "        exports = savedexports;\n",
       "        module = savedmodule;\n",
       "        resolve();\n",
       "    };\n",
       "  var firstScriptTag = document.getElementsByTagName('script')[0];\n",
       "  firstScriptTag.parentNode.insertBefore(tag, firstScriptTag);\n",
       "});\n",
       "};\n",
       "\n",
       "if(typeof $3Dmolpromise === 'undefined') {\n",
       "$3Dmolpromise = null;\n",
       "  $3Dmolpromise = loadScriptAsync('https://cdnjs.cloudflare.com/ajax/libs/3Dmol/2.2.1-post1/3Dmol-min.js');\n",
       "}\n",
       "\n",
       "var viewer_17586036409951205 = null;\n",
       "var warn = document.getElementById(\"3dmolwarning_17586036409951205\");\n",
       "if(warn) {\n",
       "    warn.parentNode.removeChild(warn);\n",
       "}\n",
       "$3Dmolpromise.then(function() {\n",
       "viewer_17586036409951205 = $3Dmol.createViewer(document.getElementById(\"3dmolviewer_17586036409951205\"),{backgroundColor:\"white\"});\n",
       "viewer_17586036409951205.zoomTo();\n",
       "\tviewer_17586036409951205.addModel(\"@<TRIPOS>MOLECULE\\nRES\\n48 16 2 0 1\\nBIOPOLYMER\\nNO_CHARGES\\n@<TRIPOS>CRYSIN\\n   11.7393    12.0023     5.4770    90.0000    90.0000    90.0000 1 1\\n@<TRIPOS>ATOM\\n       1 C            1.3917    -0.2095     0.0144 C             1 RES     \\n       2 C            0.8871     1.0968    -0.0305 C             1 RES     \\n       3 C           -0.5019     1.2981     0.0161 C             1 RES     \\n       4 C           -1.3873     0.2075    -0.0180 C             1 RES     \\n       5 C           -0.8656    -1.0935    -0.0063 C             1 RES     \\n       6 C            0.5234    -1.3092     0.0158 C             1 RES     \\n       7 C            1.0466    -2.7164    -0.0299 C             1 RES     \\n       8 O            0.2091    -3.6182    -0.0664 O             1 RES     \\n       9 C           -2.8613     0.4678    -0.1588 C             1 RES     \\n      10 O           -3.2193     1.6452    -0.1834 O             1 RES     \\n      11 C            1.7977     2.2742    -0.2397 C             1 RES     \\n      12 O            1.2703     3.3842    -0.3148 O             1 RES     \\n      13 Cl           3.5200     2.0215    -0.4392 Cl            1 RES     \\n      14 H            2.4653    -0.3708     0.0237 H             1 RES     \\n      15 H           -0.8984     2.3155     0.0377 H             1 RES     \\n      16 H           -1.5284    -1.9577    -0.0319 H             1 RES     \\n      17 VS           1.9248    -2.9170    -0.0659 VS            2 PRT     \\n      18 VS           2.1219    -2.9506    -0.0685 VS            2 PRT     \\n      19 VS           1.8597    -2.7031    -0.0677 VS            2 PRT     \\n      20 VS           1.7292    -2.8821     0.0367 VS            2 PRT     \\n      21 VS           1.8924    -2.8094    -0.0655 VS            2 PRT     \\n      22 VS           1.6952    -2.7758    -0.0629 VS            2 PRT     \\n      23 VS           1.9574    -3.0233    -0.0690 VS            2 PRT     \\n      24 VS           2.0906    -2.8443     0.0319 VS            2 PRT     \\n      25 VS          -3.4640    -0.1910    -0.2833 VS            2 PRT     \\n      26 VS          -3.5914    -0.3439    -0.3027 VS            2 PRT     \\n      27 VS          -3.2553    -0.2419    -0.2210 VS            2 PRT     \\n      28 VS          -3.3629    -0.0283    -0.1679 VS            2 PRT     \\n      29 VS          -3.3631    -0.2116    -0.2679 VS            2 PRT     \\n      30 VS          -3.2357    -0.0586    -0.2485 VS            2 PRT     \\n      31 VS          -3.5808    -0.1607    -0.2706 VS            2 PRT     \\n      32 VS          -3.4940    -0.3742    -0.1879 VS            2 PRT     \\n      33 VS           2.7870    -3.0638    -0.0774 VS            2 PRT     \\n      34 VS           2.9842    -3.0973    -0.0800 VS            2 PRT     \\n      35 VS           2.7220    -2.8499    -0.0792 VS            2 PRT     \\n      36 VS           2.5914    -3.0289     0.0252 VS            2 PRT     \\n      37 VS           2.7546    -2.9562    -0.0769 VS            2 PRT     \\n      38 VS           2.5575    -2.9226    -0.0743 VS            2 PRT     \\n      39 VS           2.8196    -3.1701    -0.0804 VS            2 PRT     \\n      40 VS           2.9529    -2.9910     0.0204 VS            2 PRT     \\n      41 VS          -4.0211    -0.8601    -0.3683 VS            2 PRT     \\n      42 VS          -4.1485    -1.0130    -0.3877 VS            2 PRT     \\n      43 VS          -3.8125    -0.9110    -0.3060 VS            2 PRT     \\n      44 VS          -3.9200    -0.6974    -0.2529 VS            2 PRT     \\n      45 VS          -3.9202    -0.8807    -0.3529 VS            2 PRT     \\n      46 VS          -3.7929    -0.7277    -0.3335 VS            2 PRT     \\n      47 VS          -4.1379    -0.8298    -0.3556 VS            2 PRT     \\n      48 VS          -4.0511    -1.0433    -0.2729 VS            2 PRT     \\n@<TRIPOS>BOND\\n       1        1        2 1\\n       2        1        6 1\\n       3        1       14 1\\n       4        2        3 1\\n       5        2       11 1\\n       6        3        4 1\\n       7        3       15 1\\n       8        4        5 1\\n       9        4        9 1\\n      10        5        6 1\\n      11        5       16 1\\n      12        6        7 1\\n      13        7        8 1\\n      14        9       10 1\\n      15       11       12 1\\n      16       11       13 1\\n@<TRIPOS>SUBSTRUCTURE\\n       1 RES             1 RESIDUE    0 **** ROOT      0\\n       2 PRT            17 RESIDUE    0 **** ROOT      0\\n\",\"mol2\");\n",
       "\tviewer_17586036409951205.setStyle({\"stick\": {\"radius\": 0.18, \"color\": \"grey\"}, \"sphere\": {\"scale\": 0.3, \"colorscheme\": {}}});\n",
       "\tviewer_17586036409951205.zoomTo();\n",
       "viewer_17586036409951205.render();\n",
       "});\n",
       "</script>"
      ]
     },
     "metadata": {},
     "output_type": "display_data"
    },
    {
     "data": {
      "text/plain": [
       "<py3Dmol.view at 0x7ff31adc0fd0>"
      ]
     },
     "execution_count": 24,
     "metadata": {},
     "output_type": "execute_result"
    }
   ],
   "source": [
    "compound_with_2_ports_TMC.visualize(show_ports = True)"
   ]
  },
  {
   "cell_type": "markdown",
   "id": "1f383949",
   "metadata": {},
   "source": [
    "Now the polymer is built with the combination of both molecules using mbuild's functionality for co-polymers"
   ]
  },
  {
   "cell_type": "code",
   "execution_count": 25,
   "id": "4cd55cc1",
   "metadata": {},
   "outputs": [],
   "source": [
    "#repeat_units_AB_copolymer = 5"
   ]
  },
  {
   "cell_type": "code",
   "execution_count": 26,
   "id": "c842cd62",
   "metadata": {},
   "outputs": [],
   "source": [
    "#COP_polymer = mb.recipes.Polymer(monomers=[compound_with_2_ports_PC, compound_with_2_ports_TMC ])\n",
    "#COP_polymer.build( n=repeat_units_AB_copolymer, sequence=\"AB\")\n",
    "#COP_polymer.visualize()\n"
   ]
  },
  {
   "cell_type": "markdown",
   "id": "46874629",
   "metadata": {},
   "source": [
    "Now that we have built the main polymer chain the crosslinking takes place, with TETA as the crosslinker"
   ]
  },
  {
   "cell_type": "code",
   "execution_count": 27,
   "id": "420828b9",
   "metadata": {},
   "outputs": [
    {
     "data": {
      "application/3dmoljs_load.v0": "<div id=\"3dmolviewer_17586036410430143\"  style=\"position: relative; width: 640px; height: 480px;\">\n        <p id=\"3dmolwarning_17586036410430143\" style=\"background-color:#ffcccc;color:black\">3Dmol.js failed to load for some reason.  Please check your browser console for error messages.<br></p>\n        </div>\n<script>\n\nvar loadScriptAsync = function(uri){\n  return new Promise((resolve, reject) => {\n    //this is to ignore the existence of requirejs amd\n    var savedexports, savedmodule;\n    if (typeof exports !== 'undefined') savedexports = exports;\n    else exports = {}\n    if (typeof module !== 'undefined') savedmodule = module;\n    else module = {}\n\n    var tag = document.createElement('script');\n    tag.src = uri;\n    tag.async = true;\n    tag.onload = () => {\n        exports = savedexports;\n        module = savedmodule;\n        resolve();\n    };\n  var firstScriptTag = document.getElementsByTagName('script')[0];\n  firstScriptTag.parentNode.insertBefore(tag, firstScriptTag);\n});\n};\n\nif(typeof $3Dmolpromise === 'undefined') {\n$3Dmolpromise = null;\n  $3Dmolpromise = loadScriptAsync('https://cdnjs.cloudflare.com/ajax/libs/3Dmol/2.2.1-post1/3Dmol-min.js');\n}\n\nvar viewer_17586036410430143 = null;\nvar warn = document.getElementById(\"3dmolwarning_17586036410430143\");\nif(warn) {\n    warn.parentNode.removeChild(warn);\n}\n$3Dmolpromise.then(function() {\nviewer_17586036410430143 = $3Dmol.createViewer(document.getElementById(\"3dmolviewer_17586036410430143\"),{backgroundColor:\"white\"});\nviewer_17586036410430143.zoomTo();\n\tviewer_17586036410430143.addModel(\"@<TRIPOS>MOLECULE\\nRES\\n44 44 1 0 1\\nSMALL\\nNO_CHARGES\\n@<TRIPOS>CRYSIN\\n   21.7254    12.2072    12.5533    90.0000    90.0000    90.0000 1 1\\n@<TRIPOS>ATOM\\n       1 C            1.1053     0.0521    -0.0614 C             1 RES     \\n       2 C            0.5698    -0.1361     1.3658 C             1 RES     \\n       3 N           -0.8954    -0.1272     1.3709 N             1 RES     \\n       4 C           -1.3922    -0.3123     2.7377 C             1 RES     \\n       5 C           -2.9273    -0.3094     2.7504 C             1 RES     \\n       6 N           -3.4243    -0.4867     4.1176 N             1 RES     \\n       7 C           -4.8892    -0.4964     4.1219 C             1 RES     \\n       8 C           -5.4264    -0.6868     5.5484 C             1 RES     \\n       9 N           -6.8883    -0.6866     5.5626 N             1 RES     \\n      10 N            2.5673     0.0441    -0.0769 N             1 RES     \\n      11 H            0.7443     1.0005    -0.4763 H             1 RES     \\n      12 H            0.7387    -0.7533    -0.7076 H             1 RES     \\n      13 H            0.9443     0.6760     2.0012 H             1 RES     \\n      14 H            0.9415    -1.0844     1.7734 H             1 RES     \\n      15 H           -1.2344    -0.8950     0.7900 H             1 RES     \\n      16 H           -1.0244     0.4987     3.3785 H             1 RES     \\n      17 H           -1.0259    -1.2618     3.1483 H             1 RES     \\n      18 H           -3.2945    -1.1232     2.1127 H             1 RES     \\n      19 H           -3.2941     0.6381     2.3359 H             1 RES     \\n      20 H           -3.0854     0.2786     4.6998 H             1 RES     \\n      21 H           -5.2574    -1.3114     3.4869 H             1 RES     \\n      22 H           -5.2676     0.4489     3.7131 H             1 RES     \\n      23 H           -5.0620     0.1183     6.1973 H             1 RES     \\n      24 H           -5.0633    -1.6346     5.9607 H             1 RES     \\n      25 H           -7.2123    -0.7776     6.5249 H             1 RES     \\n      26 H            2.8895     0.2174    -1.0283 H             1 RES     \\n      27 C            5.8931     1.3563     1.2409 C             1 RES     \\n      28 C            7.2665     1.5342     1.4532 C             1 RES     \\n      29 C            7.7047     2.6007     2.2548 C             1 RES     \\n      30 C            6.7952     3.5558     2.7397 C             1 RES     \\n      31 C            5.4269     3.3810     2.4903 C             1 RES     \\n      32 C            4.9684     2.2798     1.7462 C             1 RES     \\n      33 C            3.5010     2.1561     1.4504 C             1 RES     \\n      34 O            2.7683     3.0361     1.9028 O             1 RES     \\n      35 C            7.3233     4.7820     3.4308 C             1 RES     \\n      36 O            8.5427     4.8549     3.5818 O             1 RES     \\n      37 C            8.2788     0.6743     0.7495 C             1 RES     \\n      38 O            9.4666     0.9260     0.9536 O             1 RES     \\n      39 Cl           7.7452    -0.5702    -0.3624 Cl            1 RES     \\n      40 H            5.5446     0.5084     0.6593 H             1 RES     \\n      41 H            8.7699     2.7114     2.4691 H             1 RES     \\n      42 H            4.6993     4.1054     2.8543 H             1 RES     \\n      43 H           -7.2589     0.2762     5.1985 H             1 RES     \\n      44 H            6.6358     5.5726     3.7458 H             1 RES     \\n@<TRIPOS>BOND\\n       1        1        2 1\\n       2        1       10 1\\n       3        1       11 1\\n       4        1       12 1\\n       5        2        3 1\\n       6        2       13 1\\n       7        2       14 1\\n       8        3        4 1\\n       9        3       15 1\\n      10        4        5 1\\n      11        4       16 1\\n      12        4       17 1\\n      13        5        6 1\\n      14        5       18 1\\n      15        5       19 1\\n      16        6        7 1\\n      17        6       20 1\\n      18        7        8 1\\n      19        7       21 1\\n      20        7       22 1\\n      21        8        9 1\\n      22        8       23 1\\n      23        8       24 1\\n      24        9       25 1\\n      25        9       43 1\\n      26       10       26 1\\n      27       10       33 1\\n      28       27       28 1\\n      29       27       32 1\\n      30       27       40 1\\n      31       28       29 1\\n      32       28       37 1\\n      33       29       30 1\\n      34       29       41 1\\n      35       30       31 1\\n      36       30       35 1\\n      37       31       32 1\\n      38       31       42 1\\n      39       32       33 1\\n      40       33       34 1\\n      41       35       36 1\\n      42       35       44 1\\n      43       37       38 1\\n      44       37       39 1\\n@<TRIPOS>SUBSTRUCTURE\\n       1 RES             1 RESIDUE    0 **** ROOT      0\\n\",\"mol2\");\n\tviewer_17586036410430143.setStyle({\"stick\": {\"radius\": 0.18, \"color\": \"grey\"}, \"sphere\": {\"scale\": 0.3, \"colorscheme\": {}}});\n\tviewer_17586036410430143.zoomTo();\nviewer_17586036410430143.render();\n});\n</script>",
      "text/html": [
       "<div id=\"3dmolviewer_17586036410430143\"  style=\"position: relative; width: 640px; height: 480px;\">\n",
       "        <p id=\"3dmolwarning_17586036410430143\" style=\"background-color:#ffcccc;color:black\">3Dmol.js failed to load for some reason.  Please check your browser console for error messages.<br></p>\n",
       "        </div>\n",
       "<script>\n",
       "\n",
       "var loadScriptAsync = function(uri){\n",
       "  return new Promise((resolve, reject) => {\n",
       "    //this is to ignore the existence of requirejs amd\n",
       "    var savedexports, savedmodule;\n",
       "    if (typeof exports !== 'undefined') savedexports = exports;\n",
       "    else exports = {}\n",
       "    if (typeof module !== 'undefined') savedmodule = module;\n",
       "    else module = {}\n",
       "\n",
       "    var tag = document.createElement('script');\n",
       "    tag.src = uri;\n",
       "    tag.async = true;\n",
       "    tag.onload = () => {\n",
       "        exports = savedexports;\n",
       "        module = savedmodule;\n",
       "        resolve();\n",
       "    };\n",
       "  var firstScriptTag = document.getElementsByTagName('script')[0];\n",
       "  firstScriptTag.parentNode.insertBefore(tag, firstScriptTag);\n",
       "});\n",
       "};\n",
       "\n",
       "if(typeof $3Dmolpromise === 'undefined') {\n",
       "$3Dmolpromise = null;\n",
       "  $3Dmolpromise = loadScriptAsync('https://cdnjs.cloudflare.com/ajax/libs/3Dmol/2.2.1-post1/3Dmol-min.js');\n",
       "}\n",
       "\n",
       "var viewer_17586036410430143 = null;\n",
       "var warn = document.getElementById(\"3dmolwarning_17586036410430143\");\n",
       "if(warn) {\n",
       "    warn.parentNode.removeChild(warn);\n",
       "}\n",
       "$3Dmolpromise.then(function() {\n",
       "viewer_17586036410430143 = $3Dmol.createViewer(document.getElementById(\"3dmolviewer_17586036410430143\"),{backgroundColor:\"white\"});\n",
       "viewer_17586036410430143.zoomTo();\n",
       "\tviewer_17586036410430143.addModel(\"@<TRIPOS>MOLECULE\\nRES\\n44 44 1 0 1\\nSMALL\\nNO_CHARGES\\n@<TRIPOS>CRYSIN\\n   21.7254    12.2072    12.5533    90.0000    90.0000    90.0000 1 1\\n@<TRIPOS>ATOM\\n       1 C            1.1053     0.0521    -0.0614 C             1 RES     \\n       2 C            0.5698    -0.1361     1.3658 C             1 RES     \\n       3 N           -0.8954    -0.1272     1.3709 N             1 RES     \\n       4 C           -1.3922    -0.3123     2.7377 C             1 RES     \\n       5 C           -2.9273    -0.3094     2.7504 C             1 RES     \\n       6 N           -3.4243    -0.4867     4.1176 N             1 RES     \\n       7 C           -4.8892    -0.4964     4.1219 C             1 RES     \\n       8 C           -5.4264    -0.6868     5.5484 C             1 RES     \\n       9 N           -6.8883    -0.6866     5.5626 N             1 RES     \\n      10 N            2.5673     0.0441    -0.0769 N             1 RES     \\n      11 H            0.7443     1.0005    -0.4763 H             1 RES     \\n      12 H            0.7387    -0.7533    -0.7076 H             1 RES     \\n      13 H            0.9443     0.6760     2.0012 H             1 RES     \\n      14 H            0.9415    -1.0844     1.7734 H             1 RES     \\n      15 H           -1.2344    -0.8950     0.7900 H             1 RES     \\n      16 H           -1.0244     0.4987     3.3785 H             1 RES     \\n      17 H           -1.0259    -1.2618     3.1483 H             1 RES     \\n      18 H           -3.2945    -1.1232     2.1127 H             1 RES     \\n      19 H           -3.2941     0.6381     2.3359 H             1 RES     \\n      20 H           -3.0854     0.2786     4.6998 H             1 RES     \\n      21 H           -5.2574    -1.3114     3.4869 H             1 RES     \\n      22 H           -5.2676     0.4489     3.7131 H             1 RES     \\n      23 H           -5.0620     0.1183     6.1973 H             1 RES     \\n      24 H           -5.0633    -1.6346     5.9607 H             1 RES     \\n      25 H           -7.2123    -0.7776     6.5249 H             1 RES     \\n      26 H            2.8895     0.2174    -1.0283 H             1 RES     \\n      27 C            5.8931     1.3563     1.2409 C             1 RES     \\n      28 C            7.2665     1.5342     1.4532 C             1 RES     \\n      29 C            7.7047     2.6007     2.2548 C             1 RES     \\n      30 C            6.7952     3.5558     2.7397 C             1 RES     \\n      31 C            5.4269     3.3810     2.4903 C             1 RES     \\n      32 C            4.9684     2.2798     1.7462 C             1 RES     \\n      33 C            3.5010     2.1561     1.4504 C             1 RES     \\n      34 O            2.7683     3.0361     1.9028 O             1 RES     \\n      35 C            7.3233     4.7820     3.4308 C             1 RES     \\n      36 O            8.5427     4.8549     3.5818 O             1 RES     \\n      37 C            8.2788     0.6743     0.7495 C             1 RES     \\n      38 O            9.4666     0.9260     0.9536 O             1 RES     \\n      39 Cl           7.7452    -0.5702    -0.3624 Cl            1 RES     \\n      40 H            5.5446     0.5084     0.6593 H             1 RES     \\n      41 H            8.7699     2.7114     2.4691 H             1 RES     \\n      42 H            4.6993     4.1054     2.8543 H             1 RES     \\n      43 H           -7.2589     0.2762     5.1985 H             1 RES     \\n      44 H            6.6358     5.5726     3.7458 H             1 RES     \\n@<TRIPOS>BOND\\n       1        1        2 1\\n       2        1       10 1\\n       3        1       11 1\\n       4        1       12 1\\n       5        2        3 1\\n       6        2       13 1\\n       7        2       14 1\\n       8        3        4 1\\n       9        3       15 1\\n      10        4        5 1\\n      11        4       16 1\\n      12        4       17 1\\n      13        5        6 1\\n      14        5       18 1\\n      15        5       19 1\\n      16        6        7 1\\n      17        6       20 1\\n      18        7        8 1\\n      19        7       21 1\\n      20        7       22 1\\n      21        8        9 1\\n      22        8       23 1\\n      23        8       24 1\\n      24        9       25 1\\n      25        9       43 1\\n      26       10       26 1\\n      27       10       33 1\\n      28       27       28 1\\n      29       27       32 1\\n      30       27       40 1\\n      31       28       29 1\\n      32       28       37 1\\n      33       29       30 1\\n      34       29       41 1\\n      35       30       31 1\\n      36       30       35 1\\n      37       31       32 1\\n      38       31       42 1\\n      39       32       33 1\\n      40       33       34 1\\n      41       35       36 1\\n      42       35       44 1\\n      43       37       38 1\\n      44       37       39 1\\n@<TRIPOS>SUBSTRUCTURE\\n       1 RES             1 RESIDUE    0 **** ROOT      0\\n\",\"mol2\");\n",
       "\tviewer_17586036410430143.setStyle({\"stick\": {\"radius\": 0.18, \"color\": \"grey\"}, \"sphere\": {\"scale\": 0.3, \"colorscheme\": {}}});\n",
       "\tviewer_17586036410430143.zoomTo();\n",
       "viewer_17586036410430143.render();\n",
       "});\n",
       "</script>"
      ]
     },
     "metadata": {},
     "output_type": "display_data"
    },
    {
     "data": {
      "text/plain": [
       "<py3Dmol.view at 0x7ff31ab27820>"
      ]
     },
     "execution_count": 27,
     "metadata": {},
     "output_type": "execute_result"
    }
   ],
   "source": [
    "Single_Repeat_Unit = mb.recipes.Polymer(monomers=[compound_with_2_ports_PC, compound_with_2_ports_TMC ])\n",
    "Single_Repeat_Unit.build( n=1, sequence=\"AB\")\n",
    "Single_Repeat_Unit.visualize()"
   ]
  },
  {
   "cell_type": "code",
   "execution_count": 28,
   "id": "d33b9000",
   "metadata": {},
   "outputs": [
    {
     "ename": "NameError",
     "evalue": "name 'compound_with_2_ports_DA' is not defined",
     "output_type": "error",
     "traceback": [
      "\u001b[0;31m---------------------------------------------------------------------------\u001b[0m",
      "\u001b[0;31mNameError\u001b[0m                                 Traceback (most recent call last)",
      "Cell \u001b[0;32mIn[28], line 14\u001b[0m\n\u001b[1;32m      5\u001b[0m \u001b[38;5;66;03m#Repeat_unit_from_file = mb.load(\"files/Repeat_Unit_2.mol2\")\u001b[39;00m\n\u001b[1;32m      6\u001b[0m dummy_atom_dictionary \u001b[38;5;241m=\u001b[39m {\n\u001b[1;32m      7\u001b[0m                          \u001b[38;5;124m\"\u001b[39m\u001b[38;5;124mF\u001b[39m\u001b[38;5;124m\"\u001b[39m: \u001b[38;5;124m\"\u001b[39m\u001b[38;5;124mH\u001b[39m\u001b[38;5;124m\"\u001b[39m,}\n\u001b[1;32m     10\u001b[0m box_system, Number_Crosslinkers_Used, Real_Degree_Crosslinking, Polymer_Residue_Name, Crosslinker_Resiude_Name \u001b[38;5;241m=\u001b[39m Crosslink_Pipeline(\n\u001b[1;32m     11\u001b[0m \u001b[38;5;66;03m#box_system = Crosslink_Pipeline(\u001b[39;00m\n\u001b[1;32m     12\u001b[0m     main_name \u001b[38;5;241m=\u001b[39m \u001b[38;5;124m\"\u001b[39m\u001b[38;5;124mEPON\u001b[39m\u001b[38;5;124m\"\u001b[39m,                                   \u001b[38;5;66;03m# Monomer to polimerize gives PVA ; not vinylic alcohol as it's insaturated\u001b[39;00m\n\u001b[1;32m     13\u001b[0m     Pre_existing_repeat_unit \u001b[38;5;241m=\u001b[39m\u001b[38;5;28;01mTrue\u001b[39;00m,\n\u001b[0;32m---> 14\u001b[0m     Repeat_unit_compound_with_ports \u001b[38;5;241m=\u001b[39m \u001b[43mcompound_with_2_ports_DA\u001b[49m, \u001b[38;5;66;03m# Here we pass already the repeat unit with ports\u001b[39;00m\n\u001b[1;32m     15\u001b[0m \n\u001b[1;32m     16\u001b[0m     Dummy_atoms \u001b[38;5;241m=\u001b[39m \u001b[38;5;28;01mTrue\u001b[39;00m,\n\u001b[1;32m     17\u001b[0m     Dummy_atom_dictionary \u001b[38;5;241m=\u001b[39m dummy_atom_dictionary,\n\u001b[1;32m     18\u001b[0m \n\u001b[1;32m     19\u001b[0m     \n\u001b[1;32m     20\u001b[0m     repeat_units \u001b[38;5;241m=\u001b[39m \u001b[38;5;241m5\u001b[39m,                                       \u001b[38;5;66;03m# Repeat Units in polymer chain\u001b[39;00m\n\u001b[1;32m     21\u001b[0m     number_of_polymers \u001b[38;5;241m=\u001b[39m \u001b[38;5;241m3\u001b[39m,                                   \u001b[38;5;66;03m# Number of polymer chains inside the box\u001b[39;00m\n\u001b[1;32m     22\u001b[0m     depth_value \u001b[38;5;241m=\u001b[39m \u001b[38;5;241m3.0\u001b[39m,                                          \u001b[38;5;66;03m# Spacing between polymer chains in box\u001b[39;00m\n\u001b[1;32m     23\u001b[0m     Polymer_residue_name \u001b[38;5;241m=\u001b[39m \u001b[38;5;124m\"\u001b[39m\u001b[38;5;124mPOL\u001b[39m\u001b[38;5;124m\"\u001b[39m,                             \u001b[38;5;66;03m# name of polymer chain residue\u001b[39;00m\n\u001b[1;32m     24\u001b[0m     Polymer_port_name \u001b[38;5;241m=\u001b[39m \u001b[38;5;124m\"\u001b[39m\u001b[38;5;124mPort\u001b[39m\u001b[38;5;124m\"\u001b[39m,                               \u001b[38;5;66;03m# name of polymer chain backbone ports\u001b[39;00m\n\u001b[1;32m     25\u001b[0m \n\u001b[1;32m     26\u001b[0m                                                               \u001b[38;5;66;03m#Crosslinker details\u001b[39;00m\n\u001b[1;32m     27\u001b[0m     crosslinker_name \u001b[38;5;241m=\u001b[39m \u001b[38;5;124m\"\u001b[39m\u001b[38;5;124mBASE\u001b[39m\u001b[38;5;124m\"\u001b[39m,                                \u001b[38;5;66;03m# Name of crosslinker agent\u001b[39;00m\n\u001b[1;32m     28\u001b[0m     Crosslinker_residue_name \u001b[38;5;241m=\u001b[39m \u001b[38;5;124m\"\u001b[39m\u001b[38;5;124mCRS\u001b[39m\u001b[38;5;124m\"\u001b[39m,                         \u001b[38;5;66;03m# name of crosslinker residue name\u001b[39;00m\n\u001b[1;32m     29\u001b[0m     Crosslinker_port_name \u001b[38;5;241m=\u001b[39m \u001b[38;5;124m\"\u001b[39m\u001b[38;5;124mSite\u001b[39m\u001b[38;5;124m\"\u001b[39m,                           \u001b[38;5;66;03m# name of cr chain backbone ports\u001b[39;00m\n\u001b[1;32m     30\u001b[0m     Crosslinker_compound \u001b[38;5;241m=\u001b[39m CR_COMPOUND,\n\u001b[1;32m     31\u001b[0m     \n\u001b[1;32m     32\u001b[0m \n\u001b[1;32m     33\u001b[0m  \n\u001b[1;32m     34\u001b[0m                                                               \u001b[38;5;66;03m#Crosslinking details\u001b[39;00m\n\u001b[1;32m     35\u001b[0m     sites_per_repeat_unit \u001b[38;5;241m=\u001b[39m \u001b[38;5;241m1\u001b[39m,                                \u001b[38;5;66;03m# Number of functional groups (f.ex hydroxyls in PVA in each chain)\u001b[39;00m\n\u001b[1;32m     36\u001b[0m     desired_CR_degree \u001b[38;5;241m=\u001b[39m \u001b[38;5;241m40\u001b[39m,                                   \u001b[38;5;66;03m# Degree in %, that percentage (f.ex number of hydroxyls attached to the crosslinker in PVA, not hydroxyls anymore)\u001b[39;00m\n\u001b[1;32m     37\u001b[0m     \n\u001b[1;32m     38\u001b[0m     \n\u001b[1;32m     39\u001b[0m     polymer_backbone_target_list \u001b[38;5;241m=\u001b[39m [\n\u001b[1;32m     40\u001b[0m                             {\n\u001b[1;32m     41\u001b[0m                             \u001b[38;5;124m\"\u001b[39m\u001b[38;5;124manchor_atom\u001b[39m\u001b[38;5;124m\"\u001b[39m : \u001b[38;5;124m\"\u001b[39m\u001b[38;5;124mN\u001b[39m\u001b[38;5;124m\"\u001b[39m,\n\u001b[1;32m     42\u001b[0m                             \u001b[38;5;124m\"\u001b[39m\u001b[38;5;124mtarget_atom\u001b[39m\u001b[38;5;124m\"\u001b[39m : \u001b[38;5;124m\"\u001b[39m\u001b[38;5;124mF\u001b[39m\u001b[38;5;124m\"\u001b[39m,\n\u001b[1;32m     43\u001b[0m                             \u001b[38;5;124m\"\u001b[39m\u001b[38;5;124mbonded_atoms\u001b[39m\u001b[38;5;124m\"\u001b[39m: [\u001b[38;5;124m\"\u001b[39m\u001b[38;5;124mC\u001b[39m\u001b[38;5;124m\"\u001b[39m, \u001b[38;5;124m\"\u001b[39m\u001b[38;5;124mH\u001b[39m\u001b[38;5;124m\"\u001b[39m, \u001b[38;5;124m\"\u001b[39m\u001b[38;5;124mF\u001b[39m\u001b[38;5;124m\"\u001b[39m], \n\u001b[1;32m     44\u001b[0m                             \u001b[38;5;124m\"\u001b[39m\u001b[38;5;124manchor_atom_n_bonds\u001b[39m\u001b[38;5;124m\"\u001b[39m : \u001b[38;5;241m4\u001b[39m,\n\u001b[1;32m     45\u001b[0m                             },\n\u001b[1;32m     46\u001b[0m                             \n\u001b[1;32m     47\u001b[0m                           \n\u001b[1;32m     48\u001b[0m                             ],\n\u001b[1;32m     49\u001b[0m     \n\u001b[1;32m     50\u001b[0m     \n\u001b[1;32m     51\u001b[0m     crosslinker_backbone_target_list \u001b[38;5;241m=\u001b[39m [\n\u001b[1;32m     52\u001b[0m                         {\n\u001b[1;32m     53\u001b[0m                         \u001b[38;5;124m\"\u001b[39m\u001b[38;5;124manchor_atom\u001b[39m\u001b[38;5;124m\"\u001b[39m : \u001b[38;5;124m\"\u001b[39m\u001b[38;5;124mC\u001b[39m\u001b[38;5;124m\"\u001b[39m,\n\u001b[1;32m     54\u001b[0m                         \u001b[38;5;124m\"\u001b[39m\u001b[38;5;124mtarget_atom\u001b[39m\u001b[38;5;124m\"\u001b[39m : [\u001b[38;5;124m\"\u001b[39m\u001b[38;5;124mS\u001b[39m\u001b[38;5;124m\"\u001b[39m],\n\u001b[1;32m     55\u001b[0m                         \u001b[38;5;124m\"\u001b[39m\u001b[38;5;124manchor_atom_n_bonds\u001b[39m\u001b[38;5;124m\"\u001b[39m : \u001b[38;5;241m4\u001b[39m,\n\u001b[1;32m     56\u001b[0m                         \u001b[38;5;124m\"\u001b[39m\u001b[38;5;124mextra_pruning\u001b[39m\u001b[38;5;124m\"\u001b[39m: [],\n\u001b[1;32m     57\u001b[0m                         \u001b[38;5;124m\"\u001b[39m\u001b[38;5;124mexclude\u001b[39m\u001b[38;5;124m\"\u001b[39m: [],\n\u001b[1;32m     58\u001b[0m                         },\n\u001b[1;32m     59\u001b[0m                         \n\u001b[1;32m     60\u001b[0m                     \n\u001b[1;32m     61\u001b[0m     ],\n\u001b[1;32m     62\u001b[0m     \n\u001b[1;32m     63\u001b[0m     prune_extra_flag \u001b[38;5;241m=\u001b[39m\u001b[38;5;28;01mFalse\u001b[39;00m,                               \u001b[38;5;66;03m# No pruning extra atoms \u001b[39;00m\n\u001b[1;32m     64\u001b[0m     crosslink_sites_per_molecule \u001b[38;5;241m=\u001b[39m \u001b[38;5;241m1\u001b[39m ,                     \u001b[38;5;66;03m# Sites per molecule  (forms 1 connection with each polymer chain) f.ex glutaraldehyde forms 2 per chain\u001b[39;00m\n\u001b[1;32m     65\u001b[0m         \n\u001b[1;32m     66\u001b[0m    \n\u001b[1;32m     67\u001b[0m     \n\u001b[1;32m     68\u001b[0m \n\u001b[1;32m     69\u001b[0m         \n\u001b[1;32m     70\u001b[0m     \n\u001b[1;32m     71\u001b[0m     \n\u001b[1;32m     72\u001b[0m )\n\u001b[1;32m     75\u001b[0m \u001b[38;5;28;01mfor\u001b[39;00m suffix \u001b[38;5;129;01min\u001b[39;00m [\u001b[38;5;124m\"\u001b[39m\u001b[38;5;124mmol2\u001b[39m\u001b[38;5;124m\"\u001b[39m, \u001b[38;5;124m\"\u001b[39m\u001b[38;5;124mpdb\u001b[39m\u001b[38;5;124m\"\u001b[39m]:\n\u001b[1;32m     76\u001b[0m     box_system\u001b[38;5;241m.\u001b[39msave(\u001b[38;5;124mf\u001b[39m\u001b[38;5;124m\"\u001b[39m\u001b[38;5;124moutput/5_3_EPON-862_DETDA-Short.\u001b[39m\u001b[38;5;132;01m{\u001b[39;00msuffix\u001b[38;5;132;01m}\u001b[39;00m\u001b[38;5;124m\"\u001b[39m,overwrite \u001b[38;5;241m=\u001b[39m \u001b[38;5;28;01mTrue\u001b[39;00m)\n",
      "\u001b[0;31mNameError\u001b[0m: name 'compound_with_2_ports_DA' is not defined"
     ]
    }
   ],
   "source": [
    "\n",
    "RU = 5\n",
    "N_chains = 5\n",
    "n_sites = 1\n",
    "\n",
    "#Repeat_unit_from_file = mb.load(\"../files/Repeat_Unit_2.mol2\")\n",
    "dummy_atom_dictionary = {\n",
    "                         \"F\": \"H\",}\n",
    "\n",
    "\n",
    "box_system, Number_Crosslinkers_Used, Real_Degree_Crosslinking, Polymer_Residue_Name, Crosslinker_Resiude_Name = Crosslink_Pipeline(\n",
    "#box_system = Crosslink_Pipeline(\n",
    "    main_name = \"EPON\",                                   # Monomer to polimerize gives PVA ; not vinylic alcohol as it's insaturated\n",
    "    Pre_existing_repeat_unit =True,\n",
    "    Repeat_unit_compound_with_ports = compound_with_2_ports_DA, # Here we pass already the repeat unit with ports\n",
    "\n",
    "    Dummy_atoms = True,\n",
    "    Dummy_atom_dictionary = dummy_atom_dictionary,\n",
    "\n",
    "    \n",
    "    repeat_units = 5,                                       # Repeat Units in polymer chain\n",
    "    number_of_polymers = 3,                                   # Number of polymer chains inside the box\n",
    "    depth_value = 3.0,                                          # Spacing between polymer chains in box\n",
    "    Polymer_residue_name = \"POL\",                             # name of polymer chain residue\n",
    "    Polymer_port_name = \"Port\",                               # name of polymer chain backbone ports\n",
    "\n",
    "                                                              #Crosslinker details\n",
    "    crosslinker_name = \"BASE\",                                # Name of crosslinker agent\n",
    "    Crosslinker_residue_name = \"CRS\",                         # name of crosslinker residue name\n",
    "    Crosslinker_port_name = \"Site\",                           # name of cr chain backbone ports\n",
    "    Crosslinker_compound = CR_COMPOUND,\n",
    "    \n",
    "\n",
    " \n",
    "                                                              #Crosslinking details\n",
    "    sites_per_repeat_unit = 1,                                # Number of functional groups (f.ex hydroxyls in PVA in each chain)\n",
    "    desired_CR_degree = 40,                                   # Degree in %, that percentage (f.ex number of hydroxyls attached to the crosslinker in PVA, not hydroxyls anymore)\n",
    "    \n",
    "    \n",
    "    polymer_backbone_target_list = [\n",
    "                            {\n",
    "                            \"anchor_atom\" : \"N\",\n",
    "                            \"target_atom\" : \"F\",\n",
    "                            \"bonded_atoms\": [\"C\", \"H\", \"F\"], \n",
    "                            \"anchor_atom_n_bonds\" : 4,\n",
    "                            },\n",
    "                            \n",
    "                          \n",
    "                            ],\n",
    "    \n",
    "    \n",
    "    crosslinker_backbone_target_list = [\n",
    "                        {\n",
    "                        \"anchor_atom\" : \"C\",\n",
    "                        \"target_atom\" : [\"S\"],\n",
    "                        \"anchor_atom_n_bonds\" : 4,\n",
    "                        \"extra_pruning\": [],\n",
    "                        \"exclude\": [],\n",
    "                        },\n",
    "                        \n",
    "                    \n",
    "    ],\n",
    "    \n",
    "    prune_extra_flag =False,                               # No pruning extra atoms \n",
    "    crosslink_sites_per_molecule = 1 ,                     # Sites per molecule  (forms 1 connection with each polymer chain) f.ex glutaraldehyde forms 2 per chain\n",
    "        \n",
    "   \n",
    "    \n",
    "\n",
    "        \n",
    "    \n",
    "    \n",
    ")\n",
    "\n",
    "\n",
    "for suffix in [\"mol2\", \"pdb\"]:\n",
    "    box_system.save(f\"output/5_3_EPON-862_DETDA-Short.{suffix}\",overwrite = True)"
   ]
  }
 ],
 "metadata": {
  "kernelspec": {
   "display_name": "andres",
   "language": "python",
   "name": "python3"
  },
  "language_info": {
   "codemirror_mode": {
    "name": "ipython",
    "version": 3
   },
   "file_extension": ".py",
   "mimetype": "text/x-python",
   "name": "python",
   "nbconvert_exporter": "python",
   "pygments_lexer": "ipython3",
   "version": "3.10.14"
  }
 },
 "nbformat": 4,
 "nbformat_minor": 5
}
