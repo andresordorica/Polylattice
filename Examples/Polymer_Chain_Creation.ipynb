{
 "cells": [
  {
   "cell_type": "code",
   "execution_count": null,
   "id": "8bb2f0e8",
   "metadata": {},
   "outputs": [],
   "source": [
    "import mbuild as mb\n",
    "import os\n",
    "from parmed import load_file \n",
    "import re\n",
    "from mbuild.lib.atoms import H\n",
    "import numpy as np\n",
    "import random\n",
    "import pubchempy as pcp\n",
    "from rdkit import Chem \n",
    "from  Main_functions import *"
   ]
  },
  {
   "cell_type": "markdown",
   "id": "4e1adcad",
   "metadata": {},
   "source": [
    "Using part of the Mbuild functionality and the Polymer class, let's build and visualize a PVA polymer chain with 12 repeat units.\n",
    "For this, first we will build the repeat unit of PVA:\n",
    "1. First we will create an ethanol molecule\n",
    "2. We will remove atoms and add ports in order to create the monomer that will constitute the polymer chain\n",
    "3. The ports will be shown in the updated repeat unit"
   ]
  },
  {
   "cell_type": "code",
   "execution_count": 65,
   "id": "0bb6897f",
   "metadata": {},
   "outputs": [
    {
     "name": "stdout",
     "output_type": "stream",
     "text": [
      "Polymer loaded as mb compound, no query needed\n",
      "COH\n",
      "The port is type: COH\n",
      "Added ports to the molecule\n",
      "Added 2 ports to the molecule\n"
     ]
    },
    {
     "data": {
      "application/3dmoljs_load.v0": "<div id=\"3dmolviewer_17585571968117352\"  style=\"position: relative; width: 640px; height: 480px;\">\n        <p id=\"3dmolwarning_17585571968117352\" style=\"background-color:#ffcccc;color:black\">3Dmol.js failed to load for some reason.  Please check your browser console for error messages.<br></p>\n        </div>\n<script>\n\nvar loadScriptAsync = function(uri){\n  return new Promise((resolve, reject) => {\n    //this is to ignore the existence of requirejs amd\n    var savedexports, savedmodule;\n    if (typeof exports !== 'undefined') savedexports = exports;\n    else exports = {}\n    if (typeof module !== 'undefined') savedmodule = module;\n    else module = {}\n\n    var tag = document.createElement('script');\n    tag.src = uri;\n    tag.async = true;\n    tag.onload = () => {\n        exports = savedexports;\n        module = savedmodule;\n        resolve();\n    };\n  var firstScriptTag = document.getElementsByTagName('script')[0];\n  firstScriptTag.parentNode.insertBefore(tag, firstScriptTag);\n});\n};\n\nif(typeof $3Dmolpromise === 'undefined') {\n$3Dmolpromise = null;\n  $3Dmolpromise = loadScriptAsync('https://cdnjs.cloudflare.com/ajax/libs/3Dmol/2.2.1-post1/3Dmol-min.js');\n}\n\nvar viewer_17585571968117352 = null;\nvar warn = document.getElementById(\"3dmolwarning_17585571968117352\");\nif(warn) {\n    warn.parentNode.removeChild(warn);\n}\n$3Dmolpromise.then(function() {\nviewer_17585571968117352 = $3Dmol.createViewer(document.getElementById(\"3dmolviewer_17585571968117352\"),{backgroundColor:\"white\"});\nviewer_17585571968117352.zoomTo();\n\tviewer_17585571968117352.addModel(\"@<TRIPOS>MOLECULE\\nRES\\n39 6 6 0 1\\nBIOPOLYMER\\nNO_CHARGES\\n@<TRIPOS>CRYSIN\\n    7.1800     8.8500     6.4000    90.0000    90.0000    90.0000 1 1\\n@<TRIPOS>ATOM\\n       1 O           -0.0000     1.4500     0.0000 O             1 RES     \\n       2 H           -0.0000     2.4500     0.0000 H             1 RES     \\n       3 C            0.0000     0.0000     0.0000 C             1 RES     \\n       4 H           -1.0900     0.0000     0.0000 H             1 RES     \\n       5 VS           0.5700    -0.0500    -0.0250 VS            2 PRT     \\n       6 VS           0.7700    -0.0500    -0.0250 VS            2 PRT     \\n       7 VS           0.4700     0.1500    -0.0250 VS            2 PRT     \\n       8 VS           0.3700    -0.0500     0.0750 VS            2 PRT     \\n       9 VS           0.5200     0.0500    -0.0250 VS            2 PRT     \\n      10 VS           0.3200     0.0500    -0.0250 VS            2 PRT     \\n      11 VS           0.6200    -0.1500    -0.0250 VS            2 PRT     \\n      12 VS           0.7200     0.0500     0.0750 VS            2 PRT     \\n      13 C           -0.0000    -0.0000     1.4000 C             3 RES     \\n      14 H            1.0900     0.0000     1.4000 H             3 RES     \\n      15 VS          -0.5700     0.0500     1.3750 VS            4 PRT     \\n      16 VS          -0.7700     0.0500     1.3750 VS            4 PRT     \\n      17 VS          -0.4700    -0.1500     1.3750 VS            4 PRT     \\n      18 VS          -0.3700     0.0500     1.4750 VS            4 PRT     \\n      19 VS          -0.5200    -0.0500     1.3750 VS            4 PRT     \\n      20 VS          -0.3200    -0.0500     1.3750 VS            4 PRT     \\n      21 VS          -0.6200     0.1500     1.3750 VS            4 PRT     \\n      22 VS          -0.7200    -0.0500     1.4750 VS            4 PRT     \\n      23 H            0.0000    -1.4000     1.4000 H             5 RES     \\n      24 VS           1.1150    -0.0500    -0.0250 VS            6 PRT     \\n      25 VS           1.3150    -0.0500    -0.0250 VS            6 PRT     \\n      26 VS           1.0150     0.1500    -0.0250 VS            6 PRT     \\n      27 VS           0.9150    -0.0500     0.0750 VS            6 PRT     \\n      28 VS           1.0650     0.0500    -0.0250 VS            6 PRT     \\n      29 VS           0.8650     0.0500    -0.0250 VS            6 PRT     \\n      30 VS           1.1650    -0.1500    -0.0250 VS            6 PRT     \\n      31 VS           1.2650     0.0500     0.0750 VS            6 PRT     \\n      32 VS          -1.1150     0.0500     1.3750 VS            6 PRT     \\n      33 VS          -1.3150     0.0500     1.3750 VS            6 PRT     \\n      34 VS          -1.0150    -0.1500     1.3750 VS            6 PRT     \\n      35 VS          -0.9150     0.0500     1.4750 VS            6 PRT     \\n      36 VS          -1.0650    -0.0500     1.3750 VS            6 PRT     \\n      37 VS          -0.8650    -0.0500     1.3750 VS            6 PRT     \\n      38 VS          -1.1650     0.1500     1.3750 VS            6 PRT     \\n      39 VS          -1.2650    -0.0500     1.4750 VS            6 PRT     \\n@<TRIPOS>BOND\\n       1        1        2 1\\n       2        1        3 1\\n       3        3        4 1\\n       4        3       13 1\\n       5       13       14 1\\n       6       13       23 1\\n@<TRIPOS>SUBSTRUCTURE\\n       1 RES             1 RESIDUE    0 **** ROOT      1\\n       2 PRT             5 RESIDUE    0 **** ROOT      0\\n       3 RES            13 RESIDUE    0 **** ROOT      2\\n       4 PRT            15 RESIDUE    0 **** ROOT      0\\n       5 RES            23 RESIDUE    0 **** ROOT      1\\n       6 PRT            24 RESIDUE    0 **** ROOT      0\\n\",\"mol2\");\n\tviewer_17585571968117352.setStyle({\"stick\": {\"radius\": 0.18, \"color\": \"grey\"}, \"sphere\": {\"scale\": 0.3, \"colorscheme\": {}}});\n\tviewer_17585571968117352.zoomTo();\nviewer_17585571968117352.render();\n});\n</script>",
      "text/html": [
       "<div id=\"3dmolviewer_17585571968117352\"  style=\"position: relative; width: 640px; height: 480px;\">\n",
       "        <p id=\"3dmolwarning_17585571968117352\" style=\"background-color:#ffcccc;color:black\">3Dmol.js failed to load for some reason.  Please check your browser console for error messages.<br></p>\n",
       "        </div>\n",
       "<script>\n",
       "\n",
       "var loadScriptAsync = function(uri){\n",
       "  return new Promise((resolve, reject) => {\n",
       "    //this is to ignore the existence of requirejs amd\n",
       "    var savedexports, savedmodule;\n",
       "    if (typeof exports !== 'undefined') savedexports = exports;\n",
       "    else exports = {}\n",
       "    if (typeof module !== 'undefined') savedmodule = module;\n",
       "    else module = {}\n",
       "\n",
       "    var tag = document.createElement('script');\n",
       "    tag.src = uri;\n",
       "    tag.async = true;\n",
       "    tag.onload = () => {\n",
       "        exports = savedexports;\n",
       "        module = savedmodule;\n",
       "        resolve();\n",
       "    };\n",
       "  var firstScriptTag = document.getElementsByTagName('script')[0];\n",
       "  firstScriptTag.parentNode.insertBefore(tag, firstScriptTag);\n",
       "});\n",
       "};\n",
       "\n",
       "if(typeof $3Dmolpromise === 'undefined') {\n",
       "$3Dmolpromise = null;\n",
       "  $3Dmolpromise = loadScriptAsync('https://cdnjs.cloudflare.com/ajax/libs/3Dmol/2.2.1-post1/3Dmol-min.js');\n",
       "}\n",
       "\n",
       "var viewer_17585571968117352 = null;\n",
       "var warn = document.getElementById(\"3dmolwarning_17585571968117352\");\n",
       "if(warn) {\n",
       "    warn.parentNode.removeChild(warn);\n",
       "}\n",
       "$3Dmolpromise.then(function() {\n",
       "viewer_17585571968117352 = $3Dmol.createViewer(document.getElementById(\"3dmolviewer_17585571968117352\"),{backgroundColor:\"white\"});\n",
       "viewer_17585571968117352.zoomTo();\n",
       "\tviewer_17585571968117352.addModel(\"@<TRIPOS>MOLECULE\\nRES\\n39 6 6 0 1\\nBIOPOLYMER\\nNO_CHARGES\\n@<TRIPOS>CRYSIN\\n    7.1800     8.8500     6.4000    90.0000    90.0000    90.0000 1 1\\n@<TRIPOS>ATOM\\n       1 O           -0.0000     1.4500     0.0000 O             1 RES     \\n       2 H           -0.0000     2.4500     0.0000 H             1 RES     \\n       3 C            0.0000     0.0000     0.0000 C             1 RES     \\n       4 H           -1.0900     0.0000     0.0000 H             1 RES     \\n       5 VS           0.5700    -0.0500    -0.0250 VS            2 PRT     \\n       6 VS           0.7700    -0.0500    -0.0250 VS            2 PRT     \\n       7 VS           0.4700     0.1500    -0.0250 VS            2 PRT     \\n       8 VS           0.3700    -0.0500     0.0750 VS            2 PRT     \\n       9 VS           0.5200     0.0500    -0.0250 VS            2 PRT     \\n      10 VS           0.3200     0.0500    -0.0250 VS            2 PRT     \\n      11 VS           0.6200    -0.1500    -0.0250 VS            2 PRT     \\n      12 VS           0.7200     0.0500     0.0750 VS            2 PRT     \\n      13 C           -0.0000    -0.0000     1.4000 C             3 RES     \\n      14 H            1.0900     0.0000     1.4000 H             3 RES     \\n      15 VS          -0.5700     0.0500     1.3750 VS            4 PRT     \\n      16 VS          -0.7700     0.0500     1.3750 VS            4 PRT     \\n      17 VS          -0.4700    -0.1500     1.3750 VS            4 PRT     \\n      18 VS          -0.3700     0.0500     1.4750 VS            4 PRT     \\n      19 VS          -0.5200    -0.0500     1.3750 VS            4 PRT     \\n      20 VS          -0.3200    -0.0500     1.3750 VS            4 PRT     \\n      21 VS          -0.6200     0.1500     1.3750 VS            4 PRT     \\n      22 VS          -0.7200    -0.0500     1.4750 VS            4 PRT     \\n      23 H            0.0000    -1.4000     1.4000 H             5 RES     \\n      24 VS           1.1150    -0.0500    -0.0250 VS            6 PRT     \\n      25 VS           1.3150    -0.0500    -0.0250 VS            6 PRT     \\n      26 VS           1.0150     0.1500    -0.0250 VS            6 PRT     \\n      27 VS           0.9150    -0.0500     0.0750 VS            6 PRT     \\n      28 VS           1.0650     0.0500    -0.0250 VS            6 PRT     \\n      29 VS           0.8650     0.0500    -0.0250 VS            6 PRT     \\n      30 VS           1.1650    -0.1500    -0.0250 VS            6 PRT     \\n      31 VS           1.2650     0.0500     0.0750 VS            6 PRT     \\n      32 VS          -1.1150     0.0500     1.3750 VS            6 PRT     \\n      33 VS          -1.3150     0.0500     1.3750 VS            6 PRT     \\n      34 VS          -1.0150    -0.1500     1.3750 VS            6 PRT     \\n      35 VS          -0.9150     0.0500     1.4750 VS            6 PRT     \\n      36 VS          -1.0650    -0.0500     1.3750 VS            6 PRT     \\n      37 VS          -0.8650    -0.0500     1.3750 VS            6 PRT     \\n      38 VS          -1.1650     0.1500     1.3750 VS            6 PRT     \\n      39 VS          -1.2650    -0.0500     1.4750 VS            6 PRT     \\n@<TRIPOS>BOND\\n       1        1        2 1\\n       2        1        3 1\\n       3        3        4 1\\n       4        3       13 1\\n       5       13       14 1\\n       6       13       23 1\\n@<TRIPOS>SUBSTRUCTURE\\n       1 RES             1 RESIDUE    0 **** ROOT      1\\n       2 PRT             5 RESIDUE    0 **** ROOT      0\\n       3 RES            13 RESIDUE    0 **** ROOT      2\\n       4 PRT            15 RESIDUE    0 **** ROOT      0\\n       5 RES            23 RESIDUE    0 **** ROOT      1\\n       6 PRT            24 RESIDUE    0 **** ROOT      0\\n\",\"mol2\");\n",
       "\tviewer_17585571968117352.setStyle({\"stick\": {\"radius\": 0.18, \"color\": \"grey\"}, \"sphere\": {\"scale\": 0.3, \"colorscheme\": {}}});\n",
       "\tviewer_17585571968117352.zoomTo();\n",
       "viewer_17585571968117352.render();\n",
       "});\n",
       "</script>"
      ]
     },
     "metadata": {},
     "output_type": "display_data"
    },
    {
     "data": {
      "text/plain": [
       "<py3Dmol.view at 0x7f2700354a30>"
      ]
     },
     "execution_count": 65,
     "metadata": {},
     "output_type": "execute_result"
    }
   ],
   "source": [
    "main_name = \"ethanol\"\n",
    "MB_molecule_to_create_monomer = Alcohol(chain_length=2)                                 \n",
    "first_port_monomer = \"COH\"\n",
    "second_port_monomer = \"CH3\"\n",
    "\n",
    "main_polymer_bead, end_bead = Builder_pipeline_Polymer(main_name,\n",
    "                                                       first_port = first_port_monomer,\n",
    "                                                       second_port = second_port_monomer,\n",
    "                                                       add_ports = True,\n",
    "                                                       rigid_port = False,\n",
    "                                                       fetch_compound = False,\n",
    "                                                       MB_compound = MB_molecule_to_create_monomer,\n",
    "                                                       factor_length = 1)\n",
    "\n",
    "\n",
    "repeat_units = 12 # Repeat Units in polymer chain\n",
    "polymer_compound_ = mb.recipes.Polymer(monomers=[main_polymer_bead])\n",
    "polymer_compound_.build( n=repeat_units,)\n",
    "main_polymer_bead.visualize(show_ports = True)"
   ]
  },
  {
   "cell_type": "markdown",
   "id": "349381f4",
   "metadata": {},
   "source": [
    "Alternatively, the polymer repeat unit can be prepared as a .mol2 or .pdb file and loaded into an mBuild compound, which can then be passed to the Polymer class.\n",
    "\n",
    "In this case we will build a repeat unit of PVA that is saturated with hydrogens, as one of the hydrogens at each end of the polymer must be removed to create\n",
    "the bond between repeat units"
   ]
  },
  {
   "cell_type": "code",
   "execution_count": 66,
   "id": "23cab5e5",
   "metadata": {},
   "outputs": [
    {
     "name": "stderr",
     "output_type": "stream",
     "text": [
      "/raid6/homes/ordoriaf/miniconda3/envs/andres/lib/python3.10/site-packages/mdtraj/core/trajectory.py:441: UserWarning: top= kwargs ignored since this file parser does not support it\n",
      "  warnings.warn(\"top= kwargs ignored since this file parser does not support it\")\n"
     ]
    },
    {
     "data": {
      "application/3dmoljs_load.v0": "<div id=\"3dmolviewer_1758557196847827\"  style=\"position: relative; width: 640px; height: 480px;\">\n        <p id=\"3dmolwarning_1758557196847827\" style=\"background-color:#ffcccc;color:black\">3Dmol.js failed to load for some reason.  Please check your browser console for error messages.<br></p>\n        </div>\n<script>\n\nvar loadScriptAsync = function(uri){\n  return new Promise((resolve, reject) => {\n    //this is to ignore the existence of requirejs amd\n    var savedexports, savedmodule;\n    if (typeof exports !== 'undefined') savedexports = exports;\n    else exports = {}\n    if (typeof module !== 'undefined') savedmodule = module;\n    else module = {}\n\n    var tag = document.createElement('script');\n    tag.src = uri;\n    tag.async = true;\n    tag.onload = () => {\n        exports = savedexports;\n        module = savedmodule;\n        resolve();\n    };\n  var firstScriptTag = document.getElementsByTagName('script')[0];\n  firstScriptTag.parentNode.insertBefore(tag, firstScriptTag);\n});\n};\n\nif(typeof $3Dmolpromise === 'undefined') {\n$3Dmolpromise = null;\n  $3Dmolpromise = loadScriptAsync('https://cdnjs.cloudflare.com/ajax/libs/3Dmol/2.2.1-post1/3Dmol-min.js');\n}\n\nvar viewer_1758557196847827 = null;\nvar warn = document.getElementById(\"3dmolwarning_1758557196847827\");\nif(warn) {\n    warn.parentNode.removeChild(warn);\n}\n$3Dmolpromise.then(function() {\nviewer_1758557196847827 = $3Dmol.createViewer(document.getElementById(\"3dmolviewer_1758557196847827\"),{backgroundColor:\"white\"});\nviewer_1758557196847827.zoomTo();\n\tviewer_1758557196847827.addModel(\"@<TRIPOS>MOLECULE\\nRES\\n9 8 1 0 1\\nSMALL\\nNO_CHARGES\\n@<TRIPOS>CRYSIN\\n    9.2281     8.7698     5.9004    90.0000    90.0000    90.0000 1 1\\n@<TRIPOS>ATOM\\n       1 C           -5.4256     1.0718    -0.0000 C             1 RES     \\n       2 C           -3.6663     1.0866    -0.0000 C             1 RES     \\n       3 O           -3.6515     2.5058    -0.0000 O             1 RES     \\n       4 H           -3.6368     3.6294    -0.0000 H             1 RES     \\n       5 H           -5.4403    -0.1404    -0.0000 H             1 RES     \\n       6 H           -3.6973     0.1610    -0.9004 H             1 RES     \\n       7 H           -2.4984     1.1162    -0.0000 H             1 RES     \\n       8 H           -6.7265     1.1014    -0.0000 H             1 RES     \\n       9 H           -5.4256     2.2988    -0.0000 H             1 RES     \\n@<TRIPOS>BOND\\n       1        1        2 1\\n       2        1        5 1\\n       3        1        8 1\\n       4        1        9 1\\n       5        2        3 1\\n       6        2        6 1\\n       7        2        7 1\\n       8        3        4 1\\n@<TRIPOS>SUBSTRUCTURE\\n       1 RES             1 RESIDUE    0 **** ROOT      0\\n\",\"mol2\");\n\tviewer_1758557196847827.setStyle({\"stick\": {\"radius\": 0.18, \"color\": \"grey\"}, \"sphere\": {\"scale\": 0.3, \"colorscheme\": {}}});\n\tviewer_1758557196847827.zoomTo();\nviewer_1758557196847827.render();\n});\n</script>",
      "text/html": [
       "<div id=\"3dmolviewer_1758557196847827\"  style=\"position: relative; width: 640px; height: 480px;\">\n",
       "        <p id=\"3dmolwarning_1758557196847827\" style=\"background-color:#ffcccc;color:black\">3Dmol.js failed to load for some reason.  Please check your browser console for error messages.<br></p>\n",
       "        </div>\n",
       "<script>\n",
       "\n",
       "var loadScriptAsync = function(uri){\n",
       "  return new Promise((resolve, reject) => {\n",
       "    //this is to ignore the existence of requirejs amd\n",
       "    var savedexports, savedmodule;\n",
       "    if (typeof exports !== 'undefined') savedexports = exports;\n",
       "    else exports = {}\n",
       "    if (typeof module !== 'undefined') savedmodule = module;\n",
       "    else module = {}\n",
       "\n",
       "    var tag = document.createElement('script');\n",
       "    tag.src = uri;\n",
       "    tag.async = true;\n",
       "    tag.onload = () => {\n",
       "        exports = savedexports;\n",
       "        module = savedmodule;\n",
       "        resolve();\n",
       "    };\n",
       "  var firstScriptTag = document.getElementsByTagName('script')[0];\n",
       "  firstScriptTag.parentNode.insertBefore(tag, firstScriptTag);\n",
       "});\n",
       "};\n",
       "\n",
       "if(typeof $3Dmolpromise === 'undefined') {\n",
       "$3Dmolpromise = null;\n",
       "  $3Dmolpromise = loadScriptAsync('https://cdnjs.cloudflare.com/ajax/libs/3Dmol/2.2.1-post1/3Dmol-min.js');\n",
       "}\n",
       "\n",
       "var viewer_1758557196847827 = null;\n",
       "var warn = document.getElementById(\"3dmolwarning_1758557196847827\");\n",
       "if(warn) {\n",
       "    warn.parentNode.removeChild(warn);\n",
       "}\n",
       "$3Dmolpromise.then(function() {\n",
       "viewer_1758557196847827 = $3Dmol.createViewer(document.getElementById(\"3dmolviewer_1758557196847827\"),{backgroundColor:\"white\"});\n",
       "viewer_1758557196847827.zoomTo();\n",
       "\tviewer_1758557196847827.addModel(\"@<TRIPOS>MOLECULE\\nRES\\n9 8 1 0 1\\nSMALL\\nNO_CHARGES\\n@<TRIPOS>CRYSIN\\n    9.2281     8.7698     5.9004    90.0000    90.0000    90.0000 1 1\\n@<TRIPOS>ATOM\\n       1 C           -5.4256     1.0718    -0.0000 C             1 RES     \\n       2 C           -3.6663     1.0866    -0.0000 C             1 RES     \\n       3 O           -3.6515     2.5058    -0.0000 O             1 RES     \\n       4 H           -3.6368     3.6294    -0.0000 H             1 RES     \\n       5 H           -5.4403    -0.1404    -0.0000 H             1 RES     \\n       6 H           -3.6973     0.1610    -0.9004 H             1 RES     \\n       7 H           -2.4984     1.1162    -0.0000 H             1 RES     \\n       8 H           -6.7265     1.1014    -0.0000 H             1 RES     \\n       9 H           -5.4256     2.2988    -0.0000 H             1 RES     \\n@<TRIPOS>BOND\\n       1        1        2 1\\n       2        1        5 1\\n       3        1        8 1\\n       4        1        9 1\\n       5        2        3 1\\n       6        2        6 1\\n       7        2        7 1\\n       8        3        4 1\\n@<TRIPOS>SUBSTRUCTURE\\n       1 RES             1 RESIDUE    0 **** ROOT      0\\n\",\"mol2\");\n",
       "\tviewer_1758557196847827.setStyle({\"stick\": {\"radius\": 0.18, \"color\": \"grey\"}, \"sphere\": {\"scale\": 0.3, \"colorscheme\": {}}});\n",
       "\tviewer_1758557196847827.zoomTo();\n",
       "viewer_1758557196847827.render();\n",
       "});\n",
       "</script>"
      ]
     },
     "metadata": {},
     "output_type": "display_data"
    },
    {
     "data": {
      "text/plain": [
       "<py3Dmol.view at 0x7f26fbe81420>"
      ]
     },
     "execution_count": 66,
     "metadata": {},
     "output_type": "execute_result"
    }
   ],
   "source": [
    "repeat_unit_from_file = mb.load('files/PVA_repeat_unit.mol2')\n",
    "repeat_unit_from_file.visualize()"
   ]
  },
  {
   "cell_type": "markdown",
   "id": "e507e6e7",
   "metadata": {},
   "source": [
    "When loading a compound from a file, ports must be added to define the connection points. These ports allow the Polymer class to determine where bonds should be formed between repeat units.\n",
    "\n",
    "For more information refer to: https://mbuild.mosdef.org/en/stable/getting_started/quick_start/polymer_example.html\n",
    "\n",
    "In this case, the bond takes place between:\n",
    "\n",
    "    1. Carbon atom with three bonds (-H, -H, -C); CH3\n",
    "    2. Carbon atom with three bonds (-H, -O, -C); COH2\n",
    "\n",
    "For this we will define the ports manually in a dictionary:"
   ]
  },
  {
   "cell_type": "code",
   "execution_count": 67,
   "id": "c4da4909",
   "metadata": {},
   "outputs": [],
   "source": [
    "ports_to_add = {\n",
    "    \"CH3\" : [\n",
    "        [\"C\",  # The first atom is the \"anchor\" or base atom \n",
    "          \"H\", \"H\", \"H\", \"C\"], # Bonded atoms to Carbon \n",
    "        [\"H\"], # Atom to remove and create port\n",
    "        [4], # Total number of bonds in carbon atom \n",
    "        ],\n",
    "\n",
    "     \"COH2\" : [\n",
    "        [\"C\", # The first atom is the \"anchor\" or base atom \n",
    "          \"O\", \"H\", \"H\", \"C\"], # Bonded atoms to Carbon \n",
    "        [\"H\"], # Atom to remove and create port\n",
    "        [4], # Total number of bonds in carbon atom \n",
    "        ],\n",
    "}"
   ]
  },
  {
   "cell_type": "markdown",
   "id": "664a33a0",
   "metadata": {},
   "source": [
    "Once we define the ports that are added, we will add labels so the Polymer class can determine where the bonds should be created"
   ]
  },
  {
   "cell_type": "code",
   "execution_count": 68,
   "id": "012b8373",
   "metadata": {},
   "outputs": [
    {
     "name": "stdout",
     "output_type": "stream",
     "text": [
      "Added ports to the molecule\n",
      "Added 2 ports to the molecule\n"
     ]
    }
   ],
   "source": [
    "compound_1_port = Add_port_CR(repeat_unit_from_file,\n",
    "                                type = \"CH3\",\n",
    "                                name = \"up\",\n",
    "                                manual_ports= True,\n",
    "                                ports_dict = ports_to_add)    \n",
    "    \n",
    "print(\"Added ports to the molecule\")\n",
    "tmp_cmp = mb.clone(compound_1_port)\n",
    "\n",
    "#Adding second port to the repeat unit        \n",
    "compound_with_2_ports = Add_port_CR(tmp_cmp,\n",
    "                                    type = \"COH2\",\n",
    "                                    name = \"down\",\n",
    "                                    manual_ports= True,\n",
    "                                    ports_dict = ports_to_add)      \n",
    "print(\"Added 2 ports to the molecule\")"
   ]
  },
  {
   "cell_type": "code",
   "execution_count": 69,
   "id": "d284bf83",
   "metadata": {},
   "outputs": [
    {
     "data": {
      "application/3dmoljs_load.v0": "<div id=\"3dmolviewer_17585571968876302\"  style=\"position: relative; width: 640px; height: 480px;\">\n        <p id=\"3dmolwarning_17585571968876302\" style=\"background-color:#ffcccc;color:black\">3Dmol.js failed to load for some reason.  Please check your browser console for error messages.<br></p>\n        </div>\n<script>\n\nvar loadScriptAsync = function(uri){\n  return new Promise((resolve, reject) => {\n    //this is to ignore the existence of requirejs amd\n    var savedexports, savedmodule;\n    if (typeof exports !== 'undefined') savedexports = exports;\n    else exports = {}\n    if (typeof module !== 'undefined') savedmodule = module;\n    else module = {}\n\n    var tag = document.createElement('script');\n    tag.src = uri;\n    tag.async = true;\n    tag.onload = () => {\n        exports = savedexports;\n        module = savedmodule;\n        resolve();\n    };\n  var firstScriptTag = document.getElementsByTagName('script')[0];\n  firstScriptTag.parentNode.insertBefore(tag, firstScriptTag);\n});\n};\n\nif(typeof $3Dmolpromise === 'undefined') {\n$3Dmolpromise = null;\n  $3Dmolpromise = loadScriptAsync('https://cdnjs.cloudflare.com/ajax/libs/3Dmol/2.2.1-post1/3Dmol-min.js');\n}\n\nvar viewer_17585571968876302 = null;\nvar warn = document.getElementById(\"3dmolwarning_17585571968876302\");\nif(warn) {\n    warn.parentNode.removeChild(warn);\n}\n$3Dmolpromise.then(function() {\nviewer_17585571968876302 = $3Dmol.createViewer(document.getElementById(\"3dmolviewer_17585571968876302\"),{backgroundColor:\"white\"});\nviewer_17585571968876302.zoomTo();\n\tviewer_17585571968876302.addModel(\"@<TRIPOS>MOLECULE\\nRES\\n39 6 2 0 1\\nBIOPOLYMER\\nNO_CHARGES\\n@<TRIPOS>CRYSIN\\n    9.2281     7.5576     6.0000    90.0000    90.0000    90.0000 1 1\\n@<TRIPOS>ATOM\\n       1 C           -5.4256     1.0718    -0.0000 C             1 RES     \\n       2 C           -3.6663     1.0866    -0.0000 C             1 RES     \\n       3 O           -3.6515     2.5058    -0.0000 O             1 RES     \\n       4 H           -3.6368     3.6294    -0.0000 H             1 RES     \\n       5 H           -2.4984     1.1162    -0.0000 H             1 RES     \\n       6 H           -6.7265     1.1014    -0.0000 H             1 RES     \\n       7 H           -5.4256     2.2988    -0.0000 H             1 RES     \\n       8 VS          -5.4832     0.4413    -0.0250 VS            2 PRT     \\n       9 VS          -5.4857     0.2413    -0.0250 VS            2 PRT     \\n      10 VS          -5.2821     0.5389    -0.0250 VS            2 PRT     \\n      11 VS          -5.4808     0.6413     0.0750 VS            2 PRT     \\n      12 VS          -5.3827     0.4901    -0.0250 VS            2 PRT     \\n      13 VS          -5.3802     0.6901    -0.0250 VS            2 PRT     \\n      14 VS          -5.5838     0.3925    -0.0250 VS            2 PRT     \\n      15 VS          -5.3851     0.2901     0.0750 VS            2 PRT     \\n      16 VS          -3.6310     0.5897    -0.4527 VS            2 PRT     \\n      17 VS          -3.6358     0.4463    -0.5921 VS            2 PRT     \\n      18 VS          -3.8282     0.6565    -0.3712 VS            2 PRT     \\n      19 VS          -3.6321     0.8027    -0.3848 VS            2 PRT     \\n      20 VS          -3.6310     0.6579    -0.4512 VS            2 PRT     \\n      21 VS          -3.6262     0.8013    -0.3118 VS            2 PRT     \\n      22 VS          -3.8333     0.5911    -0.5189 VS            2 PRT     \\n      23 VS          -3.6367     0.4449    -0.5189 VS            2 PRT     \\n      24 VS          -5.4906    -0.1648    -0.0250 VS            2 PRT     \\n      25 VS          -5.4930    -0.3648    -0.0250 VS            2 PRT     \\n      26 VS          -5.2894    -0.0672    -0.0250 VS            2 PRT     \\n      27 VS          -5.4882     0.0352     0.0750 VS            2 PRT     \\n      28 VS          -5.3900    -0.1160    -0.0250 VS            2 PRT     \\n      29 VS          -5.3876     0.0840    -0.0250 VS            2 PRT     \\n      30 VS          -5.5912    -0.2136    -0.0250 VS            2 PRT     \\n      31 VS          -5.3924    -0.3160     0.0750 VS            2 PRT     \\n      32 VS          -3.6465     0.1269    -0.9029 VS            2 PRT     \\n      33 VS          -3.6513    -0.0165    -1.0423 VS            2 PRT     \\n      34 VS          -3.8437     0.1937    -0.8214 VS            2 PRT     \\n      35 VS          -3.6476     0.3399    -0.8350 VS            2 PRT     \\n      36 VS          -3.6465     0.1951    -0.9014 VS            2 PRT     \\n      37 VS          -3.6417     0.3385    -0.7620 VS            2 PRT     \\n      38 VS          -3.8488     0.1283    -0.9691 VS            2 PRT     \\n      39 VS          -3.6522    -0.0179    -0.9691 VS            2 PRT     \\n@<TRIPOS>BOND\\n       1        1        2 1\\n       2        1        6 1\\n       3        1        7 1\\n       4        2        3 1\\n       5        2        5 1\\n       6        3        4 1\\n@<TRIPOS>SUBSTRUCTURE\\n       1 RES             1 RESIDUE    0 **** ROOT      0\\n       2 PRT             8 RESIDUE    0 **** ROOT      0\\n\",\"mol2\");\n\tviewer_17585571968876302.setStyle({\"stick\": {\"radius\": 0.18, \"color\": \"grey\"}, \"sphere\": {\"scale\": 0.3, \"colorscheme\": {}}});\n\tviewer_17585571968876302.zoomTo();\nviewer_17585571968876302.render();\n});\n</script>",
      "text/html": [
       "<div id=\"3dmolviewer_17585571968876302\"  style=\"position: relative; width: 640px; height: 480px;\">\n",
       "        <p id=\"3dmolwarning_17585571968876302\" style=\"background-color:#ffcccc;color:black\">3Dmol.js failed to load for some reason.  Please check your browser console for error messages.<br></p>\n",
       "        </div>\n",
       "<script>\n",
       "\n",
       "var loadScriptAsync = function(uri){\n",
       "  return new Promise((resolve, reject) => {\n",
       "    //this is to ignore the existence of requirejs amd\n",
       "    var savedexports, savedmodule;\n",
       "    if (typeof exports !== 'undefined') savedexports = exports;\n",
       "    else exports = {}\n",
       "    if (typeof module !== 'undefined') savedmodule = module;\n",
       "    else module = {}\n",
       "\n",
       "    var tag = document.createElement('script');\n",
       "    tag.src = uri;\n",
       "    tag.async = true;\n",
       "    tag.onload = () => {\n",
       "        exports = savedexports;\n",
       "        module = savedmodule;\n",
       "        resolve();\n",
       "    };\n",
       "  var firstScriptTag = document.getElementsByTagName('script')[0];\n",
       "  firstScriptTag.parentNode.insertBefore(tag, firstScriptTag);\n",
       "});\n",
       "};\n",
       "\n",
       "if(typeof $3Dmolpromise === 'undefined') {\n",
       "$3Dmolpromise = null;\n",
       "  $3Dmolpromise = loadScriptAsync('https://cdnjs.cloudflare.com/ajax/libs/3Dmol/2.2.1-post1/3Dmol-min.js');\n",
       "}\n",
       "\n",
       "var viewer_17585571968876302 = null;\n",
       "var warn = document.getElementById(\"3dmolwarning_17585571968876302\");\n",
       "if(warn) {\n",
       "    warn.parentNode.removeChild(warn);\n",
       "}\n",
       "$3Dmolpromise.then(function() {\n",
       "viewer_17585571968876302 = $3Dmol.createViewer(document.getElementById(\"3dmolviewer_17585571968876302\"),{backgroundColor:\"white\"});\n",
       "viewer_17585571968876302.zoomTo();\n",
       "\tviewer_17585571968876302.addModel(\"@<TRIPOS>MOLECULE\\nRES\\n39 6 2 0 1\\nBIOPOLYMER\\nNO_CHARGES\\n@<TRIPOS>CRYSIN\\n    9.2281     7.5576     6.0000    90.0000    90.0000    90.0000 1 1\\n@<TRIPOS>ATOM\\n       1 C           -5.4256     1.0718    -0.0000 C             1 RES     \\n       2 C           -3.6663     1.0866    -0.0000 C             1 RES     \\n       3 O           -3.6515     2.5058    -0.0000 O             1 RES     \\n       4 H           -3.6368     3.6294    -0.0000 H             1 RES     \\n       5 H           -2.4984     1.1162    -0.0000 H             1 RES     \\n       6 H           -6.7265     1.1014    -0.0000 H             1 RES     \\n       7 H           -5.4256     2.2988    -0.0000 H             1 RES     \\n       8 VS          -5.4832     0.4413    -0.0250 VS            2 PRT     \\n       9 VS          -5.4857     0.2413    -0.0250 VS            2 PRT     \\n      10 VS          -5.2821     0.5389    -0.0250 VS            2 PRT     \\n      11 VS          -5.4808     0.6413     0.0750 VS            2 PRT     \\n      12 VS          -5.3827     0.4901    -0.0250 VS            2 PRT     \\n      13 VS          -5.3802     0.6901    -0.0250 VS            2 PRT     \\n      14 VS          -5.5838     0.3925    -0.0250 VS            2 PRT     \\n      15 VS          -5.3851     0.2901     0.0750 VS            2 PRT     \\n      16 VS          -3.6310     0.5897    -0.4527 VS            2 PRT     \\n      17 VS          -3.6358     0.4463    -0.5921 VS            2 PRT     \\n      18 VS          -3.8282     0.6565    -0.3712 VS            2 PRT     \\n      19 VS          -3.6321     0.8027    -0.3848 VS            2 PRT     \\n      20 VS          -3.6310     0.6579    -0.4512 VS            2 PRT     \\n      21 VS          -3.6262     0.8013    -0.3118 VS            2 PRT     \\n      22 VS          -3.8333     0.5911    -0.5189 VS            2 PRT     \\n      23 VS          -3.6367     0.4449    -0.5189 VS            2 PRT     \\n      24 VS          -5.4906    -0.1648    -0.0250 VS            2 PRT     \\n      25 VS          -5.4930    -0.3648    -0.0250 VS            2 PRT     \\n      26 VS          -5.2894    -0.0672    -0.0250 VS            2 PRT     \\n      27 VS          -5.4882     0.0352     0.0750 VS            2 PRT     \\n      28 VS          -5.3900    -0.1160    -0.0250 VS            2 PRT     \\n      29 VS          -5.3876     0.0840    -0.0250 VS            2 PRT     \\n      30 VS          -5.5912    -0.2136    -0.0250 VS            2 PRT     \\n      31 VS          -5.3924    -0.3160     0.0750 VS            2 PRT     \\n      32 VS          -3.6465     0.1269    -0.9029 VS            2 PRT     \\n      33 VS          -3.6513    -0.0165    -1.0423 VS            2 PRT     \\n      34 VS          -3.8437     0.1937    -0.8214 VS            2 PRT     \\n      35 VS          -3.6476     0.3399    -0.8350 VS            2 PRT     \\n      36 VS          -3.6465     0.1951    -0.9014 VS            2 PRT     \\n      37 VS          -3.6417     0.3385    -0.7620 VS            2 PRT     \\n      38 VS          -3.8488     0.1283    -0.9691 VS            2 PRT     \\n      39 VS          -3.6522    -0.0179    -0.9691 VS            2 PRT     \\n@<TRIPOS>BOND\\n       1        1        2 1\\n       2        1        6 1\\n       3        1        7 1\\n       4        2        3 1\\n       5        2        5 1\\n       6        3        4 1\\n@<TRIPOS>SUBSTRUCTURE\\n       1 RES             1 RESIDUE    0 **** ROOT      0\\n       2 PRT             8 RESIDUE    0 **** ROOT      0\\n\",\"mol2\");\n",
       "\tviewer_17585571968876302.setStyle({\"stick\": {\"radius\": 0.18, \"color\": \"grey\"}, \"sphere\": {\"scale\": 0.3, \"colorscheme\": {}}});\n",
       "\tviewer_17585571968876302.zoomTo();\n",
       "viewer_17585571968876302.render();\n",
       "});\n",
       "</script>"
      ]
     },
     "metadata": {},
     "output_type": "display_data"
    },
    {
     "data": {
      "text/plain": [
       "<py3Dmol.view at 0x7f26fbb006a0>"
      ]
     },
     "execution_count": 69,
     "metadata": {},
     "output_type": "execute_result"
    }
   ],
   "source": [
    "compound_with_2_ports.visualize(show_ports= True)"
   ]
  },
  {
   "cell_type": "markdown",
   "id": "f9708d57",
   "metadata": {},
   "source": [
    "As shown in the previous visualization, ports are added at the positions where hydrogens were originally located. However, if the placement of ports requires more caution or the molecular chemistry is more complex, the initial repeat unit can be modified to include “dummy” atoms, making the addition of ports easier."
   ]
  },
  {
   "cell_type": "code",
   "execution_count": 70,
   "id": "c581d4c5",
   "metadata": {},
   "outputs": [
    {
     "name": "stderr",
     "output_type": "stream",
     "text": [
      "/raid6/homes/ordoriaf/miniconda3/envs/andres/lib/python3.10/site-packages/mdtraj/core/trajectory.py:441: UserWarning: top= kwargs ignored since this file parser does not support it\n",
      "  warnings.warn(\"top= kwargs ignored since this file parser does not support it\")\n"
     ]
    },
    {
     "data": {
      "application/3dmoljs_load.v0": "<div id=\"3dmolviewer_17585571969151108\"  style=\"position: relative; width: 640px; height: 480px;\">\n        <p id=\"3dmolwarning_17585571969151108\" style=\"background-color:#ffcccc;color:black\">3Dmol.js failed to load for some reason.  Please check your browser console for error messages.<br></p>\n        </div>\n<script>\n\nvar loadScriptAsync = function(uri){\n  return new Promise((resolve, reject) => {\n    //this is to ignore the existence of requirejs amd\n    var savedexports, savedmodule;\n    if (typeof exports !== 'undefined') savedexports = exports;\n    else exports = {}\n    if (typeof module !== 'undefined') savedmodule = module;\n    else module = {}\n\n    var tag = document.createElement('script');\n    tag.src = uri;\n    tag.async = true;\n    tag.onload = () => {\n        exports = savedexports;\n        module = savedmodule;\n        resolve();\n    };\n  var firstScriptTag = document.getElementsByTagName('script')[0];\n  firstScriptTag.parentNode.insertBefore(tag, firstScriptTag);\n});\n};\n\nif(typeof $3Dmolpromise === 'undefined') {\n$3Dmolpromise = null;\n  $3Dmolpromise = loadScriptAsync('https://cdnjs.cloudflare.com/ajax/libs/3Dmol/2.2.1-post1/3Dmol-min.js');\n}\n\nvar viewer_17585571969151108 = null;\nvar warn = document.getElementById(\"3dmolwarning_17585571969151108\");\nif(warn) {\n    warn.parentNode.removeChild(warn);\n}\n$3Dmolpromise.then(function() {\nviewer_17585571969151108 = $3Dmol.createViewer(document.getElementById(\"3dmolviewer_17585571969151108\"),{backgroundColor:\"white\"});\nviewer_17585571969151108.zoomTo();\n\tviewer_17585571969151108.addModel(\"@<TRIPOS>MOLECULE\\nRES\\n9 8 1 0 1\\nSMALL\\nNO_CHARGES\\n@<TRIPOS>CRYSIN\\n    9.8195     8.8146     6.0000    90.0000    90.0000    90.0000 1 1\\n@<TRIPOS>ATOM\\n       1 C           -4.6693     1.5738     0.0000 C             1 RES     \\n       2 C           -2.9391     1.6155     0.0001 C             1 RES     \\n       3 H           -4.6901     2.8245     0.0000 H             1 RES     \\n       4 H           -4.6484     0.3648     0.0000 H             1 RES     \\n       5 H           -2.8975     0.4482     0.0001 H             1 RES     \\n       6 H           -2.9391     4.1794     0.0001 H             1 RES     \\n       7 O           -2.9600     3.1163     0.0001 O             1 RES     \\n       8 B           -6.2630     1.5124     0.0001 B             1 RES     \\n       9 B           -1.4435     1.6454     0.0000 B             1 RES     \\n@<TRIPOS>BOND\\n       1        1        2 1\\n       2        1        3 1\\n       3        1        4 1\\n       4        1        8 1\\n       5        2        5 1\\n       6        2        7 1\\n       7        2        9 1\\n       8        6        7 1\\n@<TRIPOS>SUBSTRUCTURE\\n       1 RES             1 RESIDUE    0 **** ROOT      0\\n\",\"mol2\");\n\tviewer_17585571969151108.setStyle({\"stick\": {\"radius\": 0.18, \"color\": \"grey\"}, \"sphere\": {\"scale\": 0.3, \"colorscheme\": {}}});\n\tviewer_17585571969151108.zoomTo();\nviewer_17585571969151108.render();\n});\n</script>",
      "text/html": [
       "<div id=\"3dmolviewer_17585571969151108\"  style=\"position: relative; width: 640px; height: 480px;\">\n",
       "        <p id=\"3dmolwarning_17585571969151108\" style=\"background-color:#ffcccc;color:black\">3Dmol.js failed to load for some reason.  Please check your browser console for error messages.<br></p>\n",
       "        </div>\n",
       "<script>\n",
       "\n",
       "var loadScriptAsync = function(uri){\n",
       "  return new Promise((resolve, reject) => {\n",
       "    //this is to ignore the existence of requirejs amd\n",
       "    var savedexports, savedmodule;\n",
       "    if (typeof exports !== 'undefined') savedexports = exports;\n",
       "    else exports = {}\n",
       "    if (typeof module !== 'undefined') savedmodule = module;\n",
       "    else module = {}\n",
       "\n",
       "    var tag = document.createElement('script');\n",
       "    tag.src = uri;\n",
       "    tag.async = true;\n",
       "    tag.onload = () => {\n",
       "        exports = savedexports;\n",
       "        module = savedmodule;\n",
       "        resolve();\n",
       "    };\n",
       "  var firstScriptTag = document.getElementsByTagName('script')[0];\n",
       "  firstScriptTag.parentNode.insertBefore(tag, firstScriptTag);\n",
       "});\n",
       "};\n",
       "\n",
       "if(typeof $3Dmolpromise === 'undefined') {\n",
       "$3Dmolpromise = null;\n",
       "  $3Dmolpromise = loadScriptAsync('https://cdnjs.cloudflare.com/ajax/libs/3Dmol/2.2.1-post1/3Dmol-min.js');\n",
       "}\n",
       "\n",
       "var viewer_17585571969151108 = null;\n",
       "var warn = document.getElementById(\"3dmolwarning_17585571969151108\");\n",
       "if(warn) {\n",
       "    warn.parentNode.removeChild(warn);\n",
       "}\n",
       "$3Dmolpromise.then(function() {\n",
       "viewer_17585571969151108 = $3Dmol.createViewer(document.getElementById(\"3dmolviewer_17585571969151108\"),{backgroundColor:\"white\"});\n",
       "viewer_17585571969151108.zoomTo();\n",
       "\tviewer_17585571969151108.addModel(\"@<TRIPOS>MOLECULE\\nRES\\n9 8 1 0 1\\nSMALL\\nNO_CHARGES\\n@<TRIPOS>CRYSIN\\n    9.8195     8.8146     6.0000    90.0000    90.0000    90.0000 1 1\\n@<TRIPOS>ATOM\\n       1 C           -4.6693     1.5738     0.0000 C             1 RES     \\n       2 C           -2.9391     1.6155     0.0001 C             1 RES     \\n       3 H           -4.6901     2.8245     0.0000 H             1 RES     \\n       4 H           -4.6484     0.3648     0.0000 H             1 RES     \\n       5 H           -2.8975     0.4482     0.0001 H             1 RES     \\n       6 H           -2.9391     4.1794     0.0001 H             1 RES     \\n       7 O           -2.9600     3.1163     0.0001 O             1 RES     \\n       8 B           -6.2630     1.5124     0.0001 B             1 RES     \\n       9 B           -1.4435     1.6454     0.0000 B             1 RES     \\n@<TRIPOS>BOND\\n       1        1        2 1\\n       2        1        3 1\\n       3        1        4 1\\n       4        1        8 1\\n       5        2        5 1\\n       6        2        7 1\\n       7        2        9 1\\n       8        6        7 1\\n@<TRIPOS>SUBSTRUCTURE\\n       1 RES             1 RESIDUE    0 **** ROOT      0\\n\",\"mol2\");\n",
       "\tviewer_17585571969151108.setStyle({\"stick\": {\"radius\": 0.18, \"color\": \"grey\"}, \"sphere\": {\"scale\": 0.3, \"colorscheme\": {}}});\n",
       "\tviewer_17585571969151108.zoomTo();\n",
       "viewer_17585571969151108.render();\n",
       "});\n",
       "</script>"
      ]
     },
     "metadata": {},
     "output_type": "display_data"
    },
    {
     "data": {
      "text/plain": [
       "<py3Dmol.view at 0x7f2784267970>"
      ]
     },
     "execution_count": 70,
     "metadata": {},
     "output_type": "execute_result"
    }
   ],
   "source": [
    "repeat_unit_from_file_dummy_atoms = mb.load('files/PVA_repeat_unit_dummy_atoms.mol2')\n",
    "repeat_unit_from_file_dummy_atoms.visualize()"
   ]
  },
  {
   "cell_type": "markdown",
   "id": "9fe68669",
   "metadata": {},
   "source": [
    "In this repeat unit file, a selected set of hydrogens was replaced with boron atoms, allowing the placement of ports to be directly controlled."
   ]
  },
  {
   "cell_type": "code",
   "execution_count": 71,
   "id": "e9802126",
   "metadata": {},
   "outputs": [],
   "source": [
    "ports_to_add_Dummy_atoms = {\n",
    "    \"CH2-B\" : [\n",
    "        [\"C\",  # The first atom is the \"anchor\" or base atom \n",
    "          \"B\", \"H\", \"H\", \"C\"], # Bonded atoms to Carbon \n",
    "        [\"B\"], # Atom to remove and create port\n",
    "        [4], # Total number of bonds in carbon atom \n",
    "        ],\n",
    "\n",
    "     \"COH-B\" : [\n",
    "        [\"C\", # The first atom is the \"anchor\" or base atom \n",
    "          \"O\", \"B\", \"H\", \"C\"], # Bonded atoms to Carbon \n",
    "        [\"B\"], # Atom to remove and create port\n",
    "        [4], # Total number of bonds in carbon atom \n",
    "        ],\n",
    "}"
   ]
  },
  {
   "cell_type": "code",
   "execution_count": 72,
   "id": "5779a6da",
   "metadata": {},
   "outputs": [
    {
     "name": "stdout",
     "output_type": "stream",
     "text": [
      "Added ports to the molecule\n",
      "Added 2 ports to the molecule\n"
     ]
    }
   ],
   "source": [
    "compound_1_port_DA = Add_port_CR(repeat_unit_from_file_dummy_atoms,\n",
    "                                type = \"CH2-B\",\n",
    "                                name = \"up\",\n",
    "                                manual_ports= True,\n",
    "                                ports_dict = ports_to_add_Dummy_atoms)    \n",
    "    \n",
    "print(\"Added ports to the molecule\")\n",
    "tmp_cmp_DA = mb.clone(compound_1_port_DA)\n",
    "\n",
    "#Adding second port to the repeat unit        \n",
    "compound_with_2_ports_DA = Add_port_CR(tmp_cmp_DA,\n",
    "                                    type = \"COH-B\",\n",
    "                                    name = \"down\",\n",
    "                                    manual_ports= True,\n",
    "                                    ports_dict = ports_to_add_Dummy_atoms)      \n",
    "print(\"Added 2 ports to the molecule\")"
   ]
  },
  {
   "cell_type": "code",
   "execution_count": 73,
   "id": "1e96bb50",
   "metadata": {},
   "outputs": [
    {
     "data": {
      "application/3dmoljs_load.v0": "<div id=\"3dmolviewer_17585571969570384\"  style=\"position: relative; width: 640px; height: 480px;\">\n        <p id=\"3dmolwarning_17585571969570384\" style=\"background-color:#ffcccc;color:black\">3Dmol.js failed to load for some reason.  Please check your browser console for error messages.<br></p>\n        </div>\n<script>\n\nvar loadScriptAsync = function(uri){\n  return new Promise((resolve, reject) => {\n    //this is to ignore the existence of requirejs amd\n    var savedexports, savedmodule;\n    if (typeof exports !== 'undefined') savedexports = exports;\n    else exports = {}\n    if (typeof module !== 'undefined') savedmodule = module;\n    else module = {}\n\n    var tag = document.createElement('script');\n    tag.src = uri;\n    tag.async = true;\n    tag.onload = () => {\n        exports = savedexports;\n        module = savedmodule;\n        resolve();\n    };\n  var firstScriptTag = document.getElementsByTagName('script')[0];\n  firstScriptTag.parentNode.insertBefore(tag, firstScriptTag);\n});\n};\n\nif(typeof $3Dmolpromise === 'undefined') {\n$3Dmolpromise = null;\n  $3Dmolpromise = loadScriptAsync('https://cdnjs.cloudflare.com/ajax/libs/3Dmol/2.2.1-post1/3Dmol-min.js');\n}\n\nvar viewer_17585571969570384 = null;\nvar warn = document.getElementById(\"3dmolwarning_17585571969570384\");\nif(warn) {\n    warn.parentNode.removeChild(warn);\n}\n$3Dmolpromise.then(function() {\nviewer_17585571969570384 = $3Dmol.createViewer(document.getElementById(\"3dmolviewer_17585571969570384\"),{backgroundColor:\"white\"});\nviewer_17585571969570384.zoomTo();\n\tviewer_17585571969570384.addModel(\"@<TRIPOS>MOLECULE\\nRES\\n39 6 2 0 1\\nBIOPOLYMER\\nNO_CHARGES\\n@<TRIPOS>CRYSIN\\n    6.7926     8.8146     6.0000    90.0000    90.0000    90.0000 1 1\\n@<TRIPOS>ATOM\\n       1 C           -4.6693     1.5738     0.0000 C             1 RES     \\n       2 C           -2.9391     1.6155     0.0001 C             1 RES     \\n       3 H           -4.6901     2.8245     0.0000 H             1 RES     \\n       4 H           -4.6484     0.3648     0.0000 H             1 RES     \\n       5 H           -2.8975     0.4482     0.0001 H             1 RES     \\n       6 H           -2.9391     4.1794     0.0001 H             1 RES     \\n       7 O           -2.9600     3.1163     0.0001 O             1 RES     \\n       8 VS          -5.4931     1.5921    -0.0249 VS            2 PRT     \\n       9 VS          -5.6929     1.5844    -0.0249 VS            2 PRT     \\n      10 VS          -5.3854     1.3961    -0.0250 VS            2 PRT     \\n      11 VS          -5.2932     1.5998     0.0750 VS            2 PRT     \\n      12 VS          -5.4392     1.4941    -0.0249 VS            2 PRT     \\n      13 VS          -5.2394     1.5018    -0.0250 VS            2 PRT     \\n      14 VS          -5.5469     1.6901    -0.0250 VS            2 PRT     \\n      15 VS          -5.6391     1.4864     0.0751 VS            2 PRT     \\n      16 VS          -2.1653     1.5810    -0.0249 VS            2 PRT     \\n      17 VS          -1.9653     1.5850    -0.0250 VS            2 PRT     \\n      18 VS          -2.2693     1.7789    -0.0250 VS            2 PRT     \\n      19 VS          -2.3653     1.5770     0.0751 VS            2 PRT     \\n      20 VS          -2.2173     1.6799    -0.0249 VS            2 PRT     \\n      21 VS          -2.4173     1.6759    -0.0249 VS            2 PRT     \\n      22 VS          -2.1133     1.4820    -0.0250 VS            2 PRT     \\n      23 VS          -2.0173     1.6839     0.0750 VS            2 PRT     \\n      24 VS          -6.2899     1.5614    -0.0249 VS            2 PRT     \\n      25 VS          -6.4898     1.5537    -0.0249 VS            2 PRT     \\n      26 VS          -6.1823     1.3654    -0.0249 VS            2 PRT     \\n      27 VS          -6.0900     1.5691     0.0751 VS            2 PRT     \\n      28 VS          -6.2361     1.4634    -0.0249 VS            2 PRT     \\n      29 VS          -6.0362     1.4711    -0.0249 VS            2 PRT     \\n      30 VS          -6.3437     1.6594    -0.0249 VS            2 PRT     \\n      31 VS          -6.4359     1.4557     0.0751 VS            2 PRT     \\n      32 VS          -1.4175     1.5959    -0.0250 VS            2 PRT     \\n      33 VS          -1.2175     1.5999    -0.0250 VS            2 PRT     \\n      34 VS          -1.5215     1.7939    -0.0250 VS            2 PRT     \\n      35 VS          -1.6175     1.5919     0.0750 VS            2 PRT     \\n      36 VS          -1.4695     1.6949    -0.0250 VS            2 PRT     \\n      37 VS          -1.6695     1.6909    -0.0250 VS            2 PRT     \\n      38 VS          -1.3655     1.4969    -0.0250 VS            2 PRT     \\n      39 VS          -1.2695     1.6989     0.0750 VS            2 PRT     \\n@<TRIPOS>BOND\\n       1        1        2 1\\n       2        1        3 1\\n       3        1        4 1\\n       4        2        5 1\\n       5        2        7 1\\n       6        6        7 1\\n@<TRIPOS>SUBSTRUCTURE\\n       1 RES             1 RESIDUE    0 **** ROOT      0\\n       2 PRT             8 RESIDUE    0 **** ROOT      0\\n\",\"mol2\");\n\tviewer_17585571969570384.setStyle({\"stick\": {\"radius\": 0.18, \"color\": \"grey\"}, \"sphere\": {\"scale\": 0.3, \"colorscheme\": {}}});\n\tviewer_17585571969570384.zoomTo();\nviewer_17585571969570384.render();\n});\n</script>",
      "text/html": [
       "<div id=\"3dmolviewer_17585571969570384\"  style=\"position: relative; width: 640px; height: 480px;\">\n",
       "        <p id=\"3dmolwarning_17585571969570384\" style=\"background-color:#ffcccc;color:black\">3Dmol.js failed to load for some reason.  Please check your browser console for error messages.<br></p>\n",
       "        </div>\n",
       "<script>\n",
       "\n",
       "var loadScriptAsync = function(uri){\n",
       "  return new Promise((resolve, reject) => {\n",
       "    //this is to ignore the existence of requirejs amd\n",
       "    var savedexports, savedmodule;\n",
       "    if (typeof exports !== 'undefined') savedexports = exports;\n",
       "    else exports = {}\n",
       "    if (typeof module !== 'undefined') savedmodule = module;\n",
       "    else module = {}\n",
       "\n",
       "    var tag = document.createElement('script');\n",
       "    tag.src = uri;\n",
       "    tag.async = true;\n",
       "    tag.onload = () => {\n",
       "        exports = savedexports;\n",
       "        module = savedmodule;\n",
       "        resolve();\n",
       "    };\n",
       "  var firstScriptTag = document.getElementsByTagName('script')[0];\n",
       "  firstScriptTag.parentNode.insertBefore(tag, firstScriptTag);\n",
       "});\n",
       "};\n",
       "\n",
       "if(typeof $3Dmolpromise === 'undefined') {\n",
       "$3Dmolpromise = null;\n",
       "  $3Dmolpromise = loadScriptAsync('https://cdnjs.cloudflare.com/ajax/libs/3Dmol/2.2.1-post1/3Dmol-min.js');\n",
       "}\n",
       "\n",
       "var viewer_17585571969570384 = null;\n",
       "var warn = document.getElementById(\"3dmolwarning_17585571969570384\");\n",
       "if(warn) {\n",
       "    warn.parentNode.removeChild(warn);\n",
       "}\n",
       "$3Dmolpromise.then(function() {\n",
       "viewer_17585571969570384 = $3Dmol.createViewer(document.getElementById(\"3dmolviewer_17585571969570384\"),{backgroundColor:\"white\"});\n",
       "viewer_17585571969570384.zoomTo();\n",
       "\tviewer_17585571969570384.addModel(\"@<TRIPOS>MOLECULE\\nRES\\n39 6 2 0 1\\nBIOPOLYMER\\nNO_CHARGES\\n@<TRIPOS>CRYSIN\\n    6.7926     8.8146     6.0000    90.0000    90.0000    90.0000 1 1\\n@<TRIPOS>ATOM\\n       1 C           -4.6693     1.5738     0.0000 C             1 RES     \\n       2 C           -2.9391     1.6155     0.0001 C             1 RES     \\n       3 H           -4.6901     2.8245     0.0000 H             1 RES     \\n       4 H           -4.6484     0.3648     0.0000 H             1 RES     \\n       5 H           -2.8975     0.4482     0.0001 H             1 RES     \\n       6 H           -2.9391     4.1794     0.0001 H             1 RES     \\n       7 O           -2.9600     3.1163     0.0001 O             1 RES     \\n       8 VS          -5.4931     1.5921    -0.0249 VS            2 PRT     \\n       9 VS          -5.6929     1.5844    -0.0249 VS            2 PRT     \\n      10 VS          -5.3854     1.3961    -0.0250 VS            2 PRT     \\n      11 VS          -5.2932     1.5998     0.0750 VS            2 PRT     \\n      12 VS          -5.4392     1.4941    -0.0249 VS            2 PRT     \\n      13 VS          -5.2394     1.5018    -0.0250 VS            2 PRT     \\n      14 VS          -5.5469     1.6901    -0.0250 VS            2 PRT     \\n      15 VS          -5.6391     1.4864     0.0751 VS            2 PRT     \\n      16 VS          -2.1653     1.5810    -0.0249 VS            2 PRT     \\n      17 VS          -1.9653     1.5850    -0.0250 VS            2 PRT     \\n      18 VS          -2.2693     1.7789    -0.0250 VS            2 PRT     \\n      19 VS          -2.3653     1.5770     0.0751 VS            2 PRT     \\n      20 VS          -2.2173     1.6799    -0.0249 VS            2 PRT     \\n      21 VS          -2.4173     1.6759    -0.0249 VS            2 PRT     \\n      22 VS          -2.1133     1.4820    -0.0250 VS            2 PRT     \\n      23 VS          -2.0173     1.6839     0.0750 VS            2 PRT     \\n      24 VS          -6.2899     1.5614    -0.0249 VS            2 PRT     \\n      25 VS          -6.4898     1.5537    -0.0249 VS            2 PRT     \\n      26 VS          -6.1823     1.3654    -0.0249 VS            2 PRT     \\n      27 VS          -6.0900     1.5691     0.0751 VS            2 PRT     \\n      28 VS          -6.2361     1.4634    -0.0249 VS            2 PRT     \\n      29 VS          -6.0362     1.4711    -0.0249 VS            2 PRT     \\n      30 VS          -6.3437     1.6594    -0.0249 VS            2 PRT     \\n      31 VS          -6.4359     1.4557     0.0751 VS            2 PRT     \\n      32 VS          -1.4175     1.5959    -0.0250 VS            2 PRT     \\n      33 VS          -1.2175     1.5999    -0.0250 VS            2 PRT     \\n      34 VS          -1.5215     1.7939    -0.0250 VS            2 PRT     \\n      35 VS          -1.6175     1.5919     0.0750 VS            2 PRT     \\n      36 VS          -1.4695     1.6949    -0.0250 VS            2 PRT     \\n      37 VS          -1.6695     1.6909    -0.0250 VS            2 PRT     \\n      38 VS          -1.3655     1.4969    -0.0250 VS            2 PRT     \\n      39 VS          -1.2695     1.6989     0.0750 VS            2 PRT     \\n@<TRIPOS>BOND\\n       1        1        2 1\\n       2        1        3 1\\n       3        1        4 1\\n       4        2        5 1\\n       5        2        7 1\\n       6        6        7 1\\n@<TRIPOS>SUBSTRUCTURE\\n       1 RES             1 RESIDUE    0 **** ROOT      0\\n       2 PRT             8 RESIDUE    0 **** ROOT      0\\n\",\"mol2\");\n",
       "\tviewer_17585571969570384.setStyle({\"stick\": {\"radius\": 0.18, \"color\": \"grey\"}, \"sphere\": {\"scale\": 0.3, \"colorscheme\": {}}});\n",
       "\tviewer_17585571969570384.zoomTo();\n",
       "viewer_17585571969570384.render();\n",
       "});\n",
       "</script>"
      ]
     },
     "metadata": {},
     "output_type": "display_data"
    },
    {
     "data": {
      "text/plain": [
       "<py3Dmol.view at 0x7f26fbcc1bd0>"
      ]
     },
     "execution_count": 73,
     "metadata": {},
     "output_type": "execute_result"
    }
   ],
   "source": [
    "compound_with_2_ports_DA.visualize(show_ports= True)"
   ]
  },
  {
   "cell_type": "markdown",
   "id": "305e7ad4",
   "metadata": {},
   "source": [
    "Finally we take the repeat unit, and pass it to the Polymer class defining the number of repeat units:"
   ]
  },
  {
   "cell_type": "code",
   "execution_count": 74,
   "id": "ca8163ae",
   "metadata": {},
   "outputs": [
    {
     "data": {
      "application/3dmoljs_load.v0": "<div id=\"3dmolviewer_17585571970665543\"  style=\"position: relative; width: 640px; height: 480px;\">\n        <p id=\"3dmolwarning_17585571970665543\" style=\"background-color:#ffcccc;color:black\">3Dmol.js failed to load for some reason.  Please check your browser console for error messages.<br></p>\n        </div>\n<script>\n\nvar loadScriptAsync = function(uri){\n  return new Promise((resolve, reject) => {\n    //this is to ignore the existence of requirejs amd\n    var savedexports, savedmodule;\n    if (typeof exports !== 'undefined') savedexports = exports;\n    else exports = {}\n    if (typeof module !== 'undefined') savedmodule = module;\n    else module = {}\n\n    var tag = document.createElement('script');\n    tag.src = uri;\n    tag.async = true;\n    tag.onload = () => {\n        exports = savedexports;\n        module = savedmodule;\n        resolve();\n    };\n  var firstScriptTag = document.getElementsByTagName('script')[0];\n  firstScriptTag.parentNode.insertBefore(tag, firstScriptTag);\n});\n};\n\nif(typeof $3Dmolpromise === 'undefined') {\n$3Dmolpromise = null;\n  $3Dmolpromise = loadScriptAsync('https://cdnjs.cloudflare.com/ajax/libs/3Dmol/2.2.1-post1/3Dmol-min.js');\n}\n\nvar viewer_17585571970665543 = null;\nvar warn = document.getElementById(\"3dmolwarning_17585571970665543\");\nif(warn) {\n    warn.parentNode.removeChild(warn);\n}\n$3Dmolpromise.then(function() {\nviewer_17585571970665543 = $3Dmol.createViewer(document.getElementById(\"3dmolviewer_17585571970665543\"),{backgroundColor:\"white\"});\nviewer_17585571970665543.zoomTo();\n\tviewer_17585571970665543.addModel(\"@<TRIPOS>MOLECULE\\nRES\\n86 85 1 0 1\\nSMALL\\nNO_CHARGES\\n@<TRIPOS>CRYSIN\\n   61.6831    12.9001     6.0000    90.0000    90.0000    90.0000 1 1\\n@<TRIPOS>ATOM\\n       1 C           -4.6693     1.5738     0.0000 C             1 RES     \\n       2 C           -2.9391     1.6155     0.0001 C             1 RES     \\n       3 H           -4.6901     2.8245     0.0000 H             1 RES     \\n       4 H           -4.6484     0.3648     0.0000 H             1 RES     \\n       5 H           -2.8975     0.4482     0.0001 H             1 RES     \\n       6 H           -2.9391     4.1794     0.0001 H             1 RES     \\n       7 O           -2.9600     3.1163     0.0001 O             1 RES     \\n       8 C            0.1511     1.6773    -0.0001 C             1 RES     \\n       9 C            1.8817     1.6869    -0.0000 C             1 RES     \\n      10 H            0.1534     2.9281    -0.0001 H             1 RES     \\n      11 H            0.1496     0.4681    -0.0001 H             1 RES     \\n      12 H            1.9017     0.5191    -0.0000 H             1 RES     \\n      13 H            1.9292     4.2504    -0.0000 H             1 RES     \\n      14 O            1.8886     3.1879    -0.0000 O             1 RES     \\n      15 C            4.9725     1.6915    -0.0002 C             1 RES     \\n      16 C            6.7031     1.6691    -0.0001 C             1 RES     \\n      17 H            4.9980     2.9421    -0.0002 H             1 RES     \\n      18 H            4.9486     0.4825    -0.0002 H             1 RES     \\n      19 H            6.7014     0.5010    -0.0001 H             1 RES     \\n      20 H            6.7980     4.2312    -0.0002 H             1 RES     \\n      21 O            6.7378     3.1696    -0.0002 O             1 RES     \\n      22 C            9.7934     1.6164    -0.0004 C             1 RES     \\n      23 C           11.5233     1.5620    -0.0003 C             1 RES     \\n      24 H            9.8421     2.8663    -0.0004 H             1 RES     \\n      25 H            9.7471     0.4081    -0.0004 H             1 RES     \\n      26 H           11.5000     0.3942    -0.0003 H             1 RES     \\n      27 H           11.6656     4.1219    -0.0003 H             1 RES     \\n      28 O           11.5857     3.0616    -0.0003 O             1 RES     \\n      29 C           14.6121     1.4521    -0.0005 C             1 RES     \\n      30 C           16.3406     1.3656    -0.0005 C             1 RES     \\n      31 H           14.6839     2.7009    -0.0006 H             1 RES     \\n      32 H           14.5434     0.2448    -0.0005 H             1 RES     \\n      33 H           16.2957     0.1984    -0.0004 H             1 RES     \\n      34 H           16.5304     3.9225    -0.0005 H             1 RES     \\n      35 O           16.4308     2.8638    -0.0005 O             1 RES     \\n      36 C           19.4269     1.1985    -0.0007 C             1 RES     \\n      37 C           21.1535     1.0801    -0.0007 C             1 RES     \\n      38 H           19.5218     2.4458    -0.0008 H             1 RES     \\n      39 H           19.3359    -0.0072    -0.0007 H             1 RES     \\n      40 H           21.0870    -0.0861    -0.0006 H             1 RES     \\n      41 H           21.3906     3.6330    -0.0007 H             1 RES     \\n      42 O           21.2715     2.5764    -0.0007 O             1 RES     \\n      43 C           24.2362     0.8559    -0.0009 C             1 RES     \\n      44 C           25.9603     0.7055    -0.0009 C             1 RES     \\n      45 H           24.3542     2.1012    -0.0010 H             1 RES     \\n      46 H           24.1229    -0.3480    -0.0009 H             1 RES     \\n      47 H           25.8722    -0.4593    -0.0008 H             1 RES     \\n      48 H           26.2446     3.2535    -0.0009 H             1 RES     \\n      49 O           26.1060     2.1993    -0.0009 O             1 RES     \\n      50 C           29.0383     0.4242    -0.0011 C             1 RES     \\n      51 C           30.7594     0.2419    -0.0011 C             1 RES     \\n      52 H           29.1793     1.6671    -0.0012 H             1 RES     \\n      53 H           28.9027    -0.7773    -0.0011 H             1 RES     \\n      54 H           30.6497    -0.9210    -0.0010 H             1 RES     \\n      55 H           31.0908     2.7843    -0.0012 H             1 RES     \\n      56 O           30.9326     1.7328    -0.0011 O             1 RES     \\n      57 C           33.8316    -0.0963    -0.0014 C             1 RES     \\n      58 C           35.5490    -0.3104    -0.0013 C             1 RES     \\n      59 H           33.9956     1.1438    -0.0014 H             1 RES     \\n      60 H           33.6738    -1.2951    -0.0013 H             1 RES     \\n      61 H           35.4178    -1.4711    -0.0013 H             1 RES     \\n      62 H           35.9274     2.2254    -0.0014 H             1 RES     \\n      63 O           35.7498     1.1770    -0.0014 O             1 RES     \\n      64 C           38.6144    -0.7055    -0.0016 C             1 RES     \\n      65 C           40.3276    -0.9514    -0.0016 C             1 RES     \\n      66 H           38.8014     0.5314    -0.0017 H             1 RES     \\n      67 H           38.4345    -1.9012    -0.0016 H             1 RES     \\n      68 H           40.1749    -2.1094    -0.0015 H             1 RES     \\n      69 H           40.7529     1.5770    -0.0017 H             1 RES     \\n      70 O           40.5559     0.5321    -0.0017 O             1 RES     \\n      71 C           43.3851    -1.4031    -0.0019 C             1 RES     \\n      72 C           45.0934    -1.6807    -0.0019 C             1 RES     \\n      73 H           43.5950    -0.1699    -0.0020 H             1 RES     \\n      74 H           43.1831    -2.5953    -0.0018 H             1 RES     \\n      75 H           44.9194    -2.8357    -0.0018 H             1 RES     \\n      76 H           45.5655     0.8394    -0.0020 H             1 RES     \\n      77 O           45.3492    -0.2017    -0.0019 O             1 RES     \\n      78 C           48.1421    -2.1889    -0.0022 C             1 RES     \\n      79 C           49.8450    -2.4981    -0.0021 C             1 RES     \\n      80 H           48.3748    -0.9599    -0.0022 H             1 RES     \\n      81 H           47.9180    -3.3772    -0.0021 H             1 RES     \\n      82 H           49.6496    -3.6497    -0.0021 H             1 RES     \\n      83 H           50.3637     0.0128    -0.0023 H             1 RES     \\n      84 O           50.1281    -1.0241    -0.0022 O             1 RES     \\n      85 H           -5.7625     1.5317     0.0001 H             1 RES     \\n      86 H           50.9206    -2.6980    -0.0023 H             1 RES     \\n@<TRIPOS>BOND\\n       1        1        2 1\\n       2        1        3 1\\n       3        1        4 1\\n       4        1       85 1\\n       5        2        5 1\\n       6        2        7 1\\n       7        2        8 1\\n       8        6        7 1\\n       9        8        9 1\\n      10        8       10 1\\n      11        8       11 1\\n      12        9       12 1\\n      13        9       14 1\\n      14        9       15 1\\n      15       13       14 1\\n      16       15       16 1\\n      17       15       17 1\\n      18       15       18 1\\n      19       16       19 1\\n      20       16       21 1\\n      21       16       22 1\\n      22       20       21 1\\n      23       22       23 1\\n      24       22       24 1\\n      25       22       25 1\\n      26       23       26 1\\n      27       23       28 1\\n      28       23       29 1\\n      29       27       28 1\\n      30       29       30 1\\n      31       29       31 1\\n      32       29       32 1\\n      33       30       33 1\\n      34       30       35 1\\n      35       30       36 1\\n      36       34       35 1\\n      37       36       37 1\\n      38       36       38 1\\n      39       36       39 1\\n      40       37       40 1\\n      41       37       42 1\\n      42       37       43 1\\n      43       41       42 1\\n      44       43       44 1\\n      45       43       45 1\\n      46       43       46 1\\n      47       44       47 1\\n      48       44       49 1\\n      49       44       50 1\\n      50       48       49 1\\n      51       50       51 1\\n      52       50       52 1\\n      53       50       53 1\\n      54       51       54 1\\n      55       51       56 1\\n      56       51       57 1\\n      57       55       56 1\\n      58       57       58 1\\n      59       57       59 1\\n      60       57       60 1\\n      61       58       61 1\\n      62       58       63 1\\n      63       58       64 1\\n      64       62       63 1\\n      65       64       65 1\\n      66       64       66 1\\n      67       64       67 1\\n      68       65       68 1\\n      69       65       70 1\\n      70       65       71 1\\n      71       69       70 1\\n      72       71       72 1\\n      73       71       73 1\\n      74       71       74 1\\n      75       72       75 1\\n      76       72       77 1\\n      77       72       78 1\\n      78       76       77 1\\n      79       78       79 1\\n      80       78       80 1\\n      81       78       81 1\\n      82       79       82 1\\n      83       79       84 1\\n      84       79       86 1\\n      85       83       84 1\\n@<TRIPOS>SUBSTRUCTURE\\n       1 RES             1 RESIDUE    0 **** ROOT      0\\n\",\"mol2\");\n\tviewer_17585571970665543.setStyle({\"stick\": {\"radius\": 0.18, \"color\": \"grey\"}, \"sphere\": {\"scale\": 0.3, \"colorscheme\": {}}});\n\tviewer_17585571970665543.zoomTo();\nviewer_17585571970665543.render();\n});\n</script>",
      "text/html": [
       "<div id=\"3dmolviewer_17585571970665543\"  style=\"position: relative; width: 640px; height: 480px;\">\n",
       "        <p id=\"3dmolwarning_17585571970665543\" style=\"background-color:#ffcccc;color:black\">3Dmol.js failed to load for some reason.  Please check your browser console for error messages.<br></p>\n",
       "        </div>\n",
       "<script>\n",
       "\n",
       "var loadScriptAsync = function(uri){\n",
       "  return new Promise((resolve, reject) => {\n",
       "    //this is to ignore the existence of requirejs amd\n",
       "    var savedexports, savedmodule;\n",
       "    if (typeof exports !== 'undefined') savedexports = exports;\n",
       "    else exports = {}\n",
       "    if (typeof module !== 'undefined') savedmodule = module;\n",
       "    else module = {}\n",
       "\n",
       "    var tag = document.createElement('script');\n",
       "    tag.src = uri;\n",
       "    tag.async = true;\n",
       "    tag.onload = () => {\n",
       "        exports = savedexports;\n",
       "        module = savedmodule;\n",
       "        resolve();\n",
       "    };\n",
       "  var firstScriptTag = document.getElementsByTagName('script')[0];\n",
       "  firstScriptTag.parentNode.insertBefore(tag, firstScriptTag);\n",
       "});\n",
       "};\n",
       "\n",
       "if(typeof $3Dmolpromise === 'undefined') {\n",
       "$3Dmolpromise = null;\n",
       "  $3Dmolpromise = loadScriptAsync('https://cdnjs.cloudflare.com/ajax/libs/3Dmol/2.2.1-post1/3Dmol-min.js');\n",
       "}\n",
       "\n",
       "var viewer_17585571970665543 = null;\n",
       "var warn = document.getElementById(\"3dmolwarning_17585571970665543\");\n",
       "if(warn) {\n",
       "    warn.parentNode.removeChild(warn);\n",
       "}\n",
       "$3Dmolpromise.then(function() {\n",
       "viewer_17585571970665543 = $3Dmol.createViewer(document.getElementById(\"3dmolviewer_17585571970665543\"),{backgroundColor:\"white\"});\n",
       "viewer_17585571970665543.zoomTo();\n",
       "\tviewer_17585571970665543.addModel(\"@<TRIPOS>MOLECULE\\nRES\\n86 85 1 0 1\\nSMALL\\nNO_CHARGES\\n@<TRIPOS>CRYSIN\\n   61.6831    12.9001     6.0000    90.0000    90.0000    90.0000 1 1\\n@<TRIPOS>ATOM\\n       1 C           -4.6693     1.5738     0.0000 C             1 RES     \\n       2 C           -2.9391     1.6155     0.0001 C             1 RES     \\n       3 H           -4.6901     2.8245     0.0000 H             1 RES     \\n       4 H           -4.6484     0.3648     0.0000 H             1 RES     \\n       5 H           -2.8975     0.4482     0.0001 H             1 RES     \\n       6 H           -2.9391     4.1794     0.0001 H             1 RES     \\n       7 O           -2.9600     3.1163     0.0001 O             1 RES     \\n       8 C            0.1511     1.6773    -0.0001 C             1 RES     \\n       9 C            1.8817     1.6869    -0.0000 C             1 RES     \\n      10 H            0.1534     2.9281    -0.0001 H             1 RES     \\n      11 H            0.1496     0.4681    -0.0001 H             1 RES     \\n      12 H            1.9017     0.5191    -0.0000 H             1 RES     \\n      13 H            1.9292     4.2504    -0.0000 H             1 RES     \\n      14 O            1.8886     3.1879    -0.0000 O             1 RES     \\n      15 C            4.9725     1.6915    -0.0002 C             1 RES     \\n      16 C            6.7031     1.6691    -0.0001 C             1 RES     \\n      17 H            4.9980     2.9421    -0.0002 H             1 RES     \\n      18 H            4.9486     0.4825    -0.0002 H             1 RES     \\n      19 H            6.7014     0.5010    -0.0001 H             1 RES     \\n      20 H            6.7980     4.2312    -0.0002 H             1 RES     \\n      21 O            6.7378     3.1696    -0.0002 O             1 RES     \\n      22 C            9.7934     1.6164    -0.0004 C             1 RES     \\n      23 C           11.5233     1.5620    -0.0003 C             1 RES     \\n      24 H            9.8421     2.8663    -0.0004 H             1 RES     \\n      25 H            9.7471     0.4081    -0.0004 H             1 RES     \\n      26 H           11.5000     0.3942    -0.0003 H             1 RES     \\n      27 H           11.6656     4.1219    -0.0003 H             1 RES     \\n      28 O           11.5857     3.0616    -0.0003 O             1 RES     \\n      29 C           14.6121     1.4521    -0.0005 C             1 RES     \\n      30 C           16.3406     1.3656    -0.0005 C             1 RES     \\n      31 H           14.6839     2.7009    -0.0006 H             1 RES     \\n      32 H           14.5434     0.2448    -0.0005 H             1 RES     \\n      33 H           16.2957     0.1984    -0.0004 H             1 RES     \\n      34 H           16.5304     3.9225    -0.0005 H             1 RES     \\n      35 O           16.4308     2.8638    -0.0005 O             1 RES     \\n      36 C           19.4269     1.1985    -0.0007 C             1 RES     \\n      37 C           21.1535     1.0801    -0.0007 C             1 RES     \\n      38 H           19.5218     2.4458    -0.0008 H             1 RES     \\n      39 H           19.3359    -0.0072    -0.0007 H             1 RES     \\n      40 H           21.0870    -0.0861    -0.0006 H             1 RES     \\n      41 H           21.3906     3.6330    -0.0007 H             1 RES     \\n      42 O           21.2715     2.5764    -0.0007 O             1 RES     \\n      43 C           24.2362     0.8559    -0.0009 C             1 RES     \\n      44 C           25.9603     0.7055    -0.0009 C             1 RES     \\n      45 H           24.3542     2.1012    -0.0010 H             1 RES     \\n      46 H           24.1229    -0.3480    -0.0009 H             1 RES     \\n      47 H           25.8722    -0.4593    -0.0008 H             1 RES     \\n      48 H           26.2446     3.2535    -0.0009 H             1 RES     \\n      49 O           26.1060     2.1993    -0.0009 O             1 RES     \\n      50 C           29.0383     0.4242    -0.0011 C             1 RES     \\n      51 C           30.7594     0.2419    -0.0011 C             1 RES     \\n      52 H           29.1793     1.6671    -0.0012 H             1 RES     \\n      53 H           28.9027    -0.7773    -0.0011 H             1 RES     \\n      54 H           30.6497    -0.9210    -0.0010 H             1 RES     \\n      55 H           31.0908     2.7843    -0.0012 H             1 RES     \\n      56 O           30.9326     1.7328    -0.0011 O             1 RES     \\n      57 C           33.8316    -0.0963    -0.0014 C             1 RES     \\n      58 C           35.5490    -0.3104    -0.0013 C             1 RES     \\n      59 H           33.9956     1.1438    -0.0014 H             1 RES     \\n      60 H           33.6738    -1.2951    -0.0013 H             1 RES     \\n      61 H           35.4178    -1.4711    -0.0013 H             1 RES     \\n      62 H           35.9274     2.2254    -0.0014 H             1 RES     \\n      63 O           35.7498     1.1770    -0.0014 O             1 RES     \\n      64 C           38.6144    -0.7055    -0.0016 C             1 RES     \\n      65 C           40.3276    -0.9514    -0.0016 C             1 RES     \\n      66 H           38.8014     0.5314    -0.0017 H             1 RES     \\n      67 H           38.4345    -1.9012    -0.0016 H             1 RES     \\n      68 H           40.1749    -2.1094    -0.0015 H             1 RES     \\n      69 H           40.7529     1.5770    -0.0017 H             1 RES     \\n      70 O           40.5559     0.5321    -0.0017 O             1 RES     \\n      71 C           43.3851    -1.4031    -0.0019 C             1 RES     \\n      72 C           45.0934    -1.6807    -0.0019 C             1 RES     \\n      73 H           43.5950    -0.1699    -0.0020 H             1 RES     \\n      74 H           43.1831    -2.5953    -0.0018 H             1 RES     \\n      75 H           44.9194    -2.8357    -0.0018 H             1 RES     \\n      76 H           45.5655     0.8394    -0.0020 H             1 RES     \\n      77 O           45.3492    -0.2017    -0.0019 O             1 RES     \\n      78 C           48.1421    -2.1889    -0.0022 C             1 RES     \\n      79 C           49.8450    -2.4981    -0.0021 C             1 RES     \\n      80 H           48.3748    -0.9599    -0.0022 H             1 RES     \\n      81 H           47.9180    -3.3772    -0.0021 H             1 RES     \\n      82 H           49.6496    -3.6497    -0.0021 H             1 RES     \\n      83 H           50.3637     0.0128    -0.0023 H             1 RES     \\n      84 O           50.1281    -1.0241    -0.0022 O             1 RES     \\n      85 H           -5.7625     1.5317     0.0001 H             1 RES     \\n      86 H           50.9206    -2.6980    -0.0023 H             1 RES     \\n@<TRIPOS>BOND\\n       1        1        2 1\\n       2        1        3 1\\n       3        1        4 1\\n       4        1       85 1\\n       5        2        5 1\\n       6        2        7 1\\n       7        2        8 1\\n       8        6        7 1\\n       9        8        9 1\\n      10        8       10 1\\n      11        8       11 1\\n      12        9       12 1\\n      13        9       14 1\\n      14        9       15 1\\n      15       13       14 1\\n      16       15       16 1\\n      17       15       17 1\\n      18       15       18 1\\n      19       16       19 1\\n      20       16       21 1\\n      21       16       22 1\\n      22       20       21 1\\n      23       22       23 1\\n      24       22       24 1\\n      25       22       25 1\\n      26       23       26 1\\n      27       23       28 1\\n      28       23       29 1\\n      29       27       28 1\\n      30       29       30 1\\n      31       29       31 1\\n      32       29       32 1\\n      33       30       33 1\\n      34       30       35 1\\n      35       30       36 1\\n      36       34       35 1\\n      37       36       37 1\\n      38       36       38 1\\n      39       36       39 1\\n      40       37       40 1\\n      41       37       42 1\\n      42       37       43 1\\n      43       41       42 1\\n      44       43       44 1\\n      45       43       45 1\\n      46       43       46 1\\n      47       44       47 1\\n      48       44       49 1\\n      49       44       50 1\\n      50       48       49 1\\n      51       50       51 1\\n      52       50       52 1\\n      53       50       53 1\\n      54       51       54 1\\n      55       51       56 1\\n      56       51       57 1\\n      57       55       56 1\\n      58       57       58 1\\n      59       57       59 1\\n      60       57       60 1\\n      61       58       61 1\\n      62       58       63 1\\n      63       58       64 1\\n      64       62       63 1\\n      65       64       65 1\\n      66       64       66 1\\n      67       64       67 1\\n      68       65       68 1\\n      69       65       70 1\\n      70       65       71 1\\n      71       69       70 1\\n      72       71       72 1\\n      73       71       73 1\\n      74       71       74 1\\n      75       72       75 1\\n      76       72       77 1\\n      77       72       78 1\\n      78       76       77 1\\n      79       78       79 1\\n      80       78       80 1\\n      81       78       81 1\\n      82       79       82 1\\n      83       79       84 1\\n      84       79       86 1\\n      85       83       84 1\\n@<TRIPOS>SUBSTRUCTURE\\n       1 RES             1 RESIDUE    0 **** ROOT      0\\n\",\"mol2\");\n",
       "\tviewer_17585571970665543.setStyle({\"stick\": {\"radius\": 0.18, \"color\": \"grey\"}, \"sphere\": {\"scale\": 0.3, \"colorscheme\": {}}});\n",
       "\tviewer_17585571970665543.zoomTo();\n",
       "viewer_17585571970665543.render();\n",
       "});\n",
       "</script>"
      ]
     },
     "metadata": {},
     "output_type": "display_data"
    },
    {
     "data": {
      "text/plain": [
       "<py3Dmol.view at 0x7f27841cde10>"
      ]
     },
     "execution_count": 74,
     "metadata": {},
     "output_type": "execute_result"
    }
   ],
   "source": [
    "repeat_units = 12 # Repeat Units in polymer chain\n",
    "polymer_compound_ = mb.recipes.Polymer(monomers=[compound_with_2_ports_DA])\n",
    "polymer_compound_.build( n=repeat_units,)\n",
    "polymer_compound_.visualize()"
   ]
  },
  {
   "cell_type": "markdown",
   "id": "03b1da11",
   "metadata": {},
   "source": [
    "The compound can now be saved to a mol2 file or pdb:"
   ]
  },
  {
   "cell_type": "code",
   "execution_count": 75,
   "id": "c31e1cd3",
   "metadata": {},
   "outputs": [],
   "source": [
    "for suffix in [\"mol2\", \"pdb\"]:\n",
    "    polymer_compound_.save(f\"output/12_RU_PVA.{suffix}\")\n"
   ]
  }
 ],
 "metadata": {
  "kernelspec": {
   "display_name": "andres",
   "language": "python",
   "name": "python3"
  },
  "language_info": {
   "codemirror_mode": {
    "name": "ipython",
    "version": 3
   },
   "file_extension": ".py",
   "mimetype": "text/x-python",
   "name": "python",
   "nbconvert_exporter": "python",
   "pygments_lexer": "ipython3",
   "version": "3.10.14"
  }
 },
 "nbformat": 4,
 "nbformat_minor": 5
}
